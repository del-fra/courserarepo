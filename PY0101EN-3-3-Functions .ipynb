{
  "nbformat": 4,
  "nbformat_minor": 0,
  "metadata": {
    "kernelspec": {
      "display_name": "Python 3",
      "language": "python",
      "name": "python3"
    },
    "language_info": {
      "codemirror_mode": {
        "name": "ipython",
        "version": 3
      },
      "file_extension": ".py",
      "mimetype": "text/x-python",
      "name": "python",
      "nbconvert_exporter": "python",
      "pygments_lexer": "ipython3",
      "version": "3.7.6"
    },
    "colab": {
      "name": "PY0101EN-3-3-Functions .ipynb",
      "provenance": [],
      "include_colab_link": true
    }
  },
  "cells": [
    {
      "cell_type": "markdown",
      "metadata": {
        "id": "view-in-github",
        "colab_type": "text"
      },
      "source": [
        "<a href=\"https://colab.research.google.com/github/del-fra/courserarepo/blob/main/PY0101EN-3-3-Functions%20.ipynb\" target=\"_parent\"><img src=\"https://colab.research.google.com/assets/colab-badge.svg\" alt=\"Open In Colab\"/></a>"
      ]
    },
    {
      "cell_type": "markdown",
      "metadata": {
        "id": "hmbZgNzCyxZa"
      },
      "source": [
        "<center>\n",
        "    <img src=\"https://cf-courses-data.s3.us.cloud-object-storage.appdomain.cloud/IBMDeveloperSkillsNetwork-PY0101EN-SkillsNetwork/IDSNlogo.png\" width=\"300\" alt=\"cognitiveclass.ai logo\"  />\n",
        "</center>\n",
        "\n",
        "# Functions in Python\n",
        "\n",
        "Estimated time needed: **40** minutes\n",
        "\n",
        "## Objectives\n",
        "\n",
        "After completing this lab you will be able to:\n",
        "\n",
        "*   Understand functions and variables\n",
        "*   Work with functions and variables\n"
      ]
    },
    {
      "cell_type": "markdown",
      "metadata": {
        "id": "ZAMb-gJ8yxZg"
      },
      "source": [
        "<h1>Functions in Python</h1>\n"
      ]
    },
    {
      "cell_type": "markdown",
      "metadata": {
        "id": "H4O4PprQyxZg"
      },
      "source": [
        "<p><strong>Welcome!</strong> This notebook will teach you about the functions in the Python Programming Language. By the end of this lab, you'll know the basic concepts about function, variables, and how to use functions.</p>\n"
      ]
    },
    {
      "cell_type": "markdown",
      "metadata": {
        "id": "wo7s6pOCyxZh"
      },
      "source": [
        "<h2>Table of Contents</h2>\n",
        "<div class=\"alert alert-block alert-info\" style=\"margin-top: 20px\">\n",
        "    <ul>\n",
        "        <li>\n",
        "            <a href=\"https://#func\">Functions</a>\n",
        "            <ul>\n",
        "                <li><a href=\"https://content/?utm_medium=Exinfluencer&utm_source=Exinfluencer&utm_content=000026UJ&utm_term=10006555&utm_id=NA-SkillsNetwork-Channel-SkillsNetworkCoursesIBMDeveloperSkillsNetworkPY0101ENSkillsNetwork19487395-2021-01-01\">What is a function?</a></li>\n",
        "                <li><a href=\"https://var/?utm_medium=Exinfluencer&utm_source=Exinfluencer&utm_content=000026UJ&utm_term=10006555&utm_id=NA-SkillsNetwork-Channel-SkillsNetworkCoursesIBMDeveloperSkillsNetworkPY0101ENSkillsNetwork19487395-2021-01-01\">Variables</a></li>\n",
        "                <li><a href=\"https://simple/?utm_medium=Exinfluencer&utm_source=Exinfluencer&utm_content=000026UJ&utm_term=10006555&utm_id=NA-SkillsNetwork-Channel-SkillsNetworkCoursesIBMDeveloperSkillsNetworkPY0101ENSkillsNetwork19487395-2021-01-01\">Functions Make Things Simple</a></li>\n",
        "            </ul>\n",
        "        </li>\n",
        "        <li><a href=\"https://pre/?utm_medium=Exinfluencer&utm_source=Exinfluencer&utm_content=000026UJ&utm_term=10006555&utm_id=NA-SkillsNetwork-Channel-SkillsNetworkCoursesIBMDeveloperSkillsNetworkPY0101ENSkillsNetwork19487395-2021-01-01\">Pre-defined functions</a></li>\n",
        "        <li><a href=\"https://if/?utm_medium=Exinfluencer&utm_source=Exinfluencer&utm_content=000026UJ&utm_term=10006555&utm_id=NA-SkillsNetwork-Channel-SkillsNetworkCoursesIBMDeveloperSkillsNetworkPY0101ENSkillsNetwork19487395-2021-01-01\">Using <code>if</code>/<code>else</code> Statements and Loops in Functions</a></li>\n",
        "        <li><a href=\"https://default/?utm_medium=Exinfluencer&utm_source=Exinfluencer&utm_content=000026UJ&utm_term=10006555&utm_id=NA-SkillsNetwork-Channel-SkillsNetworkCoursesIBMDeveloperSkillsNetworkPY0101ENSkillsNetwork19487395-2021-01-01\">Setting default argument values in your custom functions</a></li>\n",
        "        <li><a href=\"https://global/?utm_medium=Exinfluencer&utm_source=Exinfluencer&utm_content=000026UJ&utm_term=10006555&utm_id=NA-SkillsNetwork-Channel-SkillsNetworkCoursesIBMDeveloperSkillsNetworkPY0101ENSkillsNetwork19487395-2021-01-01\">Global variables</a></li>\n",
        "        <li><a href=\"https://scope/?utm_medium=Exinfluencer&utm_source=Exinfluencer&utm_content=000026UJ&utm_term=10006555&utm_id=NA-SkillsNetwork-Channel-SkillsNetworkCoursesIBMDeveloperSkillsNetworkPY0101ENSkillsNetwork19487395-2021-01-01\">Scope of a Variable</a></li>\n",
        "        <li><a href=\"https://collec/?utm_medium=Exinfluencer&utm_source=Exinfluencer&utm_content=000026UJ&utm_term=10006555&utm_id=NA-SkillsNetwork-Channel-SkillsNetworkCoursesIBMDeveloperSkillsNetworkPY0101ENSkillsNetwork19487395-2021-01-01\">Collections and Functions</a></li>\n",
        "        <li>\n",
        "            <a href=\"https://#quiz\">Quiz on Loops</a>\n",
        "        </li>\n",
        "    </ul>\n",
        "\n",
        "</div>\n",
        "\n",
        "<hr>\n"
      ]
    },
    {
      "cell_type": "markdown",
      "metadata": {
        "id": "QXZbLVNTyxZj"
      },
      "source": [
        "<h2 id=\"func\">Functions</h2>\n"
      ]
    },
    {
      "cell_type": "markdown",
      "metadata": {
        "id": "GRFA6yKwyxZj"
      },
      "source": [
        "A function is a reusable block of code which performs operations specified in the function. They let you break down tasks and allow you to reuse your code in different programs.\n",
        "\n",
        "There are two types of functions :\n",
        "\n",
        "*   <b>Pre-defined functions</b>\n",
        "*   <b>User defined functions</b>\n"
      ]
    },
    {
      "cell_type": "markdown",
      "metadata": {
        "id": "m9EPQLK5yxZk"
      },
      "source": [
        "<h3 id=\"content\">What is a Function?</h3>\n"
      ]
    },
    {
      "cell_type": "markdown",
      "metadata": {
        "id": "HervGZWQyxZl"
      },
      "source": [
        "You can define functions to provide the required functionality. Here are simple rules to define a function in Python:\n",
        "\n",
        "*   Functions blocks begin <code>def</code> followed by the function <code>name</code> and parentheses <code>()</code>.\n",
        "*   There are input parameters or arguments that should be placed within these parentheses.\n",
        "*   You can also define parameters inside these parentheses.\n",
        "*   There is a body within every function that starts with a colon (<code>:</code>) and is indented.\n",
        "*   You can also place documentation before the body.\n",
        "*   The statement <code>return</code> exits a function, optionally passing back a value.\n",
        "\n",
        "An example of a function that adds on to the parameter <code>a</code> prints and returns the output as <code>b</code>:\n"
      ]
    },
    {
      "cell_type": "code",
      "metadata": {
        "jupyter": {
          "outputs_hidden": true
        },
        "id": "RSXS1zYvyxZm"
      },
      "source": [
        "# First function example: Add 1 to a and store as b\n",
        "\n",
        "def add(a):\n",
        "    \"\"\"\n",
        "    add 1 to a\n",
        "    \"\"\"\n",
        "    b = a + 1\n",
        "    print(a, \"if you add one\", b)\n",
        "    return(b)"
      ],
      "execution_count": 1,
      "outputs": []
    },
    {
      "cell_type": "markdown",
      "metadata": {
        "id": "h7DqXtEwyxZo"
      },
      "source": [
        "The figure below illustrates the terminology:\n"
      ]
    },
    {
      "cell_type": "markdown",
      "metadata": {
        "id": "nacXr-eDyxZp"
      },
      "source": [
        "<img src=\"https://cf-courses-data.s3.us.cloud-object-storage.appdomain.cloud/IBMDeveloperSkillsNetwork-PY0101EN-SkillsNetwork/labs/Module%203/images/FuncsDefinition.png\" width=\"500\" /> \n"
      ]
    },
    {
      "cell_type": "markdown",
      "metadata": {
        "id": "3zwX7pkiyxZp"
      },
      "source": [
        "We can obtain help about a function :\n"
      ]
    },
    {
      "cell_type": "code",
      "metadata": {
        "id": "uzvAYCbnyxZq",
        "outputId": "417967ab-9ad9-4b78-f00f-397dfe4df0ae",
        "colab": {
          "base_uri": "https://localhost:8080/"
        }
      },
      "source": [
        "# Get a help on add function\n",
        "\n",
        "help(add)"
      ],
      "execution_count": 2,
      "outputs": [
        {
          "output_type": "stream",
          "name": "stdout",
          "text": [
            "Help on function add in module __main__:\n",
            "\n",
            "add(a)\n",
            "    add 1 to a\n",
            "\n"
          ]
        }
      ]
    },
    {
      "cell_type": "markdown",
      "metadata": {
        "id": "kTBPSip2yxZq"
      },
      "source": [
        "We can call the function:\n"
      ]
    },
    {
      "cell_type": "code",
      "metadata": {
        "id": "gtHYXYw2yxZr",
        "outputId": "1e8147eb-de6c-43cb-b2e8-c25fdb9c2239",
        "colab": {
          "base_uri": "https://localhost:8080/"
        }
      },
      "source": [
        "# Call the function add()\n",
        "\n",
        "add(1)"
      ],
      "execution_count": 3,
      "outputs": [
        {
          "output_type": "stream",
          "name": "stdout",
          "text": [
            "1 if you add one 2\n"
          ]
        },
        {
          "output_type": "execute_result",
          "data": {
            "text/plain": [
              "2"
            ]
          },
          "metadata": {},
          "execution_count": 3
        }
      ]
    },
    {
      "cell_type": "markdown",
      "metadata": {
        "id": "d1Vv9FFUyxZr"
      },
      "source": [
        "If we call the function with a new input we get a new result:\n"
      ]
    },
    {
      "cell_type": "code",
      "metadata": {
        "id": "CZJhN8QAyxZr",
        "outputId": "2ab13ea5-450d-429e-ad05-bb0df1721e84",
        "colab": {
          "base_uri": "https://localhost:8080/"
        }
      },
      "source": [
        "# Call the function add()\n",
        "\n",
        "add(2)"
      ],
      "execution_count": 4,
      "outputs": [
        {
          "output_type": "stream",
          "name": "stdout",
          "text": [
            "2 if you add one 3\n"
          ]
        },
        {
          "output_type": "execute_result",
          "data": {
            "text/plain": [
              "3"
            ]
          },
          "metadata": {},
          "execution_count": 4
        }
      ]
    },
    {
      "cell_type": "markdown",
      "metadata": {
        "id": "sjdlGRIZyxZs"
      },
      "source": [
        "We can create different functions. For example, we can create a function that multiplies two numbers. The numbers will be represented by the variables <code>a</code> and <code>b</code>:\n"
      ]
    },
    {
      "cell_type": "code",
      "metadata": {
        "id": "MzyCU8AjyxZs",
        "outputId": "22d7cdd1-de35-4089-86e6-25b736de6df1",
        "colab": {
          "base_uri": "https://localhost:8080/"
        }
      },
      "source": [
        "# Define a function for multiple two numbers\n",
        "\n",
        "def Mult(a, b):\n",
        "    c = a * b\n",
        "    return(c)\n",
        "    print('This is not printed')\n",
        "    \n",
        "result = Mult(12,2)\n",
        "print(result)"
      ],
      "execution_count": 5,
      "outputs": [
        {
          "output_type": "stream",
          "name": "stdout",
          "text": [
            "24\n"
          ]
        }
      ]
    },
    {
      "cell_type": "markdown",
      "metadata": {
        "id": "r1dpkSLbyxZs"
      },
      "source": [
        "The same function can be used for different data types. For example, we can multiply two integers:\n"
      ]
    },
    {
      "cell_type": "code",
      "metadata": {
        "id": "OdnyrzfVyxZt",
        "outputId": "2f9635f1-ab6c-4c39-df55-7aa7d38b011a",
        "colab": {
          "base_uri": "https://localhost:8080/"
        }
      },
      "source": [
        "# Use mult() multiply two integers\n",
        "\n",
        "Mult(2, 3)"
      ],
      "execution_count": 6,
      "outputs": [
        {
          "output_type": "execute_result",
          "data": {
            "text/plain": [
              "6"
            ]
          },
          "metadata": {},
          "execution_count": 6
        }
      ]
    },
    {
      "cell_type": "markdown",
      "metadata": {
        "id": "H1DRNHDJyxZt"
      },
      "source": [
        "Note how the function terminates at the <code> return </code> statement, while passing back a value. This value can be further assigned to a different variable as desired.\n",
        "\n",
        "<hr>\n",
        "The same function can be used for different data types. For example, we can multiply two integers:\n"
      ]
    },
    {
      "cell_type": "markdown",
      "metadata": {
        "id": "1T5aMyEqyxZt"
      },
      "source": [
        "Two Floats:\n"
      ]
    },
    {
      "cell_type": "code",
      "metadata": {
        "id": "wy1uZQ6vyxZt",
        "outputId": "f1f766f1-a699-48e7-d4b6-ff2fb28b19a2",
        "colab": {
          "base_uri": "https://localhost:8080/"
        }
      },
      "source": [
        "# Use mult() multiply two floats\n",
        "\n",
        "Mult(10.0, 3.14)"
      ],
      "execution_count": 7,
      "outputs": [
        {
          "output_type": "execute_result",
          "data": {
            "text/plain": [
              "31.400000000000002"
            ]
          },
          "metadata": {},
          "execution_count": 7
        }
      ]
    },
    {
      "cell_type": "markdown",
      "metadata": {
        "id": "na5Cj0gByxZu"
      },
      "source": [
        "We can even replicate a string by multiplying with an integer:\n"
      ]
    },
    {
      "cell_type": "code",
      "metadata": {
        "id": "UmFqZVHPyxZu",
        "outputId": "05168812-6ef5-4750-eca4-0e0798265914",
        "colab": {
          "base_uri": "https://localhost:8080/",
          "height": 35
        }
      },
      "source": [
        "# Use mult() multiply two different type values together\n",
        "\n",
        "Mult(2, \"Michael Jackson \")"
      ],
      "execution_count": 8,
      "outputs": [
        {
          "output_type": "execute_result",
          "data": {
            "application/vnd.google.colaboratory.intrinsic+json": {
              "type": "string"
            },
            "text/plain": [
              "'Michael Jackson Michael Jackson '"
            ]
          },
          "metadata": {},
          "execution_count": 8
        }
      ]
    },
    {
      "cell_type": "markdown",
      "metadata": {
        "id": "nlP82cpJyxZu"
      },
      "source": [
        "<h3 id=\"var\">Variables</h3>\n"
      ]
    },
    {
      "cell_type": "markdown",
      "metadata": {
        "id": "TKBlPv-8yxZu"
      },
      "source": [
        "The input to a function is called a formal parameter.\n",
        "\n",
        "A variable that is declared inside a function is called a  local variable. The parameter only exists within the function (i.e. the point where the function starts and stops).\n",
        "\n",
        "A variable that is declared outside a function definition is a global variable, and its value is accessible and modifiable throughout the program. We will discuss more about global variables at the end of the lab.\n"
      ]
    },
    {
      "cell_type": "code",
      "metadata": {
        "id": "LHemY3nuyxZv"
      },
      "source": [
        "# Function Definition\n",
        "\n",
        "def square(a):\n",
        "    \n",
        "    # Local variable b\n",
        "    b = 1\n",
        "    c = a * a + b\n",
        "    print(a, \"if you square + 1\", c) \n",
        "    return(c)"
      ],
      "execution_count": 10,
      "outputs": []
    },
    {
      "cell_type": "markdown",
      "metadata": {
        "id": "u3Kv0sLGyxZv"
      },
      "source": [
        "The labels are displayed in the figure:\n"
      ]
    },
    {
      "cell_type": "markdown",
      "metadata": {
        "id": "ry9TYg4FyxZv"
      },
      "source": [
        "<img src=\"https://cf-courses-data.s3.us.cloud-object-storage.appdomain.cloud/IBMDeveloperSkillsNetwork-PY0101EN-SkillsNetwork/labs/Module%203/images/FuncsVar.png\" width=\"500\" />\n"
      ]
    },
    {
      "cell_type": "markdown",
      "metadata": {
        "id": "fc3cGD-OyxZv"
      },
      "source": [
        "We can call the function  with an input of <b>3</b>:\n"
      ]
    },
    {
      "cell_type": "code",
      "metadata": {
        "id": "YZJTkBIKyxZv",
        "outputId": "0ed9d9e4-0d2e-4241-9d36-584dfa429c96",
        "colab": {
          "base_uri": "https://localhost:8080/"
        }
      },
      "source": [
        "# Initializes Global variable  \n",
        "\n",
        "x = 3\n",
        "# Makes function call and return function a y\n",
        "y = square(x)\n",
        "y"
      ],
      "execution_count": 11,
      "outputs": [
        {
          "output_type": "stream",
          "name": "stdout",
          "text": [
            "3 if you square + 1 10\n"
          ]
        },
        {
          "output_type": "execute_result",
          "data": {
            "text/plain": [
              "10"
            ]
          },
          "metadata": {},
          "execution_count": 11
        }
      ]
    },
    {
      "cell_type": "markdown",
      "metadata": {
        "id": "pVZkwkQAyxZw"
      },
      "source": [
        "We can call the function  with an input of <b>2</b> in a different manner:\n"
      ]
    },
    {
      "cell_type": "code",
      "metadata": {
        "id": "gekQsCi6yxZw",
        "outputId": "47dd11a6-34de-4cab-8773-f1d78c0c262e",
        "colab": {
          "base_uri": "https://localhost:8080/"
        }
      },
      "source": [
        "# Directly enter a number as parameter\n",
        "\n",
        "square(2)"
      ],
      "execution_count": 12,
      "outputs": [
        {
          "output_type": "stream",
          "name": "stdout",
          "text": [
            "2 if you square + 1 5\n"
          ]
        },
        {
          "output_type": "execute_result",
          "data": {
            "text/plain": [
              "5"
            ]
          },
          "metadata": {},
          "execution_count": 12
        }
      ]
    },
    {
      "cell_type": "markdown",
      "metadata": {
        "id": "nfQnHA1syxZw"
      },
      "source": [
        "If there is no <code>return</code> statement, the function returns <code>None</code>. The following two functions are equivalent:\n"
      ]
    },
    {
      "cell_type": "code",
      "metadata": {
        "id": "v21MNe28yxZw"
      },
      "source": [
        "# Define functions, one with return value None and other without return value\n",
        "\n",
        "def MJ():\n",
        "    print('Michael Jackson')\n",
        "    \n",
        "def MJ1():\n",
        "    print('Michael Jackson')\n",
        "    return(None)"
      ],
      "execution_count": 13,
      "outputs": []
    },
    {
      "cell_type": "code",
      "metadata": {
        "id": "VUhesuXWyxZx",
        "outputId": "56babf94-6184-48fd-bd49-364a76aadf8a",
        "colab": {
          "base_uri": "https://localhost:8080/"
        }
      },
      "source": [
        "# See the output\n",
        "\n",
        "MJ()"
      ],
      "execution_count": 14,
      "outputs": [
        {
          "output_type": "stream",
          "name": "stdout",
          "text": [
            "Michael Jackson\n"
          ]
        }
      ]
    },
    {
      "cell_type": "code",
      "metadata": {
        "id": "dtHgKgNXyxZx",
        "outputId": "d2255177-2756-4f6b-afff-a30ec7fabe1e",
        "colab": {
          "base_uri": "https://localhost:8080/"
        }
      },
      "source": [
        "# See the output\n",
        "\n",
        "MJ1()"
      ],
      "execution_count": 15,
      "outputs": [
        {
          "output_type": "stream",
          "name": "stdout",
          "text": [
            "Michael Jackson\n"
          ]
        }
      ]
    },
    {
      "cell_type": "markdown",
      "metadata": {
        "id": "JLwFuWM9yxZx"
      },
      "source": [
        "Printing the function after a call reveals a **None** is the default return statement:\n"
      ]
    },
    {
      "cell_type": "code",
      "metadata": {
        "id": "wSs5BzovyxZx",
        "outputId": "e474e0a1-84e8-40d9-8cdd-dd6b0dd6c5d7",
        "colab": {
          "base_uri": "https://localhost:8080/"
        }
      },
      "source": [
        "# See what functions returns are\n",
        "\n",
        "print(MJ())\n",
        "print(MJ1())"
      ],
      "execution_count": 16,
      "outputs": [
        {
          "output_type": "stream",
          "name": "stdout",
          "text": [
            "Michael Jackson\n",
            "None\n",
            "Michael Jackson\n",
            "None\n"
          ]
        }
      ]
    },
    {
      "cell_type": "markdown",
      "metadata": {
        "id": "7sYc5ygRyxZx"
      },
      "source": [
        "Create a function <code>con</code> that  concatenates two strings using the addition operation:\n"
      ]
    },
    {
      "cell_type": "code",
      "metadata": {
        "jupyter": {
          "outputs_hidden": true
        },
        "id": "12bm6VgHyxZy"
      },
      "source": [
        "# Define the function for combining strings\n",
        "\n",
        "def con(a, b):\n",
        "    return(a + b)"
      ],
      "execution_count": 17,
      "outputs": []
    },
    {
      "cell_type": "code",
      "metadata": {
        "id": "dlp6cmPmyxZy",
        "outputId": "bd010e07-ef02-4394-eca9-5984cb6aafd3",
        "colab": {
          "base_uri": "https://localhost:8080/",
          "height": 35
        }
      },
      "source": [
        "# Test on the con() function\n",
        "\n",
        "con(\"This \", \"is\")"
      ],
      "execution_count": 18,
      "outputs": [
        {
          "output_type": "execute_result",
          "data": {
            "application/vnd.google.colaboratory.intrinsic+json": {
              "type": "string"
            },
            "text/plain": [
              "'This is'"
            ]
          },
          "metadata": {},
          "execution_count": 18
        }
      ]
    },
    {
      "cell_type": "markdown",
      "metadata": {
        "id": "tZ0UBd0qyxZy"
      },
      "source": [
        "<hr/>\n",
        "    <div class=\"alert alert-success alertsuccess\" style=\"margin-top: 20px\">\n",
        "        <h4> [Tip] How do I learn more about the pre-defined functions in Python? </h4>\n",
        "        <p>We will be introducing a variety of pre-defined functions to you as you learn more about Python. There are just too many functions, so there's no way we can teach them all in one sitting. But if you'd like to take a quick peek, here's a short reference card for some of the commonly-used pre-defined functions: <a href=\"https://cf-courses-data.s3.us.cloud-object-storage.appdomain.cloud/IBMDeveloperSkillsNetwork-PY0101EN-SkillsNetwork/labs/Module%203/Python_reference_sheet.pdf?utm_medium=Exinfluencer&utm_source=Exinfluencer&utm_content=000026UJ&utm_term=10006555&utm_id=NA-SkillsNetwork-Channel-SkillsNetworkCoursesIBMDeveloperSkillsNetworkPY0101ENSkillsNetwork19487395-2021-01-01\">Reference</a></p>\n",
        "    </div>\n",
        "<hr/>\n"
      ]
    },
    {
      "cell_type": "markdown",
      "metadata": {
        "id": "dKDbQf6fyxZy"
      },
      "source": [
        "<h3 id=\"simple\">Functions Make Things Simple</h3>\n"
      ]
    },
    {
      "cell_type": "markdown",
      "metadata": {
        "id": "sjcqvTx1yxZy"
      },
      "source": [
        "Consider the two lines of code in <b>Block 1</b> and <b>Block 2</b>: the procedure for each block is identical. The only thing that is different is the variable names and values.\n"
      ]
    },
    {
      "cell_type": "markdown",
      "metadata": {
        "id": "zdVGsFTwyxZy"
      },
      "source": [
        "<h4>Block 1:</h4>\n"
      ]
    },
    {
      "cell_type": "code",
      "metadata": {
        "id": "PEZqZ5LByxZz",
        "outputId": "900ca035-b74c-44bc-8d85-e85f49f7c73e",
        "colab": {
          "base_uri": "https://localhost:8080/"
        }
      },
      "source": [
        "# a and b calculation block1\n",
        "\n",
        "a1 = 4\n",
        "b1 = 5\n",
        "c1 = a1 + b1 + 2 * a1 * b1 - 1\n",
        "if(c1 < 0):\n",
        "    c1 = 0 \n",
        "else:\n",
        "    c1 = 5\n",
        "c1   "
      ],
      "execution_count": 19,
      "outputs": [
        {
          "output_type": "execute_result",
          "data": {
            "text/plain": [
              "5"
            ]
          },
          "metadata": {},
          "execution_count": 19
        }
      ]
    },
    {
      "cell_type": "markdown",
      "metadata": {
        "id": "BF3O4ArgyxZz"
      },
      "source": [
        "<h4>Block 2:</h4>\n"
      ]
    },
    {
      "cell_type": "code",
      "metadata": {
        "id": "Dho2zztkyxZz",
        "outputId": "9af81889-6c6a-4f87-db7d-5e25a68b2b73",
        "colab": {
          "base_uri": "https://localhost:8080/"
        }
      },
      "source": [
        "# a and b calculation block2\n",
        "\n",
        "a2 = 0\n",
        "b2 = 0\n",
        "c2 = a2 + b2 + 2 * a2 * b2 - 1\n",
        "if(c2 < 0):\n",
        "    c2 = 0 \n",
        "else:\n",
        "    c2 = 5\n",
        "c2   "
      ],
      "execution_count": 20,
      "outputs": [
        {
          "output_type": "execute_result",
          "data": {
            "text/plain": [
              "0"
            ]
          },
          "metadata": {},
          "execution_count": 20
        }
      ]
    },
    {
      "cell_type": "markdown",
      "metadata": {
        "id": "qWn2THMuyxZz"
      },
      "source": [
        "We can replace the lines of code with a function. A function combines many instructions into a single line of code. Once a function is defined, it can be used repeatedly. You can invoke the same function many times in your program. You can save your function and use it in another program or use someone else’s function. The lines of code in code <b>Block 1</b> and code <b>Block 2</b> can be replaced by the following function:\n"
      ]
    },
    {
      "cell_type": "code",
      "metadata": {
        "id": "n0KlXC5ryxZz"
      },
      "source": [
        "# Make a Function for the calculation above\n",
        "\n",
        "def Equation(a,b):\n",
        "    c = a + b + 2 * a * b - 1\n",
        "    if(c < 0):\n",
        "        c = 0 \n",
        "    else:\n",
        "        c = 5\n",
        "    return(c) "
      ],
      "execution_count": 21,
      "outputs": []
    },
    {
      "cell_type": "markdown",
      "metadata": {
        "id": "QbRFaPYxyxZ0"
      },
      "source": [
        "This function takes two inputs, a and b, then applies several operations to return c.\n",
        "We simply define the function, replace the instructions with the function, and input the new values of <code>a1</code>, <code>b1</code> and <code>a2</code>, <code>b2</code> as inputs. The entire process is demonstrated in the figure:\n"
      ]
    },
    {
      "cell_type": "markdown",
      "metadata": {
        "id": "lnFvDQkNyxZ0"
      },
      "source": [
        "<img src=\"https://cf-courses-data.s3.us.cloud-object-storage.appdomain.cloud/IBMDeveloperSkillsNetwork-PY0101EN-SkillsNetwork/labs/Module%203/images/FuncsPros.gif\" width=\"850\" />\n"
      ]
    },
    {
      "cell_type": "markdown",
      "metadata": {
        "id": "oZLm-RBhyxZ0"
      },
      "source": [
        "Code **Blocks 1** and **Block 2** can now be replaced with code **Block 3** and code **Block 4**.\n"
      ]
    },
    {
      "cell_type": "markdown",
      "metadata": {
        "id": "7Anw01IwyxZ0"
      },
      "source": [
        "<h4>Block 3:</h4>\n"
      ]
    },
    {
      "cell_type": "code",
      "metadata": {
        "id": "uyip99w4yxZ0",
        "outputId": "1c632c61-975b-4972-caeb-8d70f0c5f0b2",
        "colab": {
          "base_uri": "https://localhost:8080/"
        }
      },
      "source": [
        "a1 = 4\n",
        "b1 = 5\n",
        "c1 = Equation(a1, b1)\n",
        "c1"
      ],
      "execution_count": 22,
      "outputs": [
        {
          "output_type": "execute_result",
          "data": {
            "text/plain": [
              "5"
            ]
          },
          "metadata": {},
          "execution_count": 22
        }
      ]
    },
    {
      "cell_type": "markdown",
      "metadata": {
        "id": "DtstZM8TyxZ1"
      },
      "source": [
        "<h4>Block 4:</h4>\n"
      ]
    },
    {
      "cell_type": "code",
      "metadata": {
        "id": "6OrduYqKyxZ1",
        "outputId": "0e2b573f-36ae-4038-ea7a-a3664b189f9a",
        "colab": {
          "base_uri": "https://localhost:8080/"
        }
      },
      "source": [
        "a2 = 0\n",
        "b2 = 0\n",
        "c2 = Equation(a2, b2)\n",
        "c2"
      ],
      "execution_count": 23,
      "outputs": [
        {
          "output_type": "execute_result",
          "data": {
            "text/plain": [
              "0"
            ]
          },
          "metadata": {},
          "execution_count": 23
        }
      ]
    },
    {
      "cell_type": "markdown",
      "metadata": {
        "id": "EZK5sFZfyxZ1"
      },
      "source": [
        "<hr>\n"
      ]
    },
    {
      "cell_type": "markdown",
      "metadata": {
        "id": "SKZsl63UyxZ1"
      },
      "source": [
        "<h2 id=\"pre\">Pre-defined functions</h2>\n"
      ]
    },
    {
      "cell_type": "markdown",
      "metadata": {
        "id": "o5DwXkteyxZ1"
      },
      "source": [
        "There are many pre-defined functions in Python, so let's start with the simple ones.\n"
      ]
    },
    {
      "cell_type": "markdown",
      "metadata": {
        "id": "__5Vb-nuyxZ1"
      },
      "source": [
        "The <code>print()</code> function:\n"
      ]
    },
    {
      "cell_type": "code",
      "metadata": {
        "id": "Lo-J61-eyxZ2",
        "outputId": "9022fc05-077c-44f5-da76-92ea462af757",
        "colab": {
          "base_uri": "https://localhost:8080/"
        }
      },
      "source": [
        "# Build-in function print()\n",
        "\n",
        "album_ratings = [10.0, 8.5, 9.5, 7.0, 7.0, 9.5, 9.0, 9.5] \n",
        "print(album_ratings)"
      ],
      "execution_count": 24,
      "outputs": [
        {
          "output_type": "stream",
          "name": "stdout",
          "text": [
            "[10.0, 8.5, 9.5, 7.0, 7.0, 9.5, 9.0, 9.5]\n"
          ]
        }
      ]
    },
    {
      "cell_type": "markdown",
      "metadata": {
        "id": "XRWYU4pXyxZ2"
      },
      "source": [
        "The <code>sum()</code> function adds all the  elements in a list or tuple:\n"
      ]
    },
    {
      "cell_type": "code",
      "metadata": {
        "id": "H_0FFD-jyxZ2",
        "outputId": "ff9dbfef-b469-4b36-a833-d58fc9b0bc80",
        "colab": {
          "base_uri": "https://localhost:8080/"
        }
      },
      "source": [
        "# Use sum() to add every element in a list or tuple together\n",
        "\n",
        "sum(album_ratings)"
      ],
      "execution_count": 25,
      "outputs": [
        {
          "output_type": "execute_result",
          "data": {
            "text/plain": [
              "70.0"
            ]
          },
          "metadata": {},
          "execution_count": 25
        }
      ]
    },
    {
      "cell_type": "markdown",
      "metadata": {
        "id": "ei0vLGAtyxZ2"
      },
      "source": [
        "The <code>len()</code> function returns the length of a list or tuple:\n"
      ]
    },
    {
      "cell_type": "code",
      "metadata": {
        "id": "W2CeCYj1yxZ2",
        "outputId": "456ad1b6-8b3d-4ea3-c12a-c7b7a4482cf9",
        "colab": {
          "base_uri": "https://localhost:8080/"
        }
      },
      "source": [
        "# Show the length of the list or tuple\n",
        "\n",
        "len(album_ratings)"
      ],
      "execution_count": 26,
      "outputs": [
        {
          "output_type": "execute_result",
          "data": {
            "text/plain": [
              "8"
            ]
          },
          "metadata": {},
          "execution_count": 26
        }
      ]
    },
    {
      "cell_type": "markdown",
      "metadata": {
        "id": "GQxfevg0yxZ2"
      },
      "source": [
        "<h2 id=\"if\">Using <code>if</code>/<code>else</code> Statements and Loops in Functions</h2>\n"
      ]
    },
    {
      "cell_type": "markdown",
      "metadata": {
        "id": "MM_nJIy-yxZ3"
      },
      "source": [
        "The <code>return()</code> function is particularly useful if you have any IF statements in the function, when you want your output to be dependent on some condition:\n"
      ]
    },
    {
      "cell_type": "code",
      "metadata": {
        "id": "Cke2qR4uyxZ3",
        "outputId": "01cd303a-8fd6-4564-b2c7-036177fb83bd",
        "colab": {
          "base_uri": "https://localhost:8080/"
        }
      },
      "source": [
        "# Function example\n",
        "\n",
        "def type_of_album(artist, album, year_released):\n",
        "    \n",
        "    print(artist, album, year_released)\n",
        "    if year_released > 1980:\n",
        "        return \"Modern\"\n",
        "    else:\n",
        "        return \"Oldie\"\n",
        "    \n",
        "x = type_of_album(\"Michael Jackson\", \"Thriller\", 1980)\n",
        "print(x)"
      ],
      "execution_count": 27,
      "outputs": [
        {
          "output_type": "stream",
          "name": "stdout",
          "text": [
            "Michael Jackson Thriller 1980\n",
            "Oldie\n"
          ]
        }
      ]
    },
    {
      "cell_type": "markdown",
      "metadata": {
        "id": "53PRega6yxZ3"
      },
      "source": [
        "We can use a loop in a function. For example, we can <code>print</code> out each element in a list:\n"
      ]
    },
    {
      "cell_type": "code",
      "metadata": {
        "id": "FcMBHIhGyxZ3"
      },
      "source": [
        "# Print the list using for loop\n",
        "\n",
        "def PrintList(the_list):\n",
        "    for element in the_list:\n",
        "        print(element)"
      ],
      "execution_count": 28,
      "outputs": []
    },
    {
      "cell_type": "code",
      "metadata": {
        "id": "9FYX_T1lyxZ3",
        "outputId": "b03f29d2-1ec5-4c51-b603-09de86002ab3",
        "colab": {
          "base_uri": "https://localhost:8080/"
        }
      },
      "source": [
        "# Implement the printlist function\n",
        "\n",
        "PrintList(['1', 1, 'the man', \"abc\"])"
      ],
      "execution_count": 29,
      "outputs": [
        {
          "output_type": "stream",
          "name": "stdout",
          "text": [
            "1\n",
            "1\n",
            "the man\n",
            "abc\n"
          ]
        }
      ]
    },
    {
      "cell_type": "markdown",
      "metadata": {
        "id": "Jlf4EDjzyxZ4"
      },
      "source": [
        "<hr>\n"
      ]
    },
    {
      "cell_type": "markdown",
      "metadata": {
        "id": "bESuB0JryxZ4"
      },
      "source": [
        "<h2 id=\"default\">Setting default argument values in your custom functions</h2>\n"
      ]
    },
    {
      "cell_type": "markdown",
      "metadata": {
        "id": "SYJxQ5JOyxZ4"
      },
      "source": [
        "You can set a default value for arguments in your function. For example, in the <code>isGoodRating()</code> function, what if we wanted to create a threshold for what we consider to be a good rating? Perhaps by default, we should have a default rating of 4:\n"
      ]
    },
    {
      "cell_type": "code",
      "metadata": {
        "id": "5oD1MVRayxZ4"
      },
      "source": [
        "# Example for setting param with default value\n",
        "\n",
        "def isGoodRating(rating=4): \n",
        "    if(rating < 7):\n",
        "        print(\"this album sucks it's rating is\",rating)\n",
        "        \n",
        "    else:\n",
        "        print(\"this album is good its rating is\",rating)\n"
      ],
      "execution_count": 30,
      "outputs": []
    },
    {
      "cell_type": "code",
      "metadata": {
        "id": "onLseTkQyxZ4",
        "outputId": "e62ada2a-8e38-4ff5-f586-4c14bb6b2878",
        "colab": {
          "base_uri": "https://localhost:8080/"
        }
      },
      "source": [
        "# Test the value with default value and with input\n",
        "\n",
        "isGoodRating()\n",
        "isGoodRating(10)"
      ],
      "execution_count": 31,
      "outputs": [
        {
          "output_type": "stream",
          "name": "stdout",
          "text": [
            "this album sucks it's rating is 4\n",
            "this album is good its rating is 10\n"
          ]
        }
      ]
    },
    {
      "cell_type": "markdown",
      "metadata": {
        "id": "h8zF0MQ7yxZ4"
      },
      "source": [
        "<hr>\n"
      ]
    },
    {
      "cell_type": "markdown",
      "metadata": {
        "id": "l6pgSUASyxZ5"
      },
      "source": [
        "<h2 id=\"global\">Global variables</h2>\n"
      ]
    },
    {
      "cell_type": "markdown",
      "metadata": {
        "id": "Fg96w97_yxZ5"
      },
      "source": [
        "So far, we've been creating variables within functions, but we have not discussed variables outside the function. These are called global variables. <br>\n",
        "Let's try to see what <code>printer1</code> returns:\n"
      ]
    },
    {
      "cell_type": "code",
      "metadata": {
        "id": "ZZ4rcY51yxZ5",
        "outputId": "ad4079f7-d323-4ac4-fcc4-0090fac9310f",
        "colab": {
          "base_uri": "https://localhost:8080/"
        }
      },
      "source": [
        "# Example of global variable\n",
        "\n",
        "artist = \"Michael Jackson\"\n",
        "def printer1(artist):\n",
        "    internal_var1 = artist\n",
        "    print(artist, \"is an artist\")\n",
        "    \n",
        "printer1(artist)\n",
        "# try runningthe following code\n",
        "#printer1(internal_var1) "
      ],
      "execution_count": 34,
      "outputs": [
        {
          "output_type": "stream",
          "name": "stdout",
          "text": [
            "Michael Jackson is an artist\n"
          ]
        }
      ]
    },
    {
      "cell_type": "markdown",
      "metadata": {
        "id": "VaIZ9hrtyxZ5"
      },
      "source": [
        "<b>We got a Name Error:  <code>name 'internal_var' is not defined</code>. Why?</b>\n",
        "\n",
        "It's because all the variables we create in the function is a <b>local variable</b>, meaning that the variable assignment does not persist outside the function.\n",
        "\n",
        "But there is a way to create <b>global variables</b> from within a function as follows:\n"
      ]
    },
    {
      "cell_type": "code",
      "metadata": {
        "id": "i_dA3qqlyxZ5",
        "outputId": "075e11df-9d82-4415-d781-4be8100f5d05",
        "colab": {
          "base_uri": "https://localhost:8080/"
        }
      },
      "source": [
        "artist = \"Michael Jackson\"\n",
        "\n",
        "def printer(artist):\n",
        "    global internal_var \n",
        "    internal_var= \"Whitney Houston\"\n",
        "    print(artist,\"is an artist\")\n",
        "\n",
        "printer(artist) \n",
        "printer(internal_var)"
      ],
      "execution_count": 35,
      "outputs": [
        {
          "output_type": "stream",
          "name": "stdout",
          "text": [
            "Michael Jackson is an artist\n",
            "Whitney Houston is an artist\n"
          ]
        }
      ]
    },
    {
      "cell_type": "markdown",
      "metadata": {
        "id": "LuEu733VyxZ5"
      },
      "source": [
        "<h2 id=\"scope\">Scope of a Variable</h2>\n"
      ]
    },
    {
      "cell_type": "markdown",
      "metadata": {
        "id": "UMINbR1_yxZ6"
      },
      "source": [
        "The scope of a variable is the part of that program where that variable is accessible. Variables that are declared outside of all function definitions, such as the <code>myFavouriteBand</code> variable in the code shown here, are accessible from anywhere within the program. As a result, such variables are said to have global scope, and are known as global variables. <code>myFavouriteBand</code> is a global variable, so it is accessible from within the <code>getBandRating</code> function, and we can use it to determine a band's rating. We can also use it outside of the function, such as when we pass it to the print function to display it:\n"
      ]
    },
    {
      "cell_type": "code",
      "metadata": {
        "id": "LxAmHYH5yxZ6",
        "outputId": "59149247-9b6b-46a4-9e38-9254ef3a6ff0",
        "colab": {
          "base_uri": "https://localhost:8080/"
        }
      },
      "source": [
        "# Example of global variable\n",
        "\n",
        "myFavouriteBand = \"AC/DC\"\n",
        "\n",
        "def getBandRating(bandname):\n",
        "    if bandname == myFavouriteBand:\n",
        "        return 10.0\n",
        "    else:\n",
        "        return 0.0\n",
        "\n",
        "print(\"AC/DC's rating is:\", getBandRating(\"AC/DC\"))\n",
        "print(\"Deep Purple's rating is:\",getBandRating(\"Deep Purple\"))\n",
        "print(\"My favourite band is:\", myFavouriteBand)"
      ],
      "execution_count": 36,
      "outputs": [
        {
          "output_type": "stream",
          "name": "stdout",
          "text": [
            "AC/DC's rating is: 10.0\n",
            "Deep Purple's rating is: 0.0\n",
            "My favourite band is: AC/DC\n"
          ]
        }
      ]
    },
    {
      "cell_type": "markdown",
      "metadata": {
        "id": "GeKRVMhnyxZ6"
      },
      "source": [
        "Take a look at this modified version of our code. Now the <code>myFavouriteBand</code> variable is defined within the <code>getBandRating</code> function. A variable that is defined within a function is said to be a local variable of that function. That means that it is only accessible from within the function in which it is defined. Our <code>getBandRating</code> function will still work, because <code>myFavouriteBand</code> is still defined within the function. However, we can no longer print <code>myFavouriteBand</code> outside our function, because it is a local variable of our <code>getBandRating</code> function; it is only defined within the <code>getBandRating</code> function:\n"
      ]
    },
    {
      "cell_type": "code",
      "metadata": {
        "id": "5CllSEzCyxZ6",
        "outputId": "225607a1-87fa-4cc7-835e-949a6ddb7149",
        "colab": {
          "base_uri": "https://localhost:8080/",
          "height": 229
        }
      },
      "source": [
        "# Deleting the variable \"myFavouriteBand\" from the previous example to demonstrate an example of a local variable \n",
        "\n",
        "del myFavouriteBand\n",
        "\n",
        "# Example of local variable\n",
        "\n",
        "def getBandRating(bandname):\n",
        "    myFavouriteBand = \"AC/DC\"\n",
        "    if bandname == myFavouriteBand:\n",
        "        return 10.0\n",
        "    else:\n",
        "        return 0.0\n",
        "\n",
        "print(\"AC/DC's rating is: \", getBandRating(\"AC/DC\"))\n",
        "print(\"Deep Purple's rating is: \", getBandRating(\"Deep Purple\"))\n",
        "print(\"My favourite band is\", myFavouriteBand)"
      ],
      "execution_count": 37,
      "outputs": [
        {
          "output_type": "stream",
          "name": "stdout",
          "text": [
            "AC/DC's rating is:  10.0\n",
            "Deep Purple's rating is:  0.0\n"
          ]
        },
        {
          "output_type": "error",
          "ename": "NameError",
          "evalue": "ignored",
          "traceback": [
            "\u001b[0;31m---------------------------------------------------------------------------\u001b[0m",
            "\u001b[0;31mNameError\u001b[0m                                 Traceback (most recent call last)",
            "\u001b[0;32m<ipython-input-37-263a05334c01>\u001b[0m in \u001b[0;36m<module>\u001b[0;34m()\u001b[0m\n\u001b[1;32m     14\u001b[0m \u001b[0mprint\u001b[0m\u001b[0;34m(\u001b[0m\u001b[0;34m\"AC/DC's rating is: \"\u001b[0m\u001b[0;34m,\u001b[0m \u001b[0mgetBandRating\u001b[0m\u001b[0;34m(\u001b[0m\u001b[0;34m\"AC/DC\"\u001b[0m\u001b[0;34m)\u001b[0m\u001b[0;34m)\u001b[0m\u001b[0;34m\u001b[0m\u001b[0;34m\u001b[0m\u001b[0m\n\u001b[1;32m     15\u001b[0m \u001b[0mprint\u001b[0m\u001b[0;34m(\u001b[0m\u001b[0;34m\"Deep Purple's rating is: \"\u001b[0m\u001b[0;34m,\u001b[0m \u001b[0mgetBandRating\u001b[0m\u001b[0;34m(\u001b[0m\u001b[0;34m\"Deep Purple\"\u001b[0m\u001b[0;34m)\u001b[0m\u001b[0;34m)\u001b[0m\u001b[0;34m\u001b[0m\u001b[0;34m\u001b[0m\u001b[0m\n\u001b[0;32m---> 16\u001b[0;31m \u001b[0mprint\u001b[0m\u001b[0;34m(\u001b[0m\u001b[0;34m\"My favourite band is\"\u001b[0m\u001b[0;34m,\u001b[0m \u001b[0mmyFavouriteBand\u001b[0m\u001b[0;34m)\u001b[0m\u001b[0;34m\u001b[0m\u001b[0;34m\u001b[0m\u001b[0m\n\u001b[0m",
            "\u001b[0;31mNameError\u001b[0m: name 'myFavouriteBand' is not defined"
          ]
        }
      ]
    },
    {
      "cell_type": "markdown",
      "metadata": {
        "id": "_Dq02C0vyxZ6"
      },
      "source": [
        "Finally, take a look at this example. We now have two <code>myFavouriteBand</code> variable definitions. The first one of these has a global scope, and the second of them is a local variable within the <code>getBandRating</code> function. Within the <code>getBandRating</code> function, the local variable takes precedence. **Deep Purple** will receive a rating of 10.0 when passed to the <code>getBandRating</code> function. However, outside of the <code>getBandRating</code> function, the <code>getBandRating</code> s local variable is not defined, so the <code>myFavouriteBand</code> variable we print is the global variable, which has a value of **AC/DC**:\n"
      ]
    },
    {
      "cell_type": "code",
      "metadata": {
        "id": "nQlclOBtyxZ7",
        "outputId": "94c74f34-daa6-4ff7-feda-70c5a621e83d",
        "colab": {
          "base_uri": "https://localhost:8080/"
        }
      },
      "source": [
        "# Example of global variable and local variable with the same name\n",
        "\n",
        "myFavouriteBand = \"AC/DC\"\n",
        "\n",
        "def getBandRating(bandname):\n",
        "    myFavouriteBand = \"Deep Purple\"\n",
        "    if bandname == myFavouriteBand:\n",
        "        return 10.0\n",
        "    else:\n",
        "        return 0.0\n",
        "\n",
        "print(\"AC/DC's rating is:\",getBandRating(\"AC/DC\"))\n",
        "print(\"Deep Purple's rating is: \",getBandRating(\"Deep Purple\"))\n",
        "print(\"My favourite band is:\",myFavouriteBand)"
      ],
      "execution_count": 38,
      "outputs": [
        {
          "output_type": "stream",
          "name": "stdout",
          "text": [
            "AC/DC's rating is: 0.0\n",
            "Deep Purple's rating is:  10.0\n",
            "My favourite band is: AC/DC\n"
          ]
        }
      ]
    },
    {
      "cell_type": "markdown",
      "metadata": {
        "id": "2pxnNYRMyxZ7"
      },
      "source": [
        "<hr>\n",
        "<h2 id =\"collec\"> Collections and Functions</h2>\n"
      ]
    },
    {
      "cell_type": "markdown",
      "metadata": {
        "id": "cM-cIj-cyxZ7"
      },
      "source": [
        "When the number of arguments  are unknown for a function, They can all be packed into a tuple as shown:\n"
      ]
    },
    {
      "cell_type": "code",
      "metadata": {
        "id": "W2RRvZENyxZ7",
        "outputId": "30740a0c-b88a-4840-cecb-cb94b8722e34",
        "colab": {
          "base_uri": "https://localhost:8080/"
        }
      },
      "source": [
        "def printAll(*args): # All the arguments are 'packed' into args which can be treated like a tuple\n",
        "    print(\"No of arguments:\", len(args)) \n",
        "    for argument in args:\n",
        "        print(argument)\n",
        "#printAll with 3 arguments\n",
        "printAll('Horsefeather','Adonis','Bone')\n",
        "#printAll with 4 arguments\n",
        "printAll('Sidecar','Long Island','Mudslide','Carriage')"
      ],
      "execution_count": 39,
      "outputs": [
        {
          "output_type": "stream",
          "name": "stdout",
          "text": [
            "No of arguments: 3\n",
            "Horsefeather\n",
            "Adonis\n",
            "Bone\n",
            "No of arguments: 4\n",
            "Sidecar\n",
            "Long Island\n",
            "Mudslide\n",
            "Carriage\n"
          ]
        }
      ]
    },
    {
      "cell_type": "markdown",
      "metadata": {
        "id": "r_ozCh55yxZ7"
      },
      "source": [
        "Similarly, The arguments can also be packed into a dictionary as shown:\n"
      ]
    },
    {
      "cell_type": "code",
      "metadata": {
        "id": "O9WaSg3FyxZ7",
        "outputId": "6d738f7a-8449-40bf-edb0-82bf59fea45e",
        "colab": {
          "base_uri": "https://localhost:8080/"
        }
      },
      "source": [
        "def printDictionary(**args):\n",
        "    for key in args:\n",
        "        print(key + \" : \" + args[key])\n",
        "\n",
        "printDictionary(Country='Canada',Province='Ontario',City='Toronto')\n",
        "    "
      ],
      "execution_count": 40,
      "outputs": [
        {
          "output_type": "stream",
          "name": "stdout",
          "text": [
            "Country : Canada\n",
            "Province : Ontario\n",
            "City : Toronto\n"
          ]
        }
      ]
    },
    {
      "cell_type": "markdown",
      "metadata": {
        "id": "LH6MxlKDyxZ8"
      },
      "source": [
        "Functions can be incredibly powerful and versatile. They can accept (and return) data types, objects and even other functions as arguements. Consider the example below:\n"
      ]
    },
    {
      "cell_type": "code",
      "metadata": {
        "id": "PAfNXJfOyxZ8",
        "outputId": "dcb1418c-3c6c-4eba-f14f-d3904958b004",
        "colab": {
          "base_uri": "https://localhost:8080/"
        }
      },
      "source": [
        "def addItems(list):\n",
        "    list.append(\"Three\")\n",
        "    list.append(\"Four\")\n",
        "\n",
        "myList = [\"One\",\"Two\"]\n",
        "\n",
        "addItems(myList)\n",
        "\n",
        "myList\n",
        "    "
      ],
      "execution_count": 41,
      "outputs": [
        {
          "output_type": "execute_result",
          "data": {
            "text/plain": [
              "['One', 'Two', 'Three', 'Four']"
            ]
          },
          "metadata": {},
          "execution_count": 41
        }
      ]
    },
    {
      "cell_type": "markdown",
      "metadata": {
        "id": "sakBVLcVyxZ8"
      },
      "source": [
        "Note how the changes made to the list are not limited to the functions scope. This occurs as it is the lists **reference** that is passed to the function - Any changes made are on the orignal instance of the list. Therefore, one should be cautious when passing mutable objects into functions.\n",
        "\n",
        "<hr>\n"
      ]
    },
    {
      "cell_type": "markdown",
      "metadata": {
        "id": "uK_c7rljyxZ8"
      },
      "source": [
        "<h2>Quiz on Functions</h2>\n"
      ]
    },
    {
      "cell_type": "markdown",
      "metadata": {
        "id": "561_Ih9YyxZ8"
      },
      "source": [
        "Come up with a function that divides the first input by the second input:\n"
      ]
    },
    {
      "cell_type": "code",
      "metadata": {
        "id": "kmLM865uyxZ-",
        "outputId": "351afc50-cee0-4167-c6b3-8f17cc29c821",
        "colab": {
          "base_uri": "https://localhost:8080/"
        }
      },
      "source": [
        "# Write your code below and press Shift+Enter to execute\n",
        "def divide(a, b):\n",
        "  c = a / b\n",
        "  return c\n",
        "\n",
        "print(divide(10, 2))"
      ],
      "execution_count": 42,
      "outputs": [
        {
          "output_type": "stream",
          "name": "stdout",
          "text": [
            "5.0\n"
          ]
        }
      ]
    },
    {
      "cell_type": "markdown",
      "metadata": {
        "id": "ca5xofvLyxZ-"
      },
      "source": [
        "<details><summary>Click here for the solution</summary>\n",
        "\n",
        "```python\n",
        "def div(a, b):\n",
        "    return(a/b)\n",
        "    \n",
        "```\n",
        "\n",
        "</details>\n"
      ]
    },
    {
      "cell_type": "markdown",
      "metadata": {
        "id": "K-tAMZc4yxZ-"
      },
      "source": [
        "<hr>\n"
      ]
    },
    {
      "cell_type": "markdown",
      "metadata": {
        "id": "-7kq8Wy4yxZ_"
      },
      "source": [
        "Use the function <code>con</code> for the following question.\n"
      ]
    },
    {
      "cell_type": "code",
      "metadata": {
        "id": "4pFqzVfwyxZ_"
      },
      "source": [
        "# Use the con function for the following question\n",
        "\n",
        "def con(a, b):\n",
        "    return(a + b)"
      ],
      "execution_count": 43,
      "outputs": []
    },
    {
      "cell_type": "markdown",
      "metadata": {
        "id": "_xhi9el9yxZ_"
      },
      "source": [
        "Can the <code>con</code> function we defined before be used to add two integers or strings?\n"
      ]
    },
    {
      "cell_type": "code",
      "metadata": {
        "id": "TAlnoYuFyxZ_",
        "outputId": "9aff708d-c694-40cc-e77e-2768088f3201",
        "colab": {
          "base_uri": "https://localhost:8080/"
        }
      },
      "source": [
        "# Write your code below and press Shift+Enter to execute\n",
        "\"\"\" Yes, the function can be used in both cases \"\"\"\n",
        "print(con(2, 2))\n",
        "print(con('pippo ', 'pluto'))"
      ],
      "execution_count": 45,
      "outputs": [
        {
          "output_type": "stream",
          "name": "stdout",
          "text": [
            "4\n",
            "pippo pluto\n"
          ]
        }
      ]
    },
    {
      "cell_type": "markdown",
      "metadata": {
        "id": "rTOWbbv1yxZ_"
      },
      "source": [
        "<details><summary>Click here for the solution</summary>\n",
        "\n",
        "```python\n",
        "Yes, for example: \n",
        "con(2, 2)\n",
        "    \n",
        "```\n",
        "\n",
        "</details>\n"
      ]
    },
    {
      "cell_type": "markdown",
      "metadata": {
        "id": "XpT_fzDfyxZ_"
      },
      "source": [
        "<hr>\n"
      ]
    },
    {
      "cell_type": "markdown",
      "metadata": {
        "id": "TV2OxTabyxaA"
      },
      "source": [
        "Can the <code>con</code> function we defined before be used to concatenate lists or tuples?\n"
      ]
    },
    {
      "cell_type": "code",
      "metadata": {
        "id": "i9UpCTbXyxaA",
        "outputId": "ee0064cf-d544-4953-9029-db54bbeae569",
        "colab": {
          "base_uri": "https://localhost:8080/"
        }
      },
      "source": [
        "# Write your code below and press Shift+Enter to execute\n",
        "\"\"\" Yes \"\"\"\n",
        "con(['a', 'b'], ['c', 'd'])"
      ],
      "execution_count": 49,
      "outputs": [
        {
          "output_type": "execute_result",
          "data": {
            "text/plain": [
              "['a', 'b', 'c', 'd']"
            ]
          },
          "metadata": {},
          "execution_count": 49
        }
      ]
    },
    {
      "cell_type": "markdown",
      "metadata": {
        "id": "j5GiEwijyxaA"
      },
      "source": [
        "<details><summary>Click here for the solution</summary>\n",
        "\n",
        "```python\n",
        "Yes, for example: \n",
        "con(['a', 1], ['b', 1])\n",
        "    \n",
        "```\n",
        "\n",
        "</details>\n"
      ]
    },
    {
      "cell_type": "markdown",
      "metadata": {
        "id": "s-Y8-eBpyxaA"
      },
      "source": [
        "<hr>\n",
        "<h2>The last exercise!</h2>\n",
        "<p>Congratulations, you have completed your first lesson and hands-on lab in Python. However, there is one more thing you need to do. The Data Science community encourages sharing work. The best way to share and showcase your work is to share it on GitHub. By sharing your notebook on GitHub you are not only building your reputation with fellow data scientists, but you can also show it off when applying for a job. Even though this was your first piece of work, it is never too early to start building good habits. So, please read and follow <a href=\"https://cognitiveclass.ai/blog/data-scientists-stand-out-by-sharing-your-notebooks/?utm_medium=Exinfluencer&utm_source=Exinfluencer&utm_content=000026UJ&utm_term=10006555&utm_id=NA-SkillsNetwork-Channel-SkillsNetworkCoursesIBMDeveloperSkillsNetworkPY0101ENSkillsNetwork19487395-2021-01-01\" target=\"_blank\">this article</a> to learn how to share your work.\n",
        "<hr>\n"
      ]
    },
    {
      "cell_type": "markdown",
      "metadata": {
        "id": "Jj_VKh1JyxaA"
      },
      "source": [
        "## Author\n",
        "\n",
        "<a href=\"https://www.linkedin.com/in/joseph-s-50398b136/?utm_medium=Exinfluencer&utm_source=Exinfluencer&utm_content=000026UJ&utm_term=10006555&utm_id=NA-SkillsNetwork-Channel-SkillsNetworkCoursesIBMDeveloperSkillsNetworkPY0101ENSkillsNetwork19487395-2021-01-01\" target=\"_blank\">Joseph Santarcangelo</a>\n",
        "\n",
        "## Other contributors\n",
        "\n",
        "<a href=\"https://www.linkedin.com/in/jiahui-mavis-zhou-a4537814a?utm_medium=Exinfluencer&utm_source=Exinfluencer&utm_content=000026UJ&utm_term=10006555&utm_id=NA-SkillsNetwork-Channel-SkillsNetworkCoursesIBMDeveloperSkillsNetworkPY0101ENSkillsNetwork19487395-2021-01-01\">Mavis Zhou</a>\n",
        "\n",
        "## Change Log\n",
        "\n",
        "| Date (YYYY-MM-DD) | Version | Changed By | Change Description                                                                                                     |\n",
        "| ----------------- | ------- | ---------- | ---------------------------------------------------------------------------------------------------------------------- |\n",
        "| 2021-04-13        | 0.3     | Malika     | Deleted exercise \"Probability Bag\"                                                                                     |\n",
        "| 2020-08-26        | 0.2     | Lavanya    | Moved lab to course repo in GitLab                                                                                     |\n",
        "| 2020 -09 -04      | 0.2     | Arjun      | Under What is a function, added code/text to further demonstrate the functionality of the return statement             |\n",
        "| 2020 -09 -04      | 0.2     | Arjun      | Under Global Variables, modify the code block to try and print ‘internal_var’ - So a nameError message can be observed |\n",
        "| 2020 -09 -04      | 0.2     | Arjun      | Added section Collections and Functions                                                                                |\n",
        "| 2020 -09 -04      | 0.2     | Arjun      | Added exercise “Probability Bag”                                                                                       |\n",
        "\n",
        "<hr/>\n",
        "\n",
        "## <h3 align=\"center\"> © IBM Corporation 2020. All rights reserved. <h3/>\n"
      ]
    }
  ]
}