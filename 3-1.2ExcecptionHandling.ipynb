{
  "nbformat": 4,
  "nbformat_minor": 0,
  "metadata": {
    "kernelspec": {
      "display_name": "Python 3",
      "language": "python",
      "name": "python3"
    },
    "language_info": {
      "codemirror_mode": {
        "name": "ipython",
        "version": 3
      },
      "file_extension": ".py",
      "mimetype": "text/x-python",
      "name": "python",
      "nbconvert_exporter": "python",
      "pygments_lexer": "ipython3",
      "version": "3.7.6"
    },
    "colab": {
      "name": "3-1.2ExcecptionHandling.ipynb",
      "provenance": [],
      "include_colab_link": true
    }
  },
  "cells": [
    {
      "cell_type": "markdown",
      "metadata": {
        "id": "view-in-github",
        "colab_type": "text"
      },
      "source": [
        "<a href=\"https://colab.research.google.com/github/del-fra/courserarepo/blob/main/3-1.2ExcecptionHandling.ipynb\" target=\"_parent\"><img src=\"https://colab.research.google.com/assets/colab-badge.svg\" alt=\"Open In Colab\"/></a>"
      ]
    },
    {
      "cell_type": "markdown",
      "metadata": {
        "id": "3izTZjIc6iAu"
      },
      "source": [
        "<center>\n",
        "    <img src=\"https://cf-courses-data.s3.us.cloud-object-storage.appdomain.cloud/IBMDeveloperSkillsNetwork-PY0101EN-SkillsNetwork/IDSNlogo.png\" width=\"300\" alt=\"cognitiveclass.ai logo\"  />\n",
        "</center>\n"
      ]
    },
    {
      "cell_type": "markdown",
      "metadata": {
        "id": "q6j_xF2a6iAx"
      },
      "source": [
        "# **Exception Handling**\n",
        "\n",
        "Estimated time needed: **15** minutes\n",
        "\n",
        "## Objectives\n",
        "\n",
        "After completing this lab you will be able to:\n",
        "\n",
        "*   Understand exceptions\n",
        "*   Handle the exceptions\n"
      ]
    },
    {
      "cell_type": "markdown",
      "metadata": {
        "id": "kuwBonlG6iAy"
      },
      "source": [
        "## Table of Contents\n"
      ]
    },
    {
      "cell_type": "markdown",
      "metadata": {
        "id": "4xM_WX_s6iAz"
      },
      "source": [
        "*   What is an Exception?\n",
        "*   Exception Handling\n"
      ]
    },
    {
      "cell_type": "markdown",
      "metadata": {
        "id": "cuxBXZRZ6iA0"
      },
      "source": [
        "***\n"
      ]
    },
    {
      "cell_type": "markdown",
      "metadata": {
        "id": "18iENSAg6iA1"
      },
      "source": [
        "## What is an Exception?\n"
      ]
    },
    {
      "cell_type": "markdown",
      "metadata": {
        "id": "3QE0CsD36iA2"
      },
      "source": [
        "In this section you will learn about what an exception is and see examples of them.\n"
      ]
    },
    {
      "cell_type": "markdown",
      "metadata": {
        "id": "g7rxdif66iA3"
      },
      "source": [
        "### Definition\n"
      ]
    },
    {
      "cell_type": "markdown",
      "metadata": {
        "id": "snKa0xUk6iA8"
      },
      "source": [
        "An exception is an error that occurs during the execution of code. This error causes the code to raise an exception and if not prepared to handle it will halt the execution of the code.\n"
      ]
    },
    {
      "cell_type": "markdown",
      "metadata": {
        "id": "S1mDh6Jn6iA-"
      },
      "source": [
        "### Examples\n"
      ]
    },
    {
      "cell_type": "markdown",
      "metadata": {
        "id": "oiRcP0qp6iA_"
      },
      "source": [
        "Run each piece of code and observe the exception raised\n"
      ]
    },
    {
      "cell_type": "code",
      "metadata": {
        "id": "7pNYXein6iBA",
        "outputId": "cfcdddde-e291-491f-c16d-5139b86bdf0e",
        "colab": {
          "base_uri": "https://localhost:8080/",
          "height": 162
        }
      },
      "source": [
        "1/0"
      ],
      "execution_count": 1,
      "outputs": [
        {
          "output_type": "error",
          "ename": "ZeroDivisionError",
          "evalue": "ignored",
          "traceback": [
            "\u001b[0;31m---------------------------------------------------------------------------\u001b[0m",
            "\u001b[0;31mZeroDivisionError\u001b[0m                         Traceback (most recent call last)",
            "\u001b[0;32m<ipython-input-1-9e1622b385b6>\u001b[0m in \u001b[0;36m<module>\u001b[0;34m()\u001b[0m\n\u001b[0;32m----> 1\u001b[0;31m \u001b[0;36m1\u001b[0m\u001b[0;34m/\u001b[0m\u001b[0;36m0\u001b[0m\u001b[0;34m\u001b[0m\u001b[0;34m\u001b[0m\u001b[0m\n\u001b[0m",
            "\u001b[0;31mZeroDivisionError\u001b[0m: division by zero"
          ]
        }
      ]
    },
    {
      "cell_type": "markdown",
      "metadata": {
        "id": "ieNavh2l6iBC"
      },
      "source": [
        "<code>ZeroDivisionError</code> occurs when you try to divide by zero.\n"
      ]
    },
    {
      "cell_type": "code",
      "metadata": {
        "id": "hZFMNK2d6iBC",
        "outputId": "a419b552-4982-4b2d-ec0c-8f810ad64ec1",
        "colab": {
          "base_uri": "https://localhost:8080/",
          "height": 162
        }
      },
      "source": [
        "y = a + 5"
      ],
      "execution_count": 2,
      "outputs": [
        {
          "output_type": "error",
          "ename": "NameError",
          "evalue": "ignored",
          "traceback": [
            "\u001b[0;31m---------------------------------------------------------------------------\u001b[0m",
            "\u001b[0;31mNameError\u001b[0m                                 Traceback (most recent call last)",
            "\u001b[0;32m<ipython-input-2-6ddcec040107>\u001b[0m in \u001b[0;36m<module>\u001b[0;34m()\u001b[0m\n\u001b[0;32m----> 1\u001b[0;31m \u001b[0my\u001b[0m \u001b[0;34m=\u001b[0m \u001b[0ma\u001b[0m \u001b[0;34m+\u001b[0m \u001b[0;36m5\u001b[0m\u001b[0;34m\u001b[0m\u001b[0;34m\u001b[0m\u001b[0m\n\u001b[0m",
            "\u001b[0;31mNameError\u001b[0m: name 'a' is not defined"
          ]
        }
      ]
    },
    {
      "cell_type": "markdown",
      "metadata": {
        "id": "ojVab0Ij6iBD"
      },
      "source": [
        "<code>NameError</code> -- in this case, it means that you tried to use the variable a when it was not defined.\n"
      ]
    },
    {
      "cell_type": "code",
      "metadata": {
        "id": "BnaFWntL6iBE",
        "outputId": "111485f0-04a0-44d7-ce9d-bb3ce85aebd1",
        "colab": {
          "base_uri": "https://localhost:8080/",
          "height": 178
        }
      },
      "source": [
        "a = [1, 2, 3]\n",
        "a[10]"
      ],
      "execution_count": 3,
      "outputs": [
        {
          "output_type": "error",
          "ename": "IndexError",
          "evalue": "ignored",
          "traceback": [
            "\u001b[0;31m---------------------------------------------------------------------------\u001b[0m",
            "\u001b[0;31mIndexError\u001b[0m                                Traceback (most recent call last)",
            "\u001b[0;32m<ipython-input-3-3f911ca4e3d3>\u001b[0m in \u001b[0;36m<module>\u001b[0;34m()\u001b[0m\n\u001b[1;32m      1\u001b[0m \u001b[0ma\u001b[0m \u001b[0;34m=\u001b[0m \u001b[0;34m[\u001b[0m\u001b[0;36m1\u001b[0m\u001b[0;34m,\u001b[0m \u001b[0;36m2\u001b[0m\u001b[0;34m,\u001b[0m \u001b[0;36m3\u001b[0m\u001b[0;34m]\u001b[0m\u001b[0;34m\u001b[0m\u001b[0;34m\u001b[0m\u001b[0m\n\u001b[0;32m----> 2\u001b[0;31m \u001b[0ma\u001b[0m\u001b[0;34m[\u001b[0m\u001b[0;36m10\u001b[0m\u001b[0;34m]\u001b[0m\u001b[0;34m\u001b[0m\u001b[0;34m\u001b[0m\u001b[0m\n\u001b[0m",
            "\u001b[0;31mIndexError\u001b[0m: list index out of range"
          ]
        }
      ]
    },
    {
      "cell_type": "markdown",
      "metadata": {
        "id": "nchpA_3f6iBE"
      },
      "source": [
        "<code>IndexError</code> -- in this case, it occured because you tried to access data from a list using an index that does not exist for this list.\n"
      ]
    },
    {
      "cell_type": "markdown",
      "metadata": {
        "id": "XSjZR0ls6iBF"
      },
      "source": [
        "There are many more exceptions that are built into Python, here is a list of them [https://docs.python.org/3/library/exceptions.html](https://docs.python.org/3/library/exceptions.html?utm_medium=Exinfluencer&utm_source=Exinfluencer&utm_content=000026UJ&utm_term=10006555&utm_id=NA-SkillsNetwork-Channel-SkillsNetworkCoursesIBMDeveloperSkillsNetworkPY0101ENSkillsNetwork19487395-2021-01-01)\n"
      ]
    },
    {
      "cell_type": "markdown",
      "metadata": {
        "id": "ZvDRCy7M6iBF"
      },
      "source": [
        "## Exception Handling\n"
      ]
    },
    {
      "cell_type": "markdown",
      "metadata": {
        "id": "I9YAroqx6iBG"
      },
      "source": [
        "In this section you will learn how to handle exceptions. You will understand how to make your program perform specified tasks instead of halting code execution when an exception is encountered.\n"
      ]
    },
    {
      "cell_type": "markdown",
      "metadata": {
        "id": "6FlRyGK16iBH"
      },
      "source": [
        "### Try Except\n"
      ]
    },
    {
      "cell_type": "markdown",
      "metadata": {
        "id": "FeGJfjS56iBH"
      },
      "source": [
        "A <code>try except</code> will allow you to execute code that might raise an exception and in the case of any exception or a specific one we can handle or catch the exception and execute specific code. This will allow us to continue the execution of our program even if there is an exception.\n",
        "\n",
        "Python tries to execute the code in the <code>try</code> block. In this case if there is any exception raised by the code in the <code>try</code> block, it will be caught and the code block in the <code>except</code> block will be executed. After that, the code that comes <em>after</em> the try except will be executed.\n"
      ]
    },
    {
      "cell_type": "code",
      "metadata": {
        "id": "z9u-Bqgx6iBI"
      },
      "source": [
        "# potential code before try catch\n",
        "\n",
        "try:\n",
        "    # code to try to execute\n",
        "except:\n",
        "    # code to execute if there is an exception\n",
        "    \n",
        "# code that will still execute if there is an exception"
      ],
      "execution_count": null,
      "outputs": []
    },
    {
      "cell_type": "markdown",
      "metadata": {
        "id": "eIGf9zNj6iBJ"
      },
      "source": [
        "### Try Except Example\n"
      ]
    },
    {
      "cell_type": "markdown",
      "metadata": {
        "id": "BDeloAbC6iBJ"
      },
      "source": [
        "In this example we are trying to divide a number given by the user, save the outcome in the variable <code>a</code>, and then we would like to print the result of the operation. When taking user input and dividing a number by it there are a couple of exceptions that can be raised. For example if we divide by zero. Try running the following block of code with <code>b</code> as a number. An exception will only be raised if <code>b</code> is zero.\n"
      ]
    },
    {
      "cell_type": "code",
      "metadata": {
        "id": "u7L7f08o6iBK",
        "outputId": "3b8ab07b-26fb-4f31-a697-c84c5439f4e6",
        "colab": {
          "base_uri": "https://localhost:8080/"
        }
      },
      "source": [
        "a = 1\n",
        "\n",
        "try:\n",
        "    b = int(input(\"Please enter a number to divide a\"))\n",
        "    a = a/b\n",
        "    print(\"Success a=\",a)\n",
        "except:\n",
        "    print(\"There was an error\")\n",
        "        \n"
      ],
      "execution_count": 5,
      "outputs": [
        {
          "output_type": "stream",
          "name": "stdout",
          "text": [
            "Please enter a number to divide a2\n",
            "Success a= 0.5\n"
          ]
        }
      ]
    },
    {
      "cell_type": "markdown",
      "metadata": {
        "id": "tseuG5gi6iBK"
      },
      "source": [
        "### Try Except Specific\n"
      ]
    },
    {
      "cell_type": "markdown",
      "metadata": {
        "id": "W_ND6w8-6iBL"
      },
      "source": [
        "A specific <code>try except</code> allows you to catch certain exceptions and also execute certain code depending on the exception. This is useful if you do not want to deal with some exceptions and the execution should halt. It can also help you find errors in your code that you might not be aware of. Furthermore, it can help you differentiate responses to different exceptions. In this case, the code after the try except might not run depending on the error.\n"
      ]
    },
    {
      "cell_type": "markdown",
      "metadata": {
        "id": "yLahHuY_6iBL"
      },
      "source": [
        "<b>Do not run, just to illustrate:</b>\n"
      ]
    },
    {
      "cell_type": "code",
      "metadata": {
        "id": "AEyIxOVc6iBM"
      },
      "source": [
        "# potential code before try catch\n",
        "\n",
        "try:\n",
        "    # code to try to execute\n",
        "except (ZeroDivisionError, NameError):\n",
        "    # code to execute if there is an exception of the given types\n",
        "    \n",
        "# code that will execute if there is no exception or a one that we are handling"
      ],
      "execution_count": null,
      "outputs": []
    },
    {
      "cell_type": "code",
      "metadata": {
        "id": "20U1sn_L6iBM"
      },
      "source": [
        "# potential code before try catch\n",
        "\n",
        "try:\n",
        "    # code to try to execute\n",
        "except ZeroDivisionError:\n",
        "    # code to execute if there is a ZeroDivisionError\n",
        "except NameError:\n",
        "    # code to execute if there is a NameError\n",
        "    \n",
        "# code that will execute if there is no exception or a one that we are handling"
      ],
      "execution_count": null,
      "outputs": []
    },
    {
      "cell_type": "markdown",
      "metadata": {
        "id": "4KZkPMW46iBN"
      },
      "source": [
        "You can also have an empty <code>except</code> at the end to catch an unexpected exception:\n"
      ]
    },
    {
      "cell_type": "markdown",
      "metadata": {
        "id": "enpBSxSl6iBN"
      },
      "source": [
        "<b>Do not run, just to illustrate:</b>\n"
      ]
    },
    {
      "cell_type": "code",
      "metadata": {
        "id": "QbYTQ4Jt6iBN"
      },
      "source": [
        "# potential code before try catch\n",
        "\n",
        "try:\n",
        "    # code to try to execute\n",
        "except ZeroDivisionError:\n",
        "    # code to execute if there is a ZeroDivisionError\n",
        "except NameError:\n",
        "    # code to execute if there is a NameError\n",
        "except:\n",
        "    # code to execute if ther is any exception\n",
        "    \n",
        "# code that will execute if there is no exception or a one that we are handling"
      ],
      "execution_count": null,
      "outputs": []
    },
    {
      "cell_type": "markdown",
      "metadata": {
        "id": "Bnf1hvsP6iBO"
      },
      "source": [
        "### Try Except Specific Example\n"
      ]
    },
    {
      "cell_type": "markdown",
      "metadata": {
        "id": "QKV852XJ6iBO"
      },
      "source": [
        "This is the same example as above, but now we will add differentiated messages depending on the exception, letting the user know what is wrong with the input.\n"
      ]
    },
    {
      "cell_type": "code",
      "metadata": {
        "id": "7Fk3_-r76iBP",
        "outputId": "766a0851-d0e9-4414-d93d-94fd0dde884c",
        "colab": {
          "base_uri": "https://localhost:8080/"
        }
      },
      "source": [
        "a = 1\n",
        "\n",
        "try:\n",
        "    b = int(input(\"Please enter a number to divide a\"))\n",
        "    a = a/b\n",
        "    print(\"Success a=\",a)\n",
        "except ZeroDivisionError:\n",
        "    print(\"The number you provided cant divide 1 because it is 0\")\n",
        "except ValueError:\n",
        "    print(\"You did not provide a number\")\n",
        "except:\n",
        "    print(\"Something went wrong\")\n",
        "        \n"
      ],
      "execution_count": 14,
      "outputs": [
        {
          "output_type": "stream",
          "name": "stdout",
          "text": [
            "Please enter a number to divide a0\n",
            "The number you provided cant divide 1 because it is 0\n"
          ]
        }
      ]
    },
    {
      "cell_type": "markdown",
      "metadata": {
        "id": "gKi09ikJ6iBP"
      },
      "source": [
        "### Try Except Else and Finally\n"
      ]
    },
    {
      "cell_type": "markdown",
      "metadata": {
        "id": "tS8nuE4I6iBP"
      },
      "source": [
        "<code>else</code> allows one to check if there was no exception when executing the try block. This is useful when we want to execute something only if there were no errors.\n"
      ]
    },
    {
      "cell_type": "markdown",
      "metadata": {
        "id": "YmDere1g6iBQ"
      },
      "source": [
        "<b>do not run, just to illustrate</b>\n"
      ]
    },
    {
      "cell_type": "code",
      "metadata": {
        "id": "-ccYkqTh6iBQ"
      },
      "source": [
        "# potential code before try catch\n",
        "\n",
        "try:\n",
        "    # code to try to execute\n",
        "except ZeroDivisionError:\n",
        "    # code to execute if there is a ZeroDivisionError\n",
        "except NameError:\n",
        "    # code to execute if there is a NameError\n",
        "except:\n",
        "    # code to execute if ther is any exception\n",
        "else:\n",
        "    # code to execute if there is no exception\n",
        "    \n",
        "# code that will execute if there is no exception or a one that we are handling"
      ],
      "execution_count": null,
      "outputs": []
    },
    {
      "cell_type": "markdown",
      "metadata": {
        "id": "BiDbuQJT6iBR"
      },
      "source": [
        "<code>finally</code> allows us to always execute something even if there is an exception or not. This is usually used to signify the end of the try except.\n"
      ]
    },
    {
      "cell_type": "code",
      "metadata": {
        "id": "vQJxk4jV6iBR"
      },
      "source": [
        "# potential code before try catch\n",
        "\n",
        "try:\n",
        "    # code to try to execute\n",
        "except ZeroDivisionError:\n",
        "    # code to execute if there is a ZeroDivisionError\n",
        "except NameError:\n",
        "    # code to execute if there is a NameError\n",
        "except:\n",
        "    # code to execute if ther is any exception\n",
        "else:\n",
        "    # code to execute if there is no exception\n",
        "finally:\n",
        "    # code to execute at the end of the try except no matter what\n",
        "    \n",
        "# code that will execute if there is no exception or a one that we are handling"
      ],
      "execution_count": null,
      "outputs": []
    },
    {
      "cell_type": "markdown",
      "metadata": {
        "id": "1v3sn5SJ6iBR"
      },
      "source": [
        "### Try Except Else and Finally Example\n"
      ]
    },
    {
      "cell_type": "markdown",
      "metadata": {
        "id": "NCU6vpBr6iBS"
      },
      "source": [
        "You might have noticed that even if there is an error the value of <code>a</code> is always printed. Let's use the <code>else</code> and print the value of <code>a</code> only if there is no error.\n"
      ]
    },
    {
      "cell_type": "code",
      "metadata": {
        "id": "xeCzrheH6iBS",
        "outputId": "02ea13d4-75fb-4bb1-b386-5df41a7d6517",
        "colab": {
          "base_uri": "https://localhost:8080/"
        }
      },
      "source": [
        "a = 1\n",
        "\n",
        "try:\n",
        "    b = int(input(\"Please enter a number to divide a\"))\n",
        "    a = a/b\n",
        "except ZeroDivisionError:\n",
        "    print(\"The number you provided cant divide 1 because it is 0\")\n",
        "except ValueError:\n",
        "    print(\"You did not provide a number\")\n",
        "except:\n",
        "    print(\"Something went wrong\")\n",
        "else:\n",
        "    print(\"success a=\",a)"
      ],
      "execution_count": 15,
      "outputs": [
        {
          "output_type": "stream",
          "name": "stdout",
          "text": [
            "Please enter a number to divide a0\n",
            "The number you provided cant divide 1 because it is 0\n"
          ]
        }
      ]
    },
    {
      "cell_type": "markdown",
      "metadata": {
        "id": "1S4gXxSu6iBS"
      },
      "source": [
        "Now lets let the user know that we are done processing their answer. Using the <code>finally</code>, let's add a print.\n"
      ]
    },
    {
      "cell_type": "code",
      "metadata": {
        "id": "xAzZV4Re6iBT",
        "outputId": "6d356971-6899-426f-e56e-930d81745f19",
        "colab": {
          "base_uri": "https://localhost:8080/"
        }
      },
      "source": [
        "a = 1\n",
        "\n",
        "try:\n",
        "    b = int(input(\"Please enter a number to divide a\"))\n",
        "    a = a/b\n",
        "except ZeroDivisionError:\n",
        "    print(\"The number you provided cant divide 1 because it is 0\")\n",
        "except ValueError:\n",
        "    print(\"You did not provide a number\")\n",
        "except:\n",
        "    print(\"Something went wrong\")\n",
        "else:\n",
        "    print(\"success a=\",a)\n",
        "finally:\n",
        "    print(\"Processing Complete\")"
      ],
      "execution_count": 16,
      "outputs": [
        {
          "output_type": "stream",
          "name": "stdout",
          "text": [
            "Please enter a number to divide a0\n",
            "The number you provided cant divide 1 because it is 0\n",
            "Processing Complete\n"
          ]
        }
      ]
    },
    {
      "cell_type": "markdown",
      "metadata": {
        "id": "bQwEXLtx6iBT"
      },
      "source": [
        "## Authors\n"
      ]
    },
    {
      "cell_type": "markdown",
      "metadata": {
        "id": "a0giJoQn6iBT"
      },
      "source": [
        "<a href=\"https://www.linkedin.com/in/joseph-s-50398b136/?utm_medium=Exinfluencer&utm_source=Exinfluencer&utm_content=000026UJ&utm_term=10006555&utm_id=NA-SkillsNetwork-Channel-SkillsNetworkCoursesIBMDeveloperSkillsNetworkPY0101ENSkillsNetwork19487395-2021-01-01\" target=\"_blank\">Joseph Santarcangelo</a>\n"
      ]
    },
    {
      "cell_type": "markdown",
      "metadata": {
        "id": "hjopTN4A6iBU"
      },
      "source": [
        "## Change Log\n",
        "\n",
        "| Date (YYYY-MM-DD) | Version | Changed By | Change Description           |\n",
        "| ----------------- | ------- | ---------- | ---------------------------- |\n",
        "| 2020-09-02        | 2.0     | Simran     | Template updates to the file |\n",
        "|                   |         |            |                              |\n",
        "|                   |         |            |                              |\n",
        "\n",
        "## <h3 align=\"center\"> © IBM Corporation 2020. All rights reserved. <h3/>\n"
      ]
    }
  ]
}