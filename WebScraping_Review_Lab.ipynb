{
  "nbformat": 4,
  "nbformat_minor": 0,
  "metadata": {
    "kernelspec": {
      "display_name": "Python",
      "language": "python",
      "name": "conda-env-python-py"
    },
    "language_info": {
      "codemirror_mode": {
        "name": "ipython",
        "version": 3
      },
      "file_extension": ".py",
      "mimetype": "text/x-python",
      "name": "python",
      "nbconvert_exporter": "python",
      "pygments_lexer": "ipython3",
      "version": "3.7.10"
    },
    "colab": {
      "name": "WebScraping_Review_Lab.ipynb",
      "provenance": [],
      "include_colab_link": true
    }
  },
  "cells": [
    {
      "cell_type": "markdown",
      "metadata": {
        "id": "view-in-github",
        "colab_type": "text"
      },
      "source": [
        "<a href=\"https://colab.research.google.com/github/del-fra/courserarepo/blob/main/WebScraping_Review_Lab.ipynb\" target=\"_parent\"><img src=\"https://colab.research.google.com/assets/colab-badge.svg\" alt=\"Open In Colab\"/></a>"
      ]
    },
    {
      "cell_type": "markdown",
      "metadata": {
        "id": "oVoFuOFMsRZ5"
      },
      "source": [
        "<center>\n",
        "    <img src=\"https://gitlab.com/ibm/skills-network/courses/placeholder101/-/raw/master/labs/module%201/images/IDSNlogo.png\" width=\"300\" alt=\"cognitiveclass.ai logo\"  />\n",
        "</center>\n"
      ]
    },
    {
      "cell_type": "markdown",
      "metadata": {
        "id": "R6eSlgjrsRZ8"
      },
      "source": [
        "# **Web Scraping Lab**\n"
      ]
    },
    {
      "cell_type": "markdown",
      "metadata": {
        "id": "9UF_PkH2sRZ8"
      },
      "source": [
        "Estimated time needed: **30** minutes\n"
      ]
    },
    {
      "cell_type": "markdown",
      "metadata": {
        "id": "CprxzoIYsRZ9"
      },
      "source": [
        "## Objectives\n"
      ]
    },
    {
      "cell_type": "markdown",
      "metadata": {
        "id": "2x1q4ie6sRZ9"
      },
      "source": [
        "After completing this lab you will be able to:\n"
      ]
    },
    {
      "cell_type": "markdown",
      "metadata": {
        "id": "o4LDFpYUsRZ9"
      },
      "source": [
        "<h2>Table of Contents</h2>\n",
        "<div class=\"alert alert-block alert-info\" style=\"margin-top: 20px\">\n",
        "    <ul>\n",
        "        <li>\n",
        "            <a href=\"https://bso/?utm_medium=Exinfluencer&utm_source=Exinfluencer&utm_content=000026UJ&utm_term=10006555&utm_id=NA-SkillsNetwork-Channel-SkillsNetworkCoursesIBMDeveloperSkillsNetworkPY0220ENSkillsNetwork23455606-2021-01-01\">Beautiful Soup Object</a>\n",
        "            <ul>\n",
        "                <li>Tag</li>\n",
        "                <li>Children, Parents, and Siblings</li>\n",
        "                <li>HTML Attributes</li>\n",
        "                <li>Navigable String</li>\n",
        "            </ul>\n",
        "        </li>\n",
        "     </ul>\n",
        "    <ul>\n",
        "        <li>\n",
        "            <a href=\"https://filter/?utm_medium=Exinfluencer&utm_source=Exinfluencer&utm_content=000026UJ&utm_term=10006555&utm_id=NA-SkillsNetwork-Channel-SkillsNetworkCoursesIBMDeveloperSkillsNetworkPY0220ENSkillsNetwork23455606-2021-01-01\">Filter</a>\n",
        "            <ul>\n",
        "                <li>find All</li>\n",
        "                <li>find </li>\n",
        "                <li>HTML Attributes</li>\n",
        "                <li>Navigable String</li>\n",
        "            </ul>\n",
        "        </li>\n",
        "     </ul>\n",
        "     <ul>\n",
        "        <li>\n",
        "            <a href=\"https://dscw/?utm_medium=Exinfluencer&utm_source=Exinfluencer&utm_content=000026UJ&utm_term=10006555&utm_id=NA-SkillsNetwork-Channel-SkillsNetworkCoursesIBMDeveloperSkillsNetworkPY0220ENSkillsNetwork23455606-2021-01-01\">Downloading And Scraping The Contents Of A Web</a>\n",
        "    </li>\n",
        "         </ul>\n",
        "    <p>\n",
        "        Estimated time needed: <strong>25 min</strong>\n",
        "    </p>\n",
        "\n",
        "</div>\n",
        "\n",
        "<hr>\n"
      ]
    },
    {
      "cell_type": "markdown",
      "metadata": {
        "id": "YaHRccqQsRZ-"
      },
      "source": [
        ""
      ]
    },
    {
      "cell_type": "markdown",
      "metadata": {
        "id": "040_E34GsRZ_"
      },
      "source": [
        "For this lab, we are going to be using Python and several Python libraries. Some of these libraries might be installed in your lab environment or in SN Labs. Others may need to be installed by you. The cells below will install these libraries when executed.\n"
      ]
    },
    {
      "cell_type": "code",
      "metadata": {
        "id": "7zB_ATXqsRZ_",
        "outputId": "d285d2fd-fb2b-4751-af67-3fe69def8208",
        "colab": {
          "base_uri": "https://localhost:8080/"
        }
      },
      "source": [
        "!pip install bs4\n",
        "!pip install lxml\n",
        "!pip install html5lib\n",
        "#!pip install requests"
      ],
      "execution_count": 1,
      "outputs": [
        {
          "output_type": "stream",
          "name": "stdout",
          "text": [
            "Requirement already satisfied: bs4 in /usr/local/lib/python3.7/dist-packages (0.0.1)\n",
            "Requirement already satisfied: beautifulsoup4 in /usr/local/lib/python3.7/dist-packages (from bs4) (4.6.3)\n",
            "Requirement already satisfied: lxml in /usr/local/lib/python3.7/dist-packages (4.2.6)\n",
            "Requirement already satisfied: html5lib in /usr/local/lib/python3.7/dist-packages (1.0.1)\n",
            "Requirement already satisfied: webencodings in /usr/local/lib/python3.7/dist-packages (from html5lib) (0.5.1)\n",
            "Requirement already satisfied: six>=1.9 in /usr/local/lib/python3.7/dist-packages (from html5lib) (1.15.0)\n"
          ]
        }
      ]
    },
    {
      "cell_type": "markdown",
      "metadata": {
        "id": "Jal_Su8PsRaA"
      },
      "source": [
        "Import the required modules and functions\n"
      ]
    },
    {
      "cell_type": "code",
      "metadata": {
        "id": "WcmMyWcPsRaB"
      },
      "source": [
        "from bs4 import BeautifulSoup # this module helps in web scrapping.\n",
        "import requests  # this module helps us to download a web page"
      ],
      "execution_count": 2,
      "outputs": []
    },
    {
      "cell_type": "markdown",
      "metadata": {
        "id": "VcLqpAA5sRaB"
      },
      "source": [
        "<h2 id=\"BSO\">Beautiful Soup Objects</h2>\n"
      ]
    },
    {
      "cell_type": "markdown",
      "metadata": {
        "id": "8460VpM8sRaB"
      },
      "source": [
        "Beautiful Soup is a Python library for pulling data out of HTML and XML files, we will focus on HTML files. This is accomplished by representing the HTML as a set of objects with methods used to parse the HTML.  We can navigate the HTML as a tree and/or filter out what we are looking for.\n",
        "\n",
        "Consider the following HTML:\n"
      ]
    },
    {
      "cell_type": "code",
      "metadata": {
        "id": "OM7gagxssRaC",
        "outputId": "a53fefc7-3de7-4fcb-c683-fa64b506989f"
      },
      "source": [
        "%%html\n",
        "<!DOCTYPE html>\n",
        "<html>\n",
        "<head>\n",
        "<title>Page Title</title>\n",
        "</head>\n",
        "<body>\n",
        "<h3><b id='boldest'>Lebron James</b></h3>\n",
        "<p> Salary: $ 92,000,000 </p>\n",
        "<h3> Stephen Curry</h3>\n",
        "<p> Salary: $85,000, 000 </p>\n",
        "<h3> Kevin Durant </h3>\n",
        "<p> Salary: $73,200, 000</p>\n",
        "</body>\n",
        "</html>"
      ],
      "execution_count": null,
      "outputs": [
        {
          "data": {
            "text/html": [
              "<!DOCTYPE html>\n",
              "<html>\n",
              "<head>\n",
              "<title>Page Title</title>\n",
              "</head>\n",
              "<body>\n",
              "<h3><b id='boldest'>Lebron James</b></h3>\n",
              "<p> Salary: $ 92,000,000 </p>\n",
              "<h3> Stephen Curry</h3>\n",
              "<p> Salary: $85,000, 000 </p>\n",
              "<h3> Kevin Durant </h3>\n",
              "<p> Salary: $73,200, 000</p>\n",
              "</body>\n",
              "</html>\n"
            ],
            "text/plain": [
              "<IPython.core.display.HTML object>"
            ]
          },
          "metadata": {},
          "output_type": "display_data"
        }
      ]
    },
    {
      "cell_type": "markdown",
      "metadata": {
        "id": "-PCoN7_esRaC"
      },
      "source": [
        "We can store it as a string in the variable HTML:\n"
      ]
    },
    {
      "cell_type": "code",
      "metadata": {
        "id": "QCY9OD2MsRaD"
      },
      "source": [
        "html=\"<!DOCTYPE html><html><head><title>Page Title</title></head><body><h3><b id='boldest'>Lebron James</b></h3><p> Salary: $ 92,000,000 </p><h3> Stephen Curry</h3><p> Salary: $85,000, 000 </p><h3> Kevin Durant </h3><p> Salary: $73,200, 000</p></body></html>\""
      ],
      "execution_count": 3,
      "outputs": []
    },
    {
      "cell_type": "markdown",
      "metadata": {
        "id": "ouZpZY1KsRaD"
      },
      "source": [
        "To parse a document, pass it into the <code>BeautifulSoup</code> constructor, the <code>BeautifulSoup</code> object, which represents the document as a nested data structure:\n"
      ]
    },
    {
      "cell_type": "code",
      "metadata": {
        "id": "_zPihojysRaD"
      },
      "source": [
        "soup = BeautifulSoup(html, \"html.parser\")"
      ],
      "execution_count": 4,
      "outputs": []
    },
    {
      "cell_type": "markdown",
      "metadata": {
        "id": "BUvp5SO2sRaD"
      },
      "source": [
        "First, the document is converted to Unicode, (similar to ASCII),  and HTML entities are converted to Unicode characters. Beautiful Soup transforms a complex HTML document into a complex tree of Python objects. The <code>BeautifulSoup</code> object can create other types of objects. In this lab, we will cover <code>BeautifulSoup</code> and <code>Tag</code> objects that for the purposes of this lab are identical, and <code>NavigableString</code> objects.\n"
      ]
    },
    {
      "cell_type": "markdown",
      "metadata": {
        "id": "h9ubANnMsRaD"
      },
      "source": [
        "We can use the method <code>prettify()</code> to display the HTML in the nested structure:\n"
      ]
    },
    {
      "cell_type": "code",
      "metadata": {
        "id": "NiwLSHIHsRaE",
        "outputId": "7b721932-cc72-44ca-a846-43f272f82480",
        "colab": {
          "base_uri": "https://localhost:8080/"
        }
      },
      "source": [
        "print(soup.prettify())"
      ],
      "execution_count": 5,
      "outputs": [
        {
          "output_type": "stream",
          "name": "stdout",
          "text": [
            "<!DOCTYPE html>\n",
            "<html>\n",
            " <head>\n",
            "  <title>\n",
            "   Page Title\n",
            "  </title>\n",
            " </head>\n",
            " <body>\n",
            "  <h3>\n",
            "   <b id=\"boldest\">\n",
            "    Lebron James\n",
            "   </b>\n",
            "  </h3>\n",
            "  <p>\n",
            "   Salary: $ 92,000,000\n",
            "  </p>\n",
            "  <h3>\n",
            "   Stephen Curry\n",
            "  </h3>\n",
            "  <p>\n",
            "   Salary: $85,000, 000\n",
            "  </p>\n",
            "  <h3>\n",
            "   Kevin Durant\n",
            "  </h3>\n",
            "  <p>\n",
            "   Salary: $73,200, 000\n",
            "  </p>\n",
            " </body>\n",
            "</html>\n"
          ]
        }
      ]
    },
    {
      "cell_type": "markdown",
      "metadata": {
        "id": "PmlDgUkhsRaE"
      },
      "source": [
        "## Tags\n"
      ]
    },
    {
      "cell_type": "markdown",
      "metadata": {
        "id": "Y--BDKb4sRaE"
      },
      "source": [
        "Let's say we want the  title of the page and the name of the top paid player we can use the <code>Tag</code>. The <code>Tag</code> object corresponds to an HTML tag in the original document, for example, the tag title.\n"
      ]
    },
    {
      "cell_type": "code",
      "metadata": {
        "id": "oq0Ko7HZsRaE",
        "outputId": "a614b8b0-f790-4eb7-f22b-f66fc0991c0e",
        "colab": {
          "base_uri": "https://localhost:8080/"
        }
      },
      "source": [
        "tag_object=soup.title\n",
        "print(\"tag object:\",tag_object)"
      ],
      "execution_count": 6,
      "outputs": [
        {
          "output_type": "stream",
          "name": "stdout",
          "text": [
            "tag object: <title>Page Title</title>\n"
          ]
        }
      ]
    },
    {
      "cell_type": "markdown",
      "metadata": {
        "id": "6ZaWMGwPsRaE"
      },
      "source": [
        "we can see the tag type <code>bs4.element.Tag</code>\n"
      ]
    },
    {
      "cell_type": "code",
      "metadata": {
        "id": "fUoyaBjOsRaF",
        "outputId": "c8491a42-6f29-42e4-9e29-7346f910469a",
        "colab": {
          "base_uri": "https://localhost:8080/"
        }
      },
      "source": [
        "print(\"tag object type:\",type(tag_object))"
      ],
      "execution_count": 7,
      "outputs": [
        {
          "output_type": "stream",
          "name": "stdout",
          "text": [
            "tag object type: <class 'bs4.element.Tag'>\n"
          ]
        }
      ]
    },
    {
      "cell_type": "markdown",
      "metadata": {
        "id": "CcZyG2IJsRaF"
      },
      "source": [
        "If there is more than one <code>Tag</code>  with the same name, the first element with that <code>Tag</code> name is called, this corresponds to the most paid player:\n"
      ]
    },
    {
      "cell_type": "code",
      "metadata": {
        "id": "UO4gMnorsRaF",
        "outputId": "10e49c68-782b-477d-dfe4-ef22447efc20",
        "colab": {
          "base_uri": "https://localhost:8080/"
        }
      },
      "source": [
        "tag_object=soup.h3\n",
        "tag_object"
      ],
      "execution_count": 8,
      "outputs": [
        {
          "output_type": "execute_result",
          "data": {
            "text/plain": [
              "<h3><b id=\"boldest\">Lebron James</b></h3>"
            ]
          },
          "metadata": {},
          "execution_count": 8
        }
      ]
    },
    {
      "cell_type": "markdown",
      "metadata": {
        "id": "TzUZVLEWsRaF"
      },
      "source": [
        "Enclosed in the bold attribute <code>b</code>, it helps to use the tree representation. We can navigate down the tree using the child attribute to get the name.\n"
      ]
    },
    {
      "cell_type": "markdown",
      "metadata": {
        "id": "9k-VvK6GsRaF"
      },
      "source": [
        "### Children, Parents, and Siblings\n"
      ]
    },
    {
      "cell_type": "markdown",
      "metadata": {
        "id": "1bjNXaeXsRaF"
      },
      "source": [
        "As stated above the <code>Tag</code> object is a tree of objects we can access the child of the tag or navigate down the branch as follows:\n"
      ]
    },
    {
      "cell_type": "code",
      "metadata": {
        "id": "XpYM_sk2sRaF",
        "outputId": "f4de20ee-b16b-4296-8a76-eca0c85136f7",
        "colab": {
          "base_uri": "https://localhost:8080/"
        }
      },
      "source": [
        "tag_child =tag_object.b\n",
        "tag_child"
      ],
      "execution_count": 9,
      "outputs": [
        {
          "output_type": "execute_result",
          "data": {
            "text/plain": [
              "<b id=\"boldest\">Lebron James</b>"
            ]
          },
          "metadata": {},
          "execution_count": 9
        }
      ]
    },
    {
      "cell_type": "markdown",
      "metadata": {
        "id": "gqvNdKYMsRaG"
      },
      "source": [
        "You can access the parent with the <code> parent</code>\n"
      ]
    },
    {
      "cell_type": "code",
      "metadata": {
        "id": "2g_Z8QrRsRaG",
        "outputId": "ccdad974-5f97-4c38-ff19-f91cc4fb33a6",
        "colab": {
          "base_uri": "https://localhost:8080/"
        }
      },
      "source": [
        "parent_tag=tag_child.parent\n",
        "parent_tag"
      ],
      "execution_count": 10,
      "outputs": [
        {
          "output_type": "execute_result",
          "data": {
            "text/plain": [
              "<h3><b id=\"boldest\">Lebron James</b></h3>"
            ]
          },
          "metadata": {},
          "execution_count": 10
        }
      ]
    },
    {
      "cell_type": "markdown",
      "metadata": {
        "id": "f5ooMktWsRaG"
      },
      "source": [
        "this is identical to\n"
      ]
    },
    {
      "cell_type": "code",
      "metadata": {
        "id": "rgc96MgNsRaG",
        "outputId": "abf5dd9c-58a5-433c-8d97-52e6cf71ba28",
        "colab": {
          "base_uri": "https://localhost:8080/"
        }
      },
      "source": [
        "tag_object"
      ],
      "execution_count": 11,
      "outputs": [
        {
          "output_type": "execute_result",
          "data": {
            "text/plain": [
              "<h3><b id=\"boldest\">Lebron James</b></h3>"
            ]
          },
          "metadata": {},
          "execution_count": 11
        }
      ]
    },
    {
      "cell_type": "markdown",
      "metadata": {
        "id": "fUrI3VjfsRaG"
      },
      "source": [
        "<code>tag_object</code> parent is the <code>body</code> element.\n"
      ]
    },
    {
      "cell_type": "code",
      "metadata": {
        "id": "nAOD9dzYsRaH",
        "outputId": "55b7d5c5-d3c7-411c-f487-fd83248dcca2",
        "colab": {
          "base_uri": "https://localhost:8080/"
        }
      },
      "source": [
        "tag_object.parent"
      ],
      "execution_count": 12,
      "outputs": [
        {
          "output_type": "execute_result",
          "data": {
            "text/plain": [
              "<body><h3><b id=\"boldest\">Lebron James</b></h3><p> Salary: $ 92,000,000 </p><h3> Stephen Curry</h3><p> Salary: $85,000, 000 </p><h3> Kevin Durant </h3><p> Salary: $73,200, 000</p></body>"
            ]
          },
          "metadata": {},
          "execution_count": 12
        }
      ]
    },
    {
      "cell_type": "markdown",
      "metadata": {
        "id": "J66VGd2wsRaH"
      },
      "source": [
        "<code>tag_object</code> sibling is the <code>paragraph</code> element\n"
      ]
    },
    {
      "cell_type": "code",
      "metadata": {
        "id": "av-ApmDysRaH",
        "outputId": "e21849b5-cc72-4041-b442-1277e8d62cde",
        "colab": {
          "base_uri": "https://localhost:8080/"
        }
      },
      "source": [
        "sibling_1=tag_object.next_sibling\n",
        "sibling_1"
      ],
      "execution_count": 13,
      "outputs": [
        {
          "output_type": "execute_result",
          "data": {
            "text/plain": [
              "<p> Salary: $ 92,000,000 </p>"
            ]
          },
          "metadata": {},
          "execution_count": 13
        }
      ]
    },
    {
      "cell_type": "markdown",
      "metadata": {
        "id": "avwus7EtsRaH"
      },
      "source": [
        "`sibling_2` is the `header` element which is also a sibling of both `sibling_1` and `tag_object`\n"
      ]
    },
    {
      "cell_type": "code",
      "metadata": {
        "id": "DUFNyi8PsRaH",
        "outputId": "bc31ccd5-ac97-47a2-9aa9-c4322b8c07b8",
        "colab": {
          "base_uri": "https://localhost:8080/"
        }
      },
      "source": [
        "sibling_2=sibling_1.next_sibling\n",
        "sibling_2"
      ],
      "execution_count": 14,
      "outputs": [
        {
          "output_type": "execute_result",
          "data": {
            "text/plain": [
              "<h3> Stephen Curry</h3>"
            ]
          },
          "metadata": {},
          "execution_count": 14
        }
      ]
    },
    {
      "cell_type": "markdown",
      "metadata": {
        "id": "YL7QBTNPsRaH"
      },
      "source": [
        "<h3 id=\"first_question\">Exercise: <code>next_sibling</code></h3>\n"
      ]
    },
    {
      "cell_type": "markdown",
      "metadata": {
        "id": "l-kedJ2jsRaI"
      },
      "source": [
        "Using the object <code>sibling\\_2</code> and the property <code>next_sibling</code> to find the salary of Stephen Curry:\n"
      ]
    },
    {
      "cell_type": "code",
      "metadata": {
        "id": "qvXayRkhsRaI",
        "outputId": "b19e4fed-f8b8-412a-a924-1445dd1d68f9",
        "colab": {
          "base_uri": "https://localhost:8080/"
        }
      },
      "source": [
        "sibling_3 = sibling_2.next_sibling\n",
        "sibling_3"
      ],
      "execution_count": 15,
      "outputs": [
        {
          "output_type": "execute_result",
          "data": {
            "text/plain": [
              "<p> Salary: $85,000, 000 </p>"
            ]
          },
          "metadata": {},
          "execution_count": 15
        }
      ]
    },
    {
      "cell_type": "markdown",
      "metadata": {
        "id": "hgwII-A5sRaI"
      },
      "source": [
        "<details><summary>Click here for the solution</summary>\n",
        "\n",
        "```\n",
        "sibling_2.next_sibling\n",
        "\n",
        "```\n",
        "\n",
        "</details>\n"
      ]
    },
    {
      "cell_type": "markdown",
      "metadata": {
        "id": "FhWd6FCpsRaI"
      },
      "source": [
        "### HTML Attributes\n"
      ]
    },
    {
      "cell_type": "markdown",
      "metadata": {
        "id": "sltLuHK3sRaI"
      },
      "source": [
        "If the tag has attributes, the tag <code>id=\"boldest\"</code> has an attribute <code>id</code> whose value is <code>boldest</code>. You can access a tag’s attributes by treating the tag like a dictionary:\n"
      ]
    },
    {
      "cell_type": "code",
      "metadata": {
        "id": "XSLOighnsRaI",
        "outputId": "d375659d-8604-4315-984b-f53d918d926c",
        "colab": {
          "base_uri": "https://localhost:8080/",
          "height": 35
        }
      },
      "source": [
        "tag_child['id']"
      ],
      "execution_count": 16,
      "outputs": [
        {
          "output_type": "execute_result",
          "data": {
            "application/vnd.google.colaboratory.intrinsic+json": {
              "type": "string"
            },
            "text/plain": [
              "'boldest'"
            ]
          },
          "metadata": {},
          "execution_count": 16
        }
      ]
    },
    {
      "cell_type": "markdown",
      "metadata": {
        "id": "pHWS_vWLsRaI"
      },
      "source": [
        "You can access that dictionary directly as <code>attrs</code>:\n"
      ]
    },
    {
      "cell_type": "code",
      "metadata": {
        "id": "3DMzIQN2sRaJ",
        "outputId": "f00e3df0-a6b1-4cde-9981-982c02538103"
      },
      "source": [
        "tag_child.attrs"
      ],
      "execution_count": null,
      "outputs": [
        {
          "data": {
            "text/plain": [
              "{'id': 'boldest'}"
            ]
          },
          "execution_count": 16,
          "metadata": {},
          "output_type": "execute_result"
        }
      ]
    },
    {
      "cell_type": "markdown",
      "metadata": {
        "id": "0ZAw1-d4sRaJ"
      },
      "source": [
        "You can also work with Multi-valued attribute check out <a href=\"https://www.crummy.com/software/BeautifulSoup/bs4/doc/?utm_medium=Exinfluencer&utm_source=Exinfluencer&utm_content=000026UJ&utm_term=10006555&utm_id=NA-SkillsNetwork-Channel-SkillsNetworkCoursesIBMDeveloperSkillsNetworkPY0220ENSkillsNetwork23455606-2021-01-01\">\\[1]</a> for more.\n"
      ]
    },
    {
      "cell_type": "markdown",
      "metadata": {
        "id": "5nuBiciGsRaJ"
      },
      "source": [
        "We can also obtain the content if the attribute of the <code>tag</code> using the Python <code>get()</code> method.\n"
      ]
    },
    {
      "cell_type": "code",
      "metadata": {
        "id": "Ytyieb7AsRaJ",
        "outputId": "cd29cf9a-6e73-4650-98bc-d8fd05f4a92c",
        "colab": {
          "base_uri": "https://localhost:8080/",
          "height": 35
        }
      },
      "source": [
        "tag_child.get('id')"
      ],
      "execution_count": 17,
      "outputs": [
        {
          "output_type": "execute_result",
          "data": {
            "application/vnd.google.colaboratory.intrinsic+json": {
              "type": "string"
            },
            "text/plain": [
              "'boldest'"
            ]
          },
          "metadata": {},
          "execution_count": 17
        }
      ]
    },
    {
      "cell_type": "markdown",
      "metadata": {
        "id": "mt1IOSMAsRaJ"
      },
      "source": [
        "### Navigable String\n"
      ]
    },
    {
      "cell_type": "markdown",
      "metadata": {
        "id": "I79T7_vZsRaJ"
      },
      "source": [
        "A string corresponds to a bit of text or content within a tag. Beautiful Soup uses the <code>NavigableString</code> class to contain this text. In our HTML we can obtain the name of the first player by extracting the sting of the <code>Tag</code> object <code>tag_child</code> as follows:\n"
      ]
    },
    {
      "cell_type": "code",
      "metadata": {
        "id": "Wlif4dUysRaJ",
        "outputId": "cc05095b-e440-4d46-c646-4961b01ed240",
        "colab": {
          "base_uri": "https://localhost:8080/",
          "height": 35
        }
      },
      "source": [
        "tag_string=tag_child.string\n",
        "tag_string"
      ],
      "execution_count": 18,
      "outputs": [
        {
          "output_type": "execute_result",
          "data": {
            "application/vnd.google.colaboratory.intrinsic+json": {
              "type": "string"
            },
            "text/plain": [
              "'Lebron James'"
            ]
          },
          "metadata": {},
          "execution_count": 18
        }
      ]
    },
    {
      "cell_type": "markdown",
      "metadata": {
        "id": "s_Turl79sRaJ"
      },
      "source": [
        "we can verify the type is Navigable String\n"
      ]
    },
    {
      "cell_type": "code",
      "metadata": {
        "id": "aAhTCckUsRaJ",
        "outputId": "1864c752-bbb2-45a1-e2dc-efa332266923",
        "colab": {
          "base_uri": "https://localhost:8080/"
        }
      },
      "source": [
        "type(tag_string)"
      ],
      "execution_count": 19,
      "outputs": [
        {
          "output_type": "execute_result",
          "data": {
            "text/plain": [
              "bs4.element.NavigableString"
            ]
          },
          "metadata": {},
          "execution_count": 19
        }
      ]
    },
    {
      "cell_type": "markdown",
      "metadata": {
        "id": "8Gh2fly-sRaK"
      },
      "source": [
        "A NavigableString is just like a Python string or Unicode string, to be more precise. The main difference is that it also supports some  <code>BeautifulSoup</code> features. We can covert it to sting object in Python:\n"
      ]
    },
    {
      "cell_type": "code",
      "metadata": {
        "id": "VJj1gOBtsRaK",
        "outputId": "f9b7f323-7742-4ad6-e153-ed273316169b",
        "colab": {
          "base_uri": "https://localhost:8080/",
          "height": 35
        }
      },
      "source": [
        "unicode_string = str(tag_string)\n",
        "unicode_string"
      ],
      "execution_count": 20,
      "outputs": [
        {
          "output_type": "execute_result",
          "data": {
            "application/vnd.google.colaboratory.intrinsic+json": {
              "type": "string"
            },
            "text/plain": [
              "'Lebron James'"
            ]
          },
          "metadata": {},
          "execution_count": 20
        }
      ]
    },
    {
      "cell_type": "markdown",
      "metadata": {
        "id": "TJuFUNnQsRaK"
      },
      "source": [
        "<h2 id=\"filter\">Filter</h2>\n"
      ]
    },
    {
      "cell_type": "markdown",
      "metadata": {
        "id": "kmLg7UgesRaK"
      },
      "source": [
        "Filters allow you to find complex patterns, the simplest filter is a string. In this section we will pass a string to a different filter method and Beautiful Soup will perform a match against that exact string.  Consider the following HTML of rocket launchs:\n"
      ]
    },
    {
      "cell_type": "code",
      "metadata": {
        "id": "lHM4gSY-sRaK",
        "outputId": "aa8f8b6c-f8c9-42a7-b695-77ef96d80797"
      },
      "source": [
        "%%html\n",
        "<table>\n",
        "  <tr>\n",
        "    <td id='flight' >Flight No</td>\n",
        "    <td>Launch site</td> \n",
        "    <td>Payload mass</td>\n",
        "   </tr>\n",
        "  <tr> \n",
        "    <td>1</td>\n",
        "    <td><a href='https://en.wikipedia.org/wiki/Florida'>Florida</a></td>\n",
        "    <td>300 kg</td>\n",
        "  </tr>\n",
        "  <tr>\n",
        "    <td>2</td>\n",
        "    <td><a href='https://en.wikipedia.org/wiki/Texas'>Texas</a></td>\n",
        "    <td>94 kg</td>\n",
        "  </tr>\n",
        "  <tr>\n",
        "    <td>3</td>\n",
        "    <td><a href='https://en.wikipedia.org/wiki/Florida'>Florida<a> </td>\n",
        "    <td>80 kg</td>\n",
        "  </tr>\n",
        "</table>"
      ],
      "execution_count": null,
      "outputs": [
        {
          "data": {
            "text/html": [
              "<table>\n",
              "  <tr>\n",
              "    <td id='flight' >Flight No</td>\n",
              "    <td>Launch site</td> \n",
              "    <td>Payload mass</td>\n",
              "   </tr>\n",
              "  <tr> \n",
              "    <td>1</td>\n",
              "    <td><a href='https://en.wikipedia.org/wiki/Florida'>Florida</a></td>\n",
              "    <td>300 kg</td>\n",
              "  </tr>\n",
              "  <tr>\n",
              "    <td>2</td>\n",
              "    <td><a href='https://en.wikipedia.org/wiki/Texas'>Texas</a></td>\n",
              "    <td>94 kg</td>\n",
              "  </tr>\n",
              "  <tr>\n",
              "    <td>3</td>\n",
              "    <td><a href='https://en.wikipedia.org/wiki/Florida'>Florida<a> </td>\n",
              "    <td>80 kg</td>\n",
              "  </tr>\n",
              "</table>\n"
            ],
            "text/plain": [
              "<IPython.core.display.HTML object>"
            ]
          },
          "metadata": {},
          "output_type": "display_data"
        }
      ]
    },
    {
      "cell_type": "markdown",
      "metadata": {
        "id": "S9jBfqz4sRaK"
      },
      "source": [
        "We can store it as a string in the variable <code>table</code>:\n"
      ]
    },
    {
      "cell_type": "code",
      "metadata": {
        "id": "kQkECMs3sRaK"
      },
      "source": [
        "table=\"<table><tr><td id='flight'>Flight No</td><td>Launch site</td> <td>Payload mass</td></tr><tr> <td>1</td><td><a href='https://en.wikipedia.org/wiki/Florida'>Florida<a></td><td>300 kg</td></tr><tr><td>2</td><td><a href='https://en.wikipedia.org/wiki/Texas'>Texas</a></td><td>94 kg</td></tr><tr><td>3</td><td><a href='https://en.wikipedia.org/wiki/Florida'>Florida<a> </td><td>80 kg</td></tr></table>\""
      ],
      "execution_count": 21,
      "outputs": []
    },
    {
      "cell_type": "code",
      "metadata": {
        "id": "0tVQ0AGHsRaK"
      },
      "source": [
        "table_bs = BeautifulSoup(table, \"html.parser\")"
      ],
      "execution_count": 22,
      "outputs": []
    },
    {
      "cell_type": "markdown",
      "metadata": {
        "id": "TRwIYtuZsRaK"
      },
      "source": [
        "## find All\n"
      ]
    },
    {
      "cell_type": "markdown",
      "metadata": {
        "id": "B5c4dJztsRaL"
      },
      "source": [
        "The <code>find_all()</code> method looks through a tag’s descendants and retrieves all descendants that match your filters.\n",
        "\n",
        "<p>\n",
        "The Method signature for <code>find_all(name, attrs, recursive, string, limit, **kwargs)<c/ode>\n",
        "</p>\n"
      ]
    },
    {
      "cell_type": "markdown",
      "metadata": {
        "id": "TYSdrbjFsRaL"
      },
      "source": [
        "### Name\n"
      ]
    },
    {
      "cell_type": "markdown",
      "metadata": {
        "id": "xUCAMyrdsRaL"
      },
      "source": [
        "When we set the <code>name</code> parameter to a tag name, the method will extract all the tags with that name and its children.\n"
      ]
    },
    {
      "cell_type": "code",
      "metadata": {
        "id": "YFkfB-z6sRaL",
        "outputId": "19b34a7f-07c3-415d-fa0a-3c790ccd3a1e",
        "colab": {
          "base_uri": "https://localhost:8080/"
        }
      },
      "source": [
        "table_rows=table_bs.find_all('tr')\n",
        "table_rows"
      ],
      "execution_count": 23,
      "outputs": [
        {
          "output_type": "execute_result",
          "data": {
            "text/plain": [
              "[<tr><td id=\"flight\">Flight No</td><td>Launch site</td> <td>Payload mass</td></tr>,\n",
              " <tr> <td>1</td><td><a href=\"https://en.wikipedia.org/wiki/Florida\">Florida<a></a></a></td><td>300 kg</td></tr>,\n",
              " <tr><td>2</td><td><a href=\"https://en.wikipedia.org/wiki/Texas\">Texas</a></td><td>94 kg</td></tr>,\n",
              " <tr><td>3</td><td><a href=\"https://en.wikipedia.org/wiki/Florida\">Florida<a> </a></a></td><td>80 kg</td></tr>]"
            ]
          },
          "metadata": {},
          "execution_count": 23
        }
      ]
    },
    {
      "cell_type": "markdown",
      "metadata": {
        "id": "vTcoMkwzsRaL"
      },
      "source": [
        "The result is a Python Iterable just like a list, each element is a <code>tag</code> object:\n"
      ]
    },
    {
      "cell_type": "code",
      "metadata": {
        "id": "7yanI_icsRaL",
        "outputId": "7042e46f-2a35-4580-cf5e-53f712522709",
        "colab": {
          "base_uri": "https://localhost:8080/"
        }
      },
      "source": [
        "first_row =table_rows[0]\n",
        "first_row"
      ],
      "execution_count": 24,
      "outputs": [
        {
          "output_type": "execute_result",
          "data": {
            "text/plain": [
              "<tr><td id=\"flight\">Flight No</td><td>Launch site</td> <td>Payload mass</td></tr>"
            ]
          },
          "metadata": {},
          "execution_count": 24
        }
      ]
    },
    {
      "cell_type": "markdown",
      "metadata": {
        "id": "qOjMDXANsRaL"
      },
      "source": [
        "The type is <code>tag</code>\n"
      ]
    },
    {
      "cell_type": "code",
      "metadata": {
        "id": "Iw71f962sRaL",
        "outputId": "67c9f854-beaf-42a3-e245-ae4327f0c838"
      },
      "source": [
        "print(type(first_row))"
      ],
      "execution_count": null,
      "outputs": [
        {
          "name": "stdout",
          "output_type": "stream",
          "text": [
            "<class 'bs4.element.Tag'>\n"
          ]
        }
      ]
    },
    {
      "cell_type": "markdown",
      "metadata": {
        "id": "XqKwJWbcsRaM"
      },
      "source": [
        "we can obtain the child\n"
      ]
    },
    {
      "cell_type": "code",
      "metadata": {
        "id": "9i8qMyvDsRaM",
        "outputId": "ea2ce7ff-ab45-41a1-cbeb-f4b6314a5f13"
      },
      "source": [
        "first_row.td"
      ],
      "execution_count": null,
      "outputs": [
        {
          "data": {
            "text/plain": [
              "<td id=\"flight\">Flight No</td>"
            ]
          },
          "execution_count": 27,
          "metadata": {},
          "output_type": "execute_result"
        }
      ]
    },
    {
      "cell_type": "markdown",
      "metadata": {
        "id": "9tVEUk_CsRaM"
      },
      "source": [
        "If we iterate through the list, each element corresponds to a row in the table:\n"
      ]
    },
    {
      "cell_type": "code",
      "metadata": {
        "id": "9jE0CJfcsRaM",
        "outputId": "e944df63-9ef7-4140-9b31-ad111be66d74"
      },
      "source": [
        "for i,row in enumerate(table_rows):\n",
        "    print(\"row\",i,\"is\",row)\n",
        "    "
      ],
      "execution_count": null,
      "outputs": [
        {
          "name": "stdout",
          "output_type": "stream",
          "text": [
            "row 0 is <tr><td id=\"flight\">Flight No</td><td>Launch site</td> <td>Payload mass</td></tr>\n",
            "row 1 is <tr> <td>1</td><td><a href=\"https://en.wikipedia.org/wiki/Florida\">Florida<a></a></a></td><td>300 kg</td></tr>\n",
            "row 2 is <tr><td>2</td><td><a href=\"https://en.wikipedia.org/wiki/Texas\">Texas</a></td><td>94 kg</td></tr>\n",
            "row 3 is <tr><td>3</td><td><a href=\"https://en.wikipedia.org/wiki/Florida\">Florida<a> </a></a></td><td>80 kg</td></tr>\n"
          ]
        }
      ]
    },
    {
      "cell_type": "markdown",
      "metadata": {
        "id": "CISgj3zDsRaM"
      },
      "source": [
        "As <code>row</code> is a <code>cell</code> object, we can apply the method <code>find_all</code> to it and extract table cells in the object <code>cells</code> using the tag <code>td</code>, this is all the children with the name <code>td</code>. The result is a list, each element corresponds to a cell and is a <code>Tag</code> object, we can iterate through this list as well. We can extract the content using the <code>string</code>  attribute.\n"
      ]
    },
    {
      "cell_type": "code",
      "metadata": {
        "id": "dV9ON0WfsRaM",
        "outputId": "2a6e0645-b02e-4bed-fb11-e91d1bdfebd5"
      },
      "source": [
        "for i,row in enumerate(table_rows):\n",
        "    print(\"row\",i)\n",
        "    cells=row.find_all('td')\n",
        "    for j,cell in enumerate(cells):\n",
        "        print('colunm',j,\"cell\",cell)"
      ],
      "execution_count": null,
      "outputs": [
        {
          "name": "stdout",
          "output_type": "stream",
          "text": [
            "row 0\n",
            "colunm 0 cell <td id=\"flight\">Flight No</td>\n",
            "colunm 1 cell <td>Launch site</td>\n",
            "colunm 2 cell <td>Payload mass</td>\n",
            "row 1\n",
            "colunm 0 cell <td>1</td>\n",
            "colunm 1 cell <td><a href=\"https://en.wikipedia.org/wiki/Florida\">Florida<a></a></a></td>\n",
            "colunm 2 cell <td>300 kg</td>\n",
            "row 2\n",
            "colunm 0 cell <td>2</td>\n",
            "colunm 1 cell <td><a href=\"https://en.wikipedia.org/wiki/Texas\">Texas</a></td>\n",
            "colunm 2 cell <td>94 kg</td>\n",
            "row 3\n",
            "colunm 0 cell <td>3</td>\n",
            "colunm 1 cell <td><a href=\"https://en.wikipedia.org/wiki/Florida\">Florida<a> </a></a></td>\n",
            "colunm 2 cell <td>80 kg</td>\n"
          ]
        }
      ]
    },
    {
      "cell_type": "markdown",
      "metadata": {
        "id": "6Wksej4hsRaM"
      },
      "source": [
        "If we use a list we can match against any item in that list.\n"
      ]
    },
    {
      "cell_type": "code",
      "metadata": {
        "id": "Q864JJQbsRaM",
        "outputId": "79b1dfc9-1634-4193-83fb-31d28c8fc0cc",
        "colab": {
          "base_uri": "https://localhost:8080/"
        }
      },
      "source": [
        "list_input=table_bs .find_all(name=[\"tr\", \"td\"])\n",
        "list_input"
      ],
      "execution_count": 25,
      "outputs": [
        {
          "output_type": "execute_result",
          "data": {
            "text/plain": [
              "[<tr><td id=\"flight\">Flight No</td><td>Launch site</td> <td>Payload mass</td></tr>,\n",
              " <td id=\"flight\">Flight No</td>,\n",
              " <td>Launch site</td>,\n",
              " <td>Payload mass</td>,\n",
              " <tr> <td>1</td><td><a href=\"https://en.wikipedia.org/wiki/Florida\">Florida<a></a></a></td><td>300 kg</td></tr>,\n",
              " <td>1</td>,\n",
              " <td><a href=\"https://en.wikipedia.org/wiki/Florida\">Florida<a></a></a></td>,\n",
              " <td>300 kg</td>,\n",
              " <tr><td>2</td><td><a href=\"https://en.wikipedia.org/wiki/Texas\">Texas</a></td><td>94 kg</td></tr>,\n",
              " <td>2</td>,\n",
              " <td><a href=\"https://en.wikipedia.org/wiki/Texas\">Texas</a></td>,\n",
              " <td>94 kg</td>,\n",
              " <tr><td>3</td><td><a href=\"https://en.wikipedia.org/wiki/Florida\">Florida<a> </a></a></td><td>80 kg</td></tr>,\n",
              " <td>3</td>,\n",
              " <td><a href=\"https://en.wikipedia.org/wiki/Florida\">Florida<a> </a></a></td>,\n",
              " <td>80 kg</td>]"
            ]
          },
          "metadata": {},
          "execution_count": 25
        }
      ]
    },
    {
      "cell_type": "markdown",
      "metadata": {
        "id": "1UGWPbT7sRaM"
      },
      "source": [
        "## Attributes\n"
      ]
    },
    {
      "cell_type": "markdown",
      "metadata": {
        "id": "jgB5axX7sRaM"
      },
      "source": [
        "If the argument is not recognized it will be turned into a filter on the tag’s attributes. For example the <code>id</code>  argument, Beautiful Soup will filter against each tag’s <code>id</code> attribute. For example, the first <code>td</code> elements have a value of <code>id</code> of <code>flight</code>, therefore we can filter based on that <code>id</code> value.\n"
      ]
    },
    {
      "cell_type": "code",
      "metadata": {
        "id": "bWpNfEFmsRaN",
        "outputId": "1b0df138-051d-41ae-c07d-dddf965144ef",
        "colab": {
          "base_uri": "https://localhost:8080/"
        }
      },
      "source": [
        "table_bs.find_all(id=\"flight\")"
      ],
      "execution_count": 26,
      "outputs": [
        {
          "output_type": "execute_result",
          "data": {
            "text/plain": [
              "[<td id=\"flight\">Flight No</td>]"
            ]
          },
          "metadata": {},
          "execution_count": 26
        }
      ]
    },
    {
      "cell_type": "markdown",
      "metadata": {
        "id": "Mpm_F5pvsRaN"
      },
      "source": [
        "We can find all the elements that have links to the Florida Wikipedia page:\n"
      ]
    },
    {
      "cell_type": "code",
      "metadata": {
        "id": "KYWIuD0XsRaN",
        "outputId": "5bebafe7-fa75-4eb3-9e52-766d4b7b8e75",
        "colab": {
          "base_uri": "https://localhost:8080/"
        }
      },
      "source": [
        "list_input=table_bs.find_all(href=\"https://en.wikipedia.org/wiki/Florida\")\n",
        "list_input"
      ],
      "execution_count": 27,
      "outputs": [
        {
          "output_type": "execute_result",
          "data": {
            "text/plain": [
              "[<a href=\"https://en.wikipedia.org/wiki/Florida\">Florida<a></a></a>,\n",
              " <a href=\"https://en.wikipedia.org/wiki/Florida\">Florida<a> </a></a>]"
            ]
          },
          "metadata": {},
          "execution_count": 27
        }
      ]
    },
    {
      "cell_type": "markdown",
      "metadata": {
        "id": "KoW4jOVGsRaN"
      },
      "source": [
        "If we set the  <code>href</code> attribute to True, regardless of what the value is, the code finds all tags with <code>href</code> value:\n"
      ]
    },
    {
      "cell_type": "code",
      "metadata": {
        "id": "GuIpb8YosRaN",
        "outputId": "92398723-251e-4172-99ee-593a635c912d",
        "colab": {
          "base_uri": "https://localhost:8080/"
        }
      },
      "source": [
        "table_bs.find_all(href=True)"
      ],
      "execution_count": 28,
      "outputs": [
        {
          "output_type": "execute_result",
          "data": {
            "text/plain": [
              "[<a href=\"https://en.wikipedia.org/wiki/Florida\">Florida<a></a></a>,\n",
              " <a href=\"https://en.wikipedia.org/wiki/Texas\">Texas</a>,\n",
              " <a href=\"https://en.wikipedia.org/wiki/Florida\">Florida<a> </a></a>]"
            ]
          },
          "metadata": {},
          "execution_count": 28
        }
      ]
    },
    {
      "cell_type": "markdown",
      "metadata": {
        "id": "bpwko6TbsRaN"
      },
      "source": [
        "There are other methods for dealing with attributes and other related methods; Check out the following <a href='https://www.crummy.com/software/BeautifulSoup/bs4/doc/?utm_medium=Exinfluencer&utm_source=Exinfluencer&utm_content=000026UJ&utm_term=10006555&utm_id=NA-SkillsNetwork-Channel-SkillsNetworkCoursesIBMDeveloperSkillsNetworkPY0220ENSkillsNetwork23455606-2021-01-01#css-selectors'>link</a>\n"
      ]
    },
    {
      "cell_type": "markdown",
      "metadata": {
        "id": "ZkLn-PLJsRaN"
      },
      "source": [
        "<h3 id=\"exer_type\">Exercise: <code>find_all</code></h3>\n"
      ]
    },
    {
      "cell_type": "markdown",
      "metadata": {
        "id": "wkdXbZeUsRaN"
      },
      "source": [
        "Using the logic above, find all the elements without <code>href</code> value\n"
      ]
    },
    {
      "cell_type": "code",
      "metadata": {
        "id": "I43Ggd7zsRaN",
        "outputId": "42fdaa31-b30c-4510-c1ec-0f7e6d067d47",
        "colab": {
          "base_uri": "https://localhost:8080/"
        }
      },
      "source": [
        "table_bs.find_all(href=False)"
      ],
      "execution_count": 30,
      "outputs": [
        {
          "output_type": "execute_result",
          "data": {
            "text/plain": [
              "[<table><tr><td id=\"flight\">Flight No</td><td>Launch site</td> <td>Payload mass</td></tr><tr> <td>1</td><td><a href=\"https://en.wikipedia.org/wiki/Florida\">Florida<a></a></a></td><td>300 kg</td></tr><tr><td>2</td><td><a href=\"https://en.wikipedia.org/wiki/Texas\">Texas</a></td><td>94 kg</td></tr><tr><td>3</td><td><a href=\"https://en.wikipedia.org/wiki/Florida\">Florida<a> </a></a></td><td>80 kg</td></tr></table>,\n",
              " <tr><td id=\"flight\">Flight No</td><td>Launch site</td> <td>Payload mass</td></tr>,\n",
              " <td id=\"flight\">Flight No</td>,\n",
              " <td>Launch site</td>,\n",
              " <td>Payload mass</td>,\n",
              " <tr> <td>1</td><td><a href=\"https://en.wikipedia.org/wiki/Florida\">Florida<a></a></a></td><td>300 kg</td></tr>,\n",
              " <td>1</td>,\n",
              " <td><a href=\"https://en.wikipedia.org/wiki/Florida\">Florida<a></a></a></td>,\n",
              " <a></a>,\n",
              " <td>300 kg</td>,\n",
              " <tr><td>2</td><td><a href=\"https://en.wikipedia.org/wiki/Texas\">Texas</a></td><td>94 kg</td></tr>,\n",
              " <td>2</td>,\n",
              " <td><a href=\"https://en.wikipedia.org/wiki/Texas\">Texas</a></td>,\n",
              " <td>94 kg</td>,\n",
              " <tr><td>3</td><td><a href=\"https://en.wikipedia.org/wiki/Florida\">Florida<a> </a></a></td><td>80 kg</td></tr>,\n",
              " <td>3</td>,\n",
              " <td><a href=\"https://en.wikipedia.org/wiki/Florida\">Florida<a> </a></a></td>,\n",
              " <a> </a>,\n",
              " <td>80 kg</td>]"
            ]
          },
          "metadata": {},
          "execution_count": 30
        }
      ]
    },
    {
      "cell_type": "markdown",
      "metadata": {
        "id": "r0iOBSufsRaO"
      },
      "source": [
        "<details><summary>Click here for the solution</summary>\n",
        "\n",
        "```\n",
        "table_bs.find_all(href=False)\n",
        "\n",
        "```\n",
        "\n",
        "</details>\n"
      ]
    },
    {
      "cell_type": "markdown",
      "metadata": {
        "id": "yWWI8gHVsRaO"
      },
      "source": [
        "Using the soup object <code>soup</code>, find the element with the <code>id</code> attribute content set to <code>\"boldest\"</code>.\n"
      ]
    },
    {
      "cell_type": "code",
      "metadata": {
        "id": "koiIcSxCsRaO",
        "outputId": "4425224a-3108-4d10-9650-63ded75d39b3",
        "colab": {
          "base_uri": "https://localhost:8080/"
        }
      },
      "source": [
        "soup.find_all(id=\"boldest\")"
      ],
      "execution_count": 34,
      "outputs": [
        {
          "output_type": "execute_result",
          "data": {
            "text/plain": [
              "[<b id=\"boldest\">Lebron James</b>]"
            ]
          },
          "metadata": {},
          "execution_count": 34
        }
      ]
    },
    {
      "cell_type": "markdown",
      "metadata": {
        "id": "lkU11cd5sRaO"
      },
      "source": [
        "<details><summary>Click here for the solution</summary>\n",
        "\n",
        "```\n",
        "soup.find_all(id=\"boldest\")\n",
        "\n",
        "```\n",
        "\n",
        "</details>\n"
      ]
    },
    {
      "cell_type": "markdown",
      "metadata": {
        "id": "ao1qkbULsRaO"
      },
      "source": [
        "### string\n"
      ]
    },
    {
      "cell_type": "markdown",
      "metadata": {
        "id": "MyfuZCOMsRaO"
      },
      "source": [
        "With string you can search for strings instead of tags, where we find all the elments with Florida:\n"
      ]
    },
    {
      "cell_type": "code",
      "metadata": {
        "id": "gxzBm8xPsRaO",
        "outputId": "d695ff60-fda2-4656-c334-0b86aa6d39a3",
        "colab": {
          "base_uri": "https://localhost:8080/"
        }
      },
      "source": [
        "table_bs.find_all(string=\"Florida\")"
      ],
      "execution_count": 35,
      "outputs": [
        {
          "output_type": "execute_result",
          "data": {
            "text/plain": [
              "['Florida', 'Florida']"
            ]
          },
          "metadata": {},
          "execution_count": 35
        }
      ]
    },
    {
      "cell_type": "markdown",
      "metadata": {
        "id": "9WWQhXGCsRaO"
      },
      "source": [
        "## find\n"
      ]
    },
    {
      "cell_type": "markdown",
      "metadata": {
        "id": "B9gEe1hLsRaO"
      },
      "source": [
        "The <code>find_all()</code> method scans the entire document looking for results, it’s if you are looking for one element you can use the <code>find()</code> method to find the first element in the document. Consider the following two table:\n"
      ]
    },
    {
      "cell_type": "code",
      "metadata": {
        "id": "bHAZACd2sRaO",
        "outputId": "6b0395ee-da1c-49b6-ed6d-e8f7678bc941"
      },
      "source": [
        "%%html\n",
        "<h3>Rocket Launch </h3>\n",
        "\n",
        "<p>\n",
        "<table class='rocket'>\n",
        "  <tr>\n",
        "    <td>Flight No</td>\n",
        "    <td>Launch site</td> \n",
        "    <td>Payload mass</td>\n",
        "  </tr>\n",
        "  <tr>\n",
        "    <td>1</td>\n",
        "    <td>Florida</td>\n",
        "    <td>300 kg</td>\n",
        "  </tr>\n",
        "  <tr>\n",
        "    <td>2</td>\n",
        "    <td>Texas</td>\n",
        "    <td>94 kg</td>\n",
        "  </tr>\n",
        "  <tr>\n",
        "    <td>3</td>\n",
        "    <td>Florida </td>\n",
        "    <td>80 kg</td>\n",
        "  </tr>\n",
        "</table>\n",
        "</p>\n",
        "<p>\n",
        "\n",
        "<h3>Pizza Party  </h3>\n",
        "  \n",
        "    \n",
        "<table class='pizza'>\n",
        "  <tr>\n",
        "    <td>Pizza Place</td>\n",
        "    <td>Orders</td> \n",
        "    <td>Slices </td>\n",
        "   </tr>\n",
        "  <tr>\n",
        "    <td>Domino's Pizza</td>\n",
        "    <td>10</td>\n",
        "    <td>100</td>\n",
        "  </tr>\n",
        "  <tr>\n",
        "    <td>Little Caesars</td>\n",
        "    <td>12</td>\n",
        "    <td >144 </td>\n",
        "  </tr>\n",
        "  <tr>\n",
        "    <td>Papa John's </td>\n",
        "    <td>15 </td>\n",
        "    <td>165</td>\n",
        "  </tr>\n"
      ],
      "execution_count": null,
      "outputs": [
        {
          "data": {
            "text/html": [
              "<h3>Rocket Launch </h3>\n",
              "\n",
              "<p>\n",
              "<table class='rocket'>\n",
              "  <tr>\n",
              "    <td>Flight No</td>\n",
              "    <td>Launch site</td> \n",
              "    <td>Payload mass</td>\n",
              "  </tr>\n",
              "  <tr>\n",
              "    <td>1</td>\n",
              "    <td>Florida</td>\n",
              "    <td>300 kg</td>\n",
              "  </tr>\n",
              "  <tr>\n",
              "    <td>2</td>\n",
              "    <td>Texas</td>\n",
              "    <td>94 kg</td>\n",
              "  </tr>\n",
              "  <tr>\n",
              "    <td>3</td>\n",
              "    <td>Florida </td>\n",
              "    <td>80 kg</td>\n",
              "  </tr>\n",
              "</table>\n",
              "</p>\n",
              "<p>\n",
              "\n",
              "<h3>Pizza Party  </h3>\n",
              "  \n",
              "    \n",
              "<table class='pizza'>\n",
              "  <tr>\n",
              "    <td>Pizza Place</td>\n",
              "    <td>Orders</td> \n",
              "    <td>Slices </td>\n",
              "   </tr>\n",
              "  <tr>\n",
              "    <td>Domino's Pizza</td>\n",
              "    <td>10</td>\n",
              "    <td>100</td>\n",
              "  </tr>\n",
              "  <tr>\n",
              "    <td>Little Caesars</td>\n",
              "    <td>12</td>\n",
              "    <td >144 </td>\n",
              "  </tr>\n",
              "  <tr>\n",
              "    <td>Papa John's </td>\n",
              "    <td>15 </td>\n",
              "    <td>165</td>\n",
              "  </tr>\n"
            ],
            "text/plain": [
              "<IPython.core.display.HTML object>"
            ]
          },
          "metadata": {},
          "output_type": "display_data"
        }
      ]
    },
    {
      "cell_type": "markdown",
      "metadata": {
        "id": "cdcMyE7GsRaP"
      },
      "source": [
        "We store the HTML as a Python string and assign <code>two_tables</code>:\n"
      ]
    },
    {
      "cell_type": "code",
      "metadata": {
        "id": "1Gh6OaaqsRaP"
      },
      "source": [
        "two_tables=\"<h3>Rocket Launch </h3><p><table class='rocket'><tr><td>Flight No</td><td>Launch site</td> <td>Payload mass</td></tr><tr><td>1</td><td>Florida</td><td>300 kg</td></tr><tr><td>2</td><td>Texas</td><td>94 kg</td></tr><tr><td>3</td><td>Florida </td><td>80 kg</td></tr></table></p><p><h3>Pizza Party  </h3><table class='pizza'><tr><td>Pizza Place</td><td>Orders</td> <td>Slices </td></tr><tr><td>Domino's Pizza</td><td>10</td><td>100</td></tr><tr><td>Little Caesars</td><td>12</td><td >144 </td></tr><tr><td>Papa John's </td><td>15 </td><td>165</td></tr>\""
      ],
      "execution_count": 36,
      "outputs": []
    },
    {
      "cell_type": "markdown",
      "metadata": {
        "id": "p8qDyexnsRaP"
      },
      "source": [
        "We create a <code>BeautifulSoup</code> object  <code>two_tables_bs</code>\n"
      ]
    },
    {
      "cell_type": "code",
      "metadata": {
        "id": "vr2dMJo3sRaP"
      },
      "source": [
        "two_tables_bs= BeautifulSoup(two_tables, 'html.parser')"
      ],
      "execution_count": 37,
      "outputs": []
    },
    {
      "cell_type": "markdown",
      "metadata": {
        "id": "jo-v6NURsRaP"
      },
      "source": [
        "We can find the first table using the tag name table\n"
      ]
    },
    {
      "cell_type": "code",
      "metadata": {
        "id": "h3IJApZbsRaP",
        "outputId": "160a13af-4804-4b0f-f9e6-c6835be56c59",
        "colab": {
          "base_uri": "https://localhost:8080/"
        }
      },
      "source": [
        "two_tables_bs.find(\"table\")"
      ],
      "execution_count": 38,
      "outputs": [
        {
          "output_type": "execute_result",
          "data": {
            "text/plain": [
              "<table class=\"rocket\"><tr><td>Flight No</td><td>Launch site</td> <td>Payload mass</td></tr><tr><td>1</td><td>Florida</td><td>300 kg</td></tr><tr><td>2</td><td>Texas</td><td>94 kg</td></tr><tr><td>3</td><td>Florida </td><td>80 kg</td></tr></table>"
            ]
          },
          "metadata": {},
          "execution_count": 38
        }
      ]
    },
    {
      "cell_type": "markdown",
      "metadata": {
        "id": "3jyOg3nysRaQ"
      },
      "source": [
        "We can filter on the class attribute to find the second table, but because class is a keyword in Python, we add an underscore.\n"
      ]
    },
    {
      "cell_type": "code",
      "metadata": {
        "id": "7lckEVPwsRaQ",
        "outputId": "b152182d-6416-431c-eb9a-e5f5c20cc57d",
        "colab": {
          "base_uri": "https://localhost:8080/"
        }
      },
      "source": [
        "two_tables_bs.find(\"table\",class_='pizza')"
      ],
      "execution_count": 39,
      "outputs": [
        {
          "output_type": "execute_result",
          "data": {
            "text/plain": [
              "<table class=\"pizza\"><tr><td>Pizza Place</td><td>Orders</td> <td>Slices </td></tr><tr><td>Domino's Pizza</td><td>10</td><td>100</td></tr><tr><td>Little Caesars</td><td>12</td><td>144 </td></tr><tr><td>Papa John's </td><td>15 </td><td>165</td></tr></table>"
            ]
          },
          "metadata": {},
          "execution_count": 39
        }
      ]
    },
    {
      "cell_type": "markdown",
      "metadata": {
        "id": "LZHhBk6bsRaQ"
      },
      "source": [
        "<h2 id=\"DSCW\">Downloading And Scraping The Contents Of A Web Page</h2> \n"
      ]
    },
    {
      "cell_type": "markdown",
      "metadata": {
        "id": "buJdcb2zsRaQ"
      },
      "source": [
        "We Download the contents of the web page:\n"
      ]
    },
    {
      "cell_type": "code",
      "metadata": {
        "id": "48529hRCsRaQ"
      },
      "source": [
        "url = \"http://www.ibm.com\""
      ],
      "execution_count": 40,
      "outputs": []
    },
    {
      "cell_type": "markdown",
      "metadata": {
        "id": "9z5EKqIMsRaQ"
      },
      "source": [
        "We use <code>get</code> to download the contents of the webpage in text format and store in a variable called <code>data</code>:\n"
      ]
    },
    {
      "cell_type": "code",
      "metadata": {
        "id": "E2UKrgDisRaR"
      },
      "source": [
        "data  = requests.get(url).text "
      ],
      "execution_count": 41,
      "outputs": []
    },
    {
      "cell_type": "markdown",
      "metadata": {
        "id": "ftquL9O2sRaR"
      },
      "source": [
        "We create a <code>BeautifulSoup</code> object using the <code>BeautifulSoup</code> constructor\n"
      ]
    },
    {
      "cell_type": "code",
      "metadata": {
        "id": "fp5ly_cqsRaR"
      },
      "source": [
        "soup = BeautifulSoup(data,\"html.parser\")  # create a soup object using the variable 'data'"
      ],
      "execution_count": 42,
      "outputs": []
    },
    {
      "cell_type": "markdown",
      "metadata": {
        "id": "kne_CKkvsRaR"
      },
      "source": [
        "Scrape all links\n"
      ]
    },
    {
      "cell_type": "code",
      "metadata": {
        "id": "VGF_oyh3sRaR",
        "outputId": "a35beb07-8899-4a7e-f24e-85408908dd85",
        "colab": {
          "base_uri": "https://localhost:8080/"
        }
      },
      "source": [
        "for link in soup.find_all('a',href=True):  # in html anchor/link is represented by the tag <a>\n",
        "\n",
        "    print(link.get('href'))\n"
      ],
      "execution_count": 43,
      "outputs": [
        {
          "output_type": "stream",
          "name": "stdout",
          "text": [
            "#main-content\n",
            "http://www.ibm.com\n",
            "https://www.ibm.com/cloud/cloud-pak-for-business-automation?lnk=ushpv18l1\n",
            "https://www.ibm.com/thought-leadership/institute-business-value/report/cloud-transformation?lnk=ushpv18f1\n",
            "https://www.ibm.com/it-infrastructure/power/power10?lnk=ushpv18f2\n",
            "https://www.ibm.com/blogs/ibm-training/ace-coursera-datascience-cybersecurity-dataanalyst/?lnk=ushpv18f3\n",
            "https://www.ibm.com/thought-leadership/innovation-explanations/sekou-remy?lnk=ushpv18f4\n",
            "https://www.ibm.com/products/offers-and-discounts?link=ushpv18t5&lnk2=trial_mktpl_MPDISC\n",
            "https://www.ibm.com/products/unified-endpoint-management?lnk=ushpv18t1&lnk2=trial_MaaS360Wat&psrc=none&pexp=def\n",
            "https://www.ibm.com/cloud/vmware/shared?lnk=ushpv18t2&lnk2=trial_VMware&psrc=none&pexp=def\n",
            "https://www.ibm.com/products/datastage?lnk=ushpv18t3&lnk2=trial_InfoDataStage&psrc=none&pexp=def\n",
            "https://www.ibm.com/cloud/watson-speech-to-text?lnk=ushpv18t4&lnk2=trial_WatsonSpeechText&psrc=none&pexp=def\n",
            "https://www.ibm.com/search?lnk=ushpv18srch&locale=en-us&q=\n",
            "https://www.ibm.com/products?lnk=ushpv18p1&lnk2=trial_mktpl&psrc=none&pexp=def\n",
            "https://www.ibm.com/cloud/hybrid?lnk=ushpv18pt14\n",
            "https://www.ibm.com/watson?lnk=ushpv18pt17\n",
            "https://www.ibm.com/it-infrastructure?lnk=ushpv18pt19\n",
            "https://www.ibm.com/us-en/products/categories?technologyTopics%5B0%5D%5B0%5D=cat.topic:Blockchain&isIBMOffering%5B0%5D=true&lnk=ushpv18pt4\n",
            "https://www.ibm.com/us-en/products/category/technology/security?lnk=ushpv18pt9\n",
            "https://www.ibm.com/us-en/products/category/technology/analytics?lnk=ushpv18pt1\n",
            "https://www.ibm.com/cloud/automation?lnk=ushpv18ct21\n",
            "https://www.ibm.com/quantum-computing?lnk=ushpv18pt16\n",
            "https://www.ibm.com/mysupport/s/?language=en_US&lnk=ushpv18ct11\n",
            "https://www.ibm.com/training/?lnk=ushpv18ct15\n",
            "https://developer.ibm.com/?lnk=ushpv18ct9\n",
            "https://www.ibm.com/garage?lnk=ushpv18pt18\n",
            "https://www.ibm.com/docs/en?lnk=ushpv18ct14\n",
            "https://www.redbooks.ibm.com/?lnk=ushpv18ct10\n",
            "https://www-03.ibm.com/employment/technicaltalent/developer/?lnk=ushpv18ct2\n",
            "https://www.ibm.com/security/zero-trust?lnk=ushpv18vn1\n",
            "https://www.ibm.com/security/zero-trust?lnk=ushpv18vn1\n",
            "https://www.ibm.com/\n"
          ]
        }
      ]
    },
    {
      "cell_type": "markdown",
      "metadata": {
        "id": "GCZXqvzpsRaR"
      },
      "source": [
        "## Scrape  all images  Tags\n"
      ]
    },
    {
      "cell_type": "code",
      "metadata": {
        "id": "mBPZI_HssRaR",
        "outputId": "e4f7c922-e663-4a03-8168-806c11a3114f",
        "colab": {
          "base_uri": "https://localhost:8080/"
        }
      },
      "source": [
        "for link in soup.find_all('img'):# in html image is represented by the tag <img>\n",
        "    print(link)\n",
        "    print(link.get('src'))"
      ],
      "execution_count": 44,
      "outputs": [
        {
          "output_type": "stream",
          "name": "stdout",
          "text": [
            "<img alt=\"\" aria-hidden=\"true\" role=\"presentation\" src=\"data:image/svg+xml;base64,PHN2ZyB3aWR0aD0iMTA1NSIgaGVpZ2h0PSI1MjcuNSIgeG1sbnM9Imh0dHA6Ly93d3cudzMub3JnLzIwMDAvc3ZnIiB2ZXJzaW9uPSIxLjEiLz4=\" style=\"max-width:100%;display:block;margin:0;border:none;padding:0\"/>\n",
            "data:image/svg+xml;base64,PHN2ZyB3aWR0aD0iMTA1NSIgaGVpZ2h0PSI1MjcuNSIgeG1sbnM9Imh0dHA6Ly93d3cudzMub3JnLzIwMDAvc3ZnIiB2ZXJzaW9uPSIxLjEiLz4=\n",
            "<img alt=\"leadspace mobile image\" class=\"ibm-resize\" decoding=\"async\" src=\"https://1.dam.s81c.com/public/content/dam/worldwide-content/homepage/ul/g/94/0f/202100705-AI-Automation-Cloud-Pak-mobile-720x360.jpg\" style=\"position:absolute;top:0;left:0;bottom:0;right:0;box-sizing:border-box;padding:0;border:none;margin:auto;display:block;width:0;height:0;min-width:100%;max-width:100%;min-height:100%;max-height:100%\"/>\n",
            "https://1.dam.s81c.com/public/content/dam/worldwide-content/homepage/ul/g/94/0f/202100705-AI-Automation-Cloud-Pak-mobile-720x360.jpg\n",
            "<img alt=\"\" aria-hidden=\"true\" role=\"presentation\" src=\"data:image/svg+xml;base64,PHN2ZyB3aWR0aD0iNDQwIiBoZWlnaHQ9IjMyMCIgeG1sbnM9Imh0dHA6Ly93d3cudzMub3JnLzIwMDAvc3ZnIiB2ZXJzaW9uPSIxLjEiLz4=\" style=\"max-width:100%;display:block;margin:0;border:none;padding:0\"/>\n",
            "data:image/svg+xml;base64,PHN2ZyB3aWR0aD0iNDQwIiBoZWlnaHQ9IjMyMCIgeG1sbnM9Imh0dHA6Ly93d3cudzMub3JnLzIwMDAvc3ZnIiB2ZXJzaW9uPSIxLjEiLz4=\n",
            "<img alt=\"Report: cloud&amp;#8217;s next big leap\" class=\"ibm-resize ibm-ab-image featured-image\" decoding=\"async\" src=\"https://1.dam.s81c.com/public/content/dam/worldwide-content/homepage/ul/g/e9/37/20201129-ibv-hybrid-cloud-report-26262a-444x320.jpg\" style=\"position:absolute;top:0;left:0;bottom:0;right:0;box-sizing:border-box;padding:0;border:none;margin:auto;display:block;width:0;height:0;min-width:100%;max-width:100%;min-height:100%;max-height:100%\"/>\n",
            "https://1.dam.s81c.com/public/content/dam/worldwide-content/homepage/ul/g/e9/37/20201129-ibv-hybrid-cloud-report-26262a-444x320.jpg\n",
            "<img alt=\"\" aria-hidden=\"true\" role=\"presentation\" src=\"data:image/svg+xml;base64,PHN2ZyB3aWR0aD0iNDQwIiBoZWlnaHQ9IjMyMCIgeG1sbnM9Imh0dHA6Ly93d3cudzMub3JnLzIwMDAvc3ZnIiB2ZXJzaW9uPSIxLjEiLz4=\" style=\"max-width:100%;display:block;margin:0;border:none;padding:0\"/>\n",
            "data:image/svg+xml;base64,PHN2ZyB3aWR0aD0iNDQwIiBoZWlnaHQ9IjMyMCIgeG1sbnM9Imh0dHA6Ly93d3cudzMub3JnLzIwMDAvc3ZnIiB2ZXJzaW9uPSIxLjEiLz4=\n",
            "<img alt=\"Next&amp;#8209;generation IBM Power10\n",
            "\" class=\"ibm-resize ibm-ab-image featured-image\" decoding=\"async\" src=\"https://1.dam.s81c.com/public/content/dam/worldwide-content/homepage/ul/g/5b/de/2020913-cloud-pak-power10-b-26119-444x320.jpg\" style=\"position:absolute;top:0;left:0;bottom:0;right:0;box-sizing:border-box;padding:0;border:none;margin:auto;display:block;width:0;height:0;min-width:100%;max-width:100%;min-height:100%;max-height:100%\"/>\n",
            "https://1.dam.s81c.com/public/content/dam/worldwide-content/homepage/ul/g/5b/de/2020913-cloud-pak-power10-b-26119-444x320.jpg\n",
            "<img alt=\"\" aria-hidden=\"true\" role=\"presentation\" src=\"data:image/svg+xml;base64,PHN2ZyB3aWR0aD0iNDQwIiBoZWlnaHQ9IjMyMCIgeG1sbnM9Imh0dHA6Ly93d3cudzMub3JnLzIwMDAvc3ZnIiB2ZXJzaW9uPSIxLjEiLz4=\" style=\"max-width:100%;display:block;margin:0;border:none;padding:0\"/>\n",
            "data:image/svg+xml;base64,PHN2ZyB3aWR0aD0iNDQwIiBoZWlnaHQ9IjMyMCIgeG1sbnM9Imh0dHA6Ly93d3cudzMub3JnLzIwMDAvc3ZnIiB2ZXJzaW9uPSIxLjEiLz4=\n",
            "<img alt=\"Fast-track your career\" class=\"ibm-resize ibm-ab-image featured-image\" decoding=\"async\" src=\" https://1.dam.s81c.com/public/content/dam/worldwide-content/homepage/ul/g/96/ef/20211129-f-ibm-coursera-certificates-26224.jpg \" style=\"position:absolute;top:0;left:0;bottom:0;right:0;box-sizing:border-box;padding:0;border:none;margin:auto;display:block;width:0;height:0;min-width:100%;max-width:100%;min-height:100%;max-height:100%\"/>\n",
            " https://1.dam.s81c.com/public/content/dam/worldwide-content/homepage/ul/g/96/ef/20211129-f-ibm-coursera-certificates-26224.jpg \n",
            "<img alt=\"\" aria-hidden=\"true\" role=\"presentation\" src=\"data:image/svg+xml;base64,PHN2ZyB3aWR0aD0iNDQwIiBoZWlnaHQ9IjMyMCIgeG1sbnM9Imh0dHA6Ly93d3cudzMub3JnLzIwMDAvc3ZnIiB2ZXJzaW9uPSIxLjEiLz4=\" style=\"max-width:100%;display:block;margin:0;border:none;padding:0\"/>\n",
            "data:image/svg+xml;base64,PHN2ZyB3aWR0aD0iNDQwIiBoZWlnaHQ9IjMyMCIgeG1sbnM9Imh0dHA6Ly93d3cudzMub3JnLzIwMDAvc3ZnIiB2ZXJzaW9uPSIxLjEiLz4=\n",
            "<img alt=\"Superhuman decision-making\" class=\"ibm-resize ibm-ab-image featured-image\" decoding=\"async\" src=\"https://1.dam.s81c.com/public/content/dam/worldwide-content/homepage/ul/g/74/53/20210830-sekou-remy-innovation-explanations-444x320.jpg\" style=\"position:absolute;top:0;left:0;bottom:0;right:0;box-sizing:border-box;padding:0;border:none;margin:auto;display:block;width:0;height:0;min-width:100%;max-width:100%;min-height:100%;max-height:100%\"/>\n",
            "https://1.dam.s81c.com/public/content/dam/worldwide-content/homepage/ul/g/74/53/20210830-sekou-remy-innovation-explanations-444x320.jpg\n",
            "<img alt=\"\" aria-hidden=\"true\" role=\"presentation\" src=\"data:image/svg+xml;base64,PHN2ZyB3aWR0aD0iNDQwIiBoZWlnaHQ9IjI2MCIgeG1sbnM9Imh0dHA6Ly93d3cudzMub3JnLzIwMDAvc3ZnIiB2ZXJzaW9uPSIxLjEiLz4=\" style=\"max-width:100%;display:block;margin:0;border:none;padding:0\"/>\n",
            "data:image/svg+xml;base64,PHN2ZyB3aWR0aD0iNDQwIiBoZWlnaHQ9IjI2MCIgeG1sbnM9Imh0dHA6Ly93d3cudzMub3JnLzIwMDAvc3ZnIiB2ZXJzaW9uPSIxLjEiLz4=\n",
            "<img alt=\"IBM MaaS360 with Watson\" class=\"ibm-resize ibm-ab-image trials-image\" decoding=\"async\" src=\"https://1.dam.s81c.com/public/content/dam/worldwide-content/homepage/ul/g/4c/a5/10072019-t-bt-MaaS360-watson-23210-700x420.png\" style=\"position:absolute;top:0;left:0;bottom:0;right:0;box-sizing:border-box;padding:0;border:none;margin:auto;display:block;width:0;height:0;min-width:100%;max-width:100%;min-height:100%;max-height:100%\"/>\n",
            "https://1.dam.s81c.com/public/content/dam/worldwide-content/homepage/ul/g/4c/a5/10072019-t-bt-MaaS360-watson-23210-700x420.png\n",
            "<img alt=\"IBM MaaS360 with Watson\" class=\"ibm-resize ibm-ab-image trials-image\" decoding=\"async\" src=\"data:image/gif;base64,R0lGODlhAQABAIAAAAAAAP///yH5BAEAAAAALAAAAAABAAEAAAIBRAA7\" style=\"position:absolute;top:0;left:0;bottom:0;right:0;box-sizing:border-box;padding:0;border:none;margin:auto;display:block;width:0;height:0;min-width:100%;max-width:100%;min-height:100%;max-height:100%\"/>\n",
            "data:image/gif;base64,R0lGODlhAQABAIAAAAAAAP///yH5BAEAAAAALAAAAAABAAEAAAIBRAA7\n",
            "<img alt=\"\" aria-hidden=\"true\" role=\"presentation\" src=\"data:image/svg+xml;base64,PHN2ZyB3aWR0aD0iNDQwIiBoZWlnaHQ9IjI2MCIgeG1sbnM9Imh0dHA6Ly93d3cudzMub3JnLzIwMDAvc3ZnIiB2ZXJzaW9uPSIxLjEiLz4=\" style=\"max-width:100%;display:block;margin:0;border:none;padding:0\"/>\n",
            "data:image/svg+xml;base64,PHN2ZyB3aWR0aD0iNDQwIiBoZWlnaHQ9IjI2MCIgeG1sbnM9Imh0dHA6Ly93d3cudzMub3JnLzIwMDAvc3ZnIiB2ZXJzaW9uPSIxLjEiLz4=\n",
            "<img alt=\"IBM Cloud for VMWare Solutions\" class=\"ibm-resize ibm-ab-image trials-image\" decoding=\"async\" src=\"https://1.dam.s81c.com/public/content/dam/worldwide-content/homepage/ul/g/54/79/IBM-Cloud-23059-700x420.png\" style=\"position:absolute;top:0;left:0;bottom:0;right:0;box-sizing:border-box;padding:0;border:none;margin:auto;display:block;width:0;height:0;min-width:100%;max-width:100%;min-height:100%;max-height:100%\"/>\n",
            "https://1.dam.s81c.com/public/content/dam/worldwide-content/homepage/ul/g/54/79/IBM-Cloud-23059-700x420.png\n",
            "<img alt=\"IBM Cloud for VMWare Solutions\" class=\"ibm-resize ibm-ab-image trials-image\" decoding=\"async\" src=\"data:image/gif;base64,R0lGODlhAQABAIAAAAAAAP///yH5BAEAAAAALAAAAAABAAEAAAIBRAA7\" style=\"position:absolute;top:0;left:0;bottom:0;right:0;box-sizing:border-box;padding:0;border:none;margin:auto;display:block;width:0;height:0;min-width:100%;max-width:100%;min-height:100%;max-height:100%\"/>\n",
            "data:image/gif;base64,R0lGODlhAQABAIAAAAAAAP///yH5BAEAAAAALAAAAAABAAEAAAIBRAA7\n",
            "<img alt=\"\" aria-hidden=\"true\" role=\"presentation\" src=\"data:image/svg+xml;base64,PHN2ZyB3aWR0aD0iNDQwIiBoZWlnaHQ9IjI2MCIgeG1sbnM9Imh0dHA6Ly93d3cudzMub3JnLzIwMDAvc3ZnIiB2ZXJzaW9uPSIxLjEiLz4=\" style=\"max-width:100%;display:block;margin:0;border:none;padding:0\"/>\n",
            "data:image/svg+xml;base64,PHN2ZyB3aWR0aD0iNDQwIiBoZWlnaHQ9IjI2MCIgeG1sbnM9Imh0dHA6Ly93d3cudzMub3JnLzIwMDAvc3ZnIiB2ZXJzaW9uPSIxLjEiLz4=\n",
            "<img alt=\"IBM DataStage\" class=\"ibm-resize ibm-ab-image trials-image\" decoding=\"async\" src=\"https://1.dam.s81c.com/public/content/dam/worldwide-content/homepage/ul/g/49/d9/datastage-trial1.png\" style=\"position:absolute;top:0;left:0;bottom:0;right:0;box-sizing:border-box;padding:0;border:none;margin:auto;display:block;width:0;height:0;min-width:100%;max-width:100%;min-height:100%;max-height:100%\"/>\n",
            "https://1.dam.s81c.com/public/content/dam/worldwide-content/homepage/ul/g/49/d9/datastage-trial1.png\n",
            "<img alt=\"IBM DataStage\" class=\"ibm-resize ibm-ab-image trials-image\" decoding=\"async\" src=\"data:image/gif;base64,R0lGODlhAQABAIAAAAAAAP///yH5BAEAAAAALAAAAAABAAEAAAIBRAA7\" style=\"position:absolute;top:0;left:0;bottom:0;right:0;box-sizing:border-box;padding:0;border:none;margin:auto;display:block;width:0;height:0;min-width:100%;max-width:100%;min-height:100%;max-height:100%\"/>\n",
            "data:image/gif;base64,R0lGODlhAQABAIAAAAAAAP///yH5BAEAAAAALAAAAAABAAEAAAIBRAA7\n",
            "<img alt=\"\" aria-hidden=\"true\" role=\"presentation\" src=\"data:image/svg+xml;base64,PHN2ZyB3aWR0aD0iNDQwIiBoZWlnaHQ9IjI2MCIgeG1sbnM9Imh0dHA6Ly93d3cudzMub3JnLzIwMDAvc3ZnIiB2ZXJzaW9uPSIxLjEiLz4=\" style=\"max-width:100%;display:block;margin:0;border:none;padding:0\"/>\n",
            "data:image/svg+xml;base64,PHN2ZyB3aWR0aD0iNDQwIiBoZWlnaHQ9IjI2MCIgeG1sbnM9Imh0dHA6Ly93d3cudzMub3JnLzIwMDAvc3ZnIiB2ZXJzaW9uPSIxLjEiLz4=\n",
            "<img alt=\"Watson Speech to Text\" class=\"ibm-resize ibm-ab-image trials-image\" decoding=\"async\" src=\"https://1.dam.s81c.com/public/content/dam/worldwide-content/homepage/ul/g/a2/ba/Watson-speech-to-text-23705-700x420.png\" style=\"position:absolute;top:0;left:0;bottom:0;right:0;box-sizing:border-box;padding:0;border:none;margin:auto;display:block;width:0;height:0;min-width:100%;max-width:100%;min-height:100%;max-height:100%\"/>\n",
            "https://1.dam.s81c.com/public/content/dam/worldwide-content/homepage/ul/g/a2/ba/Watson-speech-to-text-23705-700x420.png\n",
            "<img alt=\"Watson Speech to Text\" class=\"ibm-resize ibm-ab-image trials-image\" decoding=\"async\" src=\"data:image/gif;base64,R0lGODlhAQABAIAAAAAAAP///yH5BAEAAAAALAAAAAABAAEAAAIBRAA7\" style=\"position:absolute;top:0;left:0;bottom:0;right:0;box-sizing:border-box;padding:0;border:none;margin:auto;display:block;width:0;height:0;min-width:100%;max-width:100%;min-height:100%;max-height:100%\"/>\n",
            "data:image/gif;base64,R0lGODlhAQABAIAAAAAAAP///yH5BAEAAAAALAAAAAABAAEAAAIBRAA7\n"
          ]
        }
      ]
    },
    {
      "cell_type": "markdown",
      "metadata": {
        "id": "cCTcKEA5sRaR"
      },
      "source": [
        "## Scrape data from HTML tables\n"
      ]
    },
    {
      "cell_type": "code",
      "metadata": {
        "id": "cubUErmusRaR"
      },
      "source": [
        "#The below url contains an html table with data about colors and color codes.\n",
        "url = \"https://cf-courses-data.s3.us.cloud-object-storage.appdomain.cloud/IBM-DA0321EN-SkillsNetwork/labs/datasets/HTMLColorCodes.html\""
      ],
      "execution_count": 45,
      "outputs": []
    },
    {
      "cell_type": "markdown",
      "metadata": {
        "id": "R_rlzNlysRaS"
      },
      "source": [
        "Before proceeding to scrape a web site, you need to examine the contents, and the way data is organized on the website. Open the above url in your browser and check how many rows and columns are there in the color table.\n"
      ]
    },
    {
      "cell_type": "code",
      "metadata": {
        "id": "7mtN3ePysRaS"
      },
      "source": [
        "# get the contents of the webpage in text format and store in a variable called data\n",
        "data  = requests.get(url).text"
      ],
      "execution_count": 46,
      "outputs": []
    },
    {
      "cell_type": "code",
      "metadata": {
        "id": "EW3xuJKRsRaS"
      },
      "source": [
        "soup = BeautifulSoup(data,\"html.parser\")"
      ],
      "execution_count": 47,
      "outputs": []
    },
    {
      "cell_type": "code",
      "metadata": {
        "id": "_ZFBhDFJsRaS"
      },
      "source": [
        "#find a html table in the web page\n",
        "table = soup.find('table') # in html table is represented by the tag <table>"
      ],
      "execution_count": 48,
      "outputs": []
    },
    {
      "cell_type": "code",
      "metadata": {
        "id": "hTsSBb_ssRaS",
        "outputId": "4e849922-98c3-4645-d517-19ecbabd12d9",
        "colab": {
          "base_uri": "https://localhost:8080/"
        }
      },
      "source": [
        "#Get all rows from the table\n",
        "for row in table.find_all('tr'): # in html table row is represented by the tag <tr>\n",
        "    # Get all columns in each row.\n",
        "    cols = row.find_all('td') # in html a column is represented by the tag <td>\n",
        "    color_name = cols[2].string # store the value in column 3 as color_name\n",
        "    color_code = cols[3].string # store the value in column 4 as color_code\n",
        "    print(\"{}--->{}\".format(color_name,color_code))"
      ],
      "execution_count": 49,
      "outputs": [
        {
          "output_type": "stream",
          "name": "stdout",
          "text": [
            "Color Name--->None\n",
            "lightsalmon--->#FFA07A\n",
            "salmon--->#FA8072\n",
            "darksalmon--->#E9967A\n",
            "lightcoral--->#F08080\n",
            "coral--->#FF7F50\n",
            "tomato--->#FF6347\n",
            "orangered--->#FF4500\n",
            "gold--->#FFD700\n",
            "orange--->#FFA500\n",
            "darkorange--->#FF8C00\n",
            "lightyellow--->#FFFFE0\n",
            "lemonchiffon--->#FFFACD\n",
            "papayawhip--->#FFEFD5\n",
            "moccasin--->#FFE4B5\n",
            "peachpuff--->#FFDAB9\n",
            "palegoldenrod--->#EEE8AA\n",
            "khaki--->#F0E68C\n",
            "darkkhaki--->#BDB76B\n",
            "yellow--->#FFFF00\n",
            "lawngreen--->#7CFC00\n",
            "chartreuse--->#7FFF00\n",
            "limegreen--->#32CD32\n",
            "lime--->#00FF00\n",
            "forestgreen--->#228B22\n",
            "green--->#008000\n",
            "powderblue--->#B0E0E6\n",
            "lightblue--->#ADD8E6\n",
            "lightskyblue--->#87CEFA\n",
            "skyblue--->#87CEEB\n",
            "deepskyblue--->#00BFFF\n",
            "lightsteelblue--->#B0C4DE\n",
            "dodgerblue--->#1E90FF\n"
          ]
        }
      ]
    },
    {
      "cell_type": "markdown",
      "metadata": {
        "id": "uPHtQ_IgsRaS"
      },
      "source": [
        "## Scrape data from HTML tables into a DataFrame using BeautifulSoup and Pandas\n"
      ]
    },
    {
      "cell_type": "code",
      "metadata": {
        "id": "_mimpR8psRaS"
      },
      "source": [
        "import pandas as pd"
      ],
      "execution_count": 50,
      "outputs": []
    },
    {
      "cell_type": "code",
      "metadata": {
        "id": "8c2vMVKBsRaS"
      },
      "source": [
        "#The below url contains html tables with data about world population.\n",
        "url = \"https://en.wikipedia.org/wiki/World_population\""
      ],
      "execution_count": 51,
      "outputs": []
    },
    {
      "cell_type": "markdown",
      "metadata": {
        "id": "lfZz_XiusRaS"
      },
      "source": [
        "Before proceeding to scrape a web site, you need to examine the contents, and the way data is organized on the website. Open the above url in your browser and check the tables on the webpage.\n"
      ]
    },
    {
      "cell_type": "code",
      "metadata": {
        "id": "o9vswBQCsRaT"
      },
      "source": [
        "# get the contents of the webpage in text format and store in a variable called data\n",
        "data  = requests.get(url).text"
      ],
      "execution_count": 52,
      "outputs": []
    },
    {
      "cell_type": "code",
      "metadata": {
        "id": "Qu5Wib9NsRaT"
      },
      "source": [
        "soup = BeautifulSoup(data,\"html.parser\")"
      ],
      "execution_count": 53,
      "outputs": []
    },
    {
      "cell_type": "code",
      "metadata": {
        "id": "3YfanoeqsRaT"
      },
      "source": [
        "#find all html tables in the web page\n",
        "tables = soup.find_all('table') # in html table is represented by the tag <table>"
      ],
      "execution_count": 54,
      "outputs": []
    },
    {
      "cell_type": "code",
      "metadata": {
        "id": "FahWIeepsRaT",
        "outputId": "ca8b2217-baee-49b4-c280-f777eadb10a2",
        "colab": {
          "base_uri": "https://localhost:8080/"
        }
      },
      "source": [
        "# we can see how many tables were found by checking the length of the tables list\n",
        "len(tables)"
      ],
      "execution_count": 55,
      "outputs": [
        {
          "output_type": "execute_result",
          "data": {
            "text/plain": [
              "26"
            ]
          },
          "metadata": {},
          "execution_count": 55
        }
      ]
    },
    {
      "cell_type": "markdown",
      "metadata": {
        "id": "i02dnNKHsRaT"
      },
      "source": [
        "Assume that we are looking for the `10 most densly populated countries` table, we can look through the tables list and find the right one we are look for based on the data in each table or we can search for the table name if it is in the table but this option might not always work.\n"
      ]
    },
    {
      "cell_type": "code",
      "metadata": {
        "id": "npMjsyASsRaT",
        "outputId": "9e97c45f-7566-42a2-ee46-4a4a7bde3aef",
        "colab": {
          "base_uri": "https://localhost:8080/"
        }
      },
      "source": [
        "for index,table in enumerate(tables):\n",
        "    if (\"10 most densely populated countries\" in str(table)):\n",
        "        table_index = index\n",
        "print(table_index)"
      ],
      "execution_count": 56,
      "outputs": [
        {
          "output_type": "stream",
          "name": "stdout",
          "text": [
            "5\n"
          ]
        }
      ]
    },
    {
      "cell_type": "markdown",
      "metadata": {
        "id": "BA4ECV7gsRaT"
      },
      "source": [
        "See if you can locate the table name of the table, `10 most densly populated countries`, below.\n"
      ]
    },
    {
      "cell_type": "code",
      "metadata": {
        "id": "7p7I_4VXsRaT",
        "outputId": "d713660a-9973-4355-84af-0c867b8b08b3"
      },
      "source": [
        "print(tables[table_index].prettify())"
      ],
      "execution_count": null,
      "outputs": [
        {
          "name": "stdout",
          "output_type": "stream",
          "text": [
            "<table class=\"wikitable sortable\" style=\"text-align:right\">\n",
            " <caption>\n",
            "  10 most densely populated countries\n",
            "  <small>\n",
            "   (with population above 5 million)\n",
            "  </small>\n",
            " </caption>\n",
            " <tbody>\n",
            "  <tr>\n",
            "   <th>\n",
            "    Rank\n",
            "   </th>\n",
            "   <th>\n",
            "    Country\n",
            "   </th>\n",
            "   <th>\n",
            "    Population\n",
            "   </th>\n",
            "   <th>\n",
            "    Area\n",
            "    <br/>\n",
            "    <small>\n",
            "     (km\n",
            "     <sup>\n",
            "      2\n",
            "     </sup>\n",
            "     )\n",
            "    </small>\n",
            "   </th>\n",
            "   <th>\n",
            "    Density\n",
            "    <br/>\n",
            "    <small>\n",
            "     (pop/km\n",
            "     <sup>\n",
            "      2\n",
            "     </sup>\n",
            "     )\n",
            "    </small>\n",
            "   </th>\n",
            "  </tr>\n",
            "  <tr>\n",
            "   <td>\n",
            "    1\n",
            "   </td>\n",
            "   <td align=\"left\">\n",
            "    <span class=\"flagicon\">\n",
            "     <img alt=\"\" class=\"thumbborder\" data-file-height=\"600\" data-file-width=\"900\" decoding=\"async\" height=\"15\" src=\"//upload.wikimedia.org/wikipedia/commons/thumb/4/48/Flag_of_Singapore.svg/23px-Flag_of_Singapore.svg.png\" srcset=\"//upload.wikimedia.org/wikipedia/commons/thumb/4/48/Flag_of_Singapore.svg/35px-Flag_of_Singapore.svg.png 1.5x, //upload.wikimedia.org/wikipedia/commons/thumb/4/48/Flag_of_Singapore.svg/45px-Flag_of_Singapore.svg.png 2x\" width=\"23\"/>\n",
            "    </span>\n",
            "    <a href=\"/wiki/Singapore\" title=\"Singapore\">\n",
            "     Singapore\n",
            "    </a>\n",
            "   </td>\n",
            "   <td>\n",
            "    5,704,000\n",
            "   </td>\n",
            "   <td>\n",
            "    710\n",
            "   </td>\n",
            "   <td>\n",
            "    8,033\n",
            "   </td>\n",
            "  </tr>\n",
            "  <tr>\n",
            "   <td>\n",
            "    2\n",
            "   </td>\n",
            "   <td align=\"left\">\n",
            "    <span class=\"flagicon\">\n",
            "     <img alt=\"\" class=\"thumbborder\" data-file-height=\"600\" data-file-width=\"1000\" decoding=\"async\" height=\"14\" src=\"//upload.wikimedia.org/wikipedia/commons/thumb/f/f9/Flag_of_Bangladesh.svg/23px-Flag_of_Bangladesh.svg.png\" srcset=\"//upload.wikimedia.org/wikipedia/commons/thumb/f/f9/Flag_of_Bangladesh.svg/35px-Flag_of_Bangladesh.svg.png 1.5x, //upload.wikimedia.org/wikipedia/commons/thumb/f/f9/Flag_of_Bangladesh.svg/46px-Flag_of_Bangladesh.svg.png 2x\" width=\"23\"/>\n",
            "    </span>\n",
            "    <a href=\"/wiki/Bangladesh\" title=\"Bangladesh\">\n",
            "     Bangladesh\n",
            "    </a>\n",
            "   </td>\n",
            "   <td>\n",
            "    171,670,000\n",
            "   </td>\n",
            "   <td>\n",
            "    143,998\n",
            "   </td>\n",
            "   <td>\n",
            "    1,192\n",
            "   </td>\n",
            "  </tr>\n",
            "  <tr>\n",
            "   <td>\n",
            "    3\n",
            "   </td>\n",
            "   <td align=\"left\">\n",
            "    <p>\n",
            "     <span class=\"flagicon\">\n",
            "      <img alt=\"\" class=\"thumbborder\" data-file-height=\"600\" data-file-width=\"1200\" decoding=\"async\" height=\"12\" src=\"//upload.wikimedia.org/wikipedia/commons/thumb/0/00/Flag_of_Palestine.svg/23px-Flag_of_Palestine.svg.png\" srcset=\"//upload.wikimedia.org/wikipedia/commons/thumb/0/00/Flag_of_Palestine.svg/35px-Flag_of_Palestine.svg.png 1.5x, //upload.wikimedia.org/wikipedia/commons/thumb/0/00/Flag_of_Palestine.svg/46px-Flag_of_Palestine.svg.png 2x\" width=\"23\"/>\n",
            "     </span>\n",
            "     <a href=\"/wiki/State_of_Palestine\" title=\"State of Palestine\">\n",
            "      Palestine\n",
            "     </a>\n",
            "    </p>\n",
            "   </td>\n",
            "   <td>\n",
            "    5,266,785\n",
            "   </td>\n",
            "   <td>\n",
            "    6,020\n",
            "   </td>\n",
            "   <td>\n",
            "    847\n",
            "   </td>\n",
            "  </tr>\n",
            "  <tr>\n",
            "   <td>\n",
            "    4\n",
            "   </td>\n",
            "   <td align=\"left\">\n",
            "    <span class=\"flagicon\">\n",
            "     <img alt=\"\" class=\"thumbborder\" data-file-height=\"600\" data-file-width=\"900\" decoding=\"async\" height=\"15\" src=\"//upload.wikimedia.org/wikipedia/commons/thumb/5/59/Flag_of_Lebanon.svg/23px-Flag_of_Lebanon.svg.png\" srcset=\"//upload.wikimedia.org/wikipedia/commons/thumb/5/59/Flag_of_Lebanon.svg/35px-Flag_of_Lebanon.svg.png 1.5x, //upload.wikimedia.org/wikipedia/commons/thumb/5/59/Flag_of_Lebanon.svg/45px-Flag_of_Lebanon.svg.png 2x\" width=\"23\"/>\n",
            "    </span>\n",
            "    <a href=\"/wiki/Lebanon\" title=\"Lebanon\">\n",
            "     Lebanon\n",
            "    </a>\n",
            "   </td>\n",
            "   <td>\n",
            "    6,856,000\n",
            "   </td>\n",
            "   <td>\n",
            "    10,452\n",
            "   </td>\n",
            "   <td>\n",
            "    656\n",
            "   </td>\n",
            "  </tr>\n",
            "  <tr>\n",
            "   <td>\n",
            "    5\n",
            "   </td>\n",
            "   <td align=\"left\">\n",
            "    <span class=\"flagicon\">\n",
            "     <img alt=\"\" class=\"thumbborder\" data-file-height=\"600\" data-file-width=\"900\" decoding=\"async\" height=\"15\" src=\"//upload.wikimedia.org/wikipedia/commons/thumb/7/72/Flag_of_the_Republic_of_China.svg/23px-Flag_of_the_Republic_of_China.svg.png\" srcset=\"//upload.wikimedia.org/wikipedia/commons/thumb/7/72/Flag_of_the_Republic_of_China.svg/35px-Flag_of_the_Republic_of_China.svg.png 1.5x, //upload.wikimedia.org/wikipedia/commons/thumb/7/72/Flag_of_the_Republic_of_China.svg/45px-Flag_of_the_Republic_of_China.svg.png 2x\" width=\"23\"/>\n",
            "    </span>\n",
            "    <a href=\"/wiki/Taiwan\" title=\"Taiwan\">\n",
            "     Taiwan\n",
            "    </a>\n",
            "   </td>\n",
            "   <td>\n",
            "    23,604,000\n",
            "   </td>\n",
            "   <td>\n",
            "    36,193\n",
            "   </td>\n",
            "   <td>\n",
            "    652\n",
            "   </td>\n",
            "  </tr>\n",
            "  <tr>\n",
            "   <td>\n",
            "    6\n",
            "   </td>\n",
            "   <td align=\"left\">\n",
            "    <span class=\"flagicon\">\n",
            "     <img alt=\"\" class=\"thumbborder\" data-file-height=\"600\" data-file-width=\"900\" decoding=\"async\" height=\"15\" src=\"//upload.wikimedia.org/wikipedia/commons/thumb/0/09/Flag_of_South_Korea.svg/23px-Flag_of_South_Korea.svg.png\" srcset=\"//upload.wikimedia.org/wikipedia/commons/thumb/0/09/Flag_of_South_Korea.svg/35px-Flag_of_South_Korea.svg.png 1.5x, //upload.wikimedia.org/wikipedia/commons/thumb/0/09/Flag_of_South_Korea.svg/45px-Flag_of_South_Korea.svg.png 2x\" width=\"23\"/>\n",
            "    </span>\n",
            "    <a href=\"/wiki/South_Korea\" title=\"South Korea\">\n",
            "     South Korea\n",
            "    </a>\n",
            "   </td>\n",
            "   <td>\n",
            "    51,781,000\n",
            "   </td>\n",
            "   <td>\n",
            "    99,538\n",
            "   </td>\n",
            "   <td>\n",
            "    520\n",
            "   </td>\n",
            "  </tr>\n",
            "  <tr>\n",
            "   <td>\n",
            "    7\n",
            "   </td>\n",
            "   <td align=\"left\">\n",
            "    <span class=\"flagicon\">\n",
            "     <img alt=\"\" class=\"thumbborder\" data-file-height=\"720\" data-file-width=\"1080\" decoding=\"async\" height=\"15\" src=\"//upload.wikimedia.org/wikipedia/commons/thumb/1/17/Flag_of_Rwanda.svg/23px-Flag_of_Rwanda.svg.png\" srcset=\"//upload.wikimedia.org/wikipedia/commons/thumb/1/17/Flag_of_Rwanda.svg/35px-Flag_of_Rwanda.svg.png 1.5x, //upload.wikimedia.org/wikipedia/commons/thumb/1/17/Flag_of_Rwanda.svg/45px-Flag_of_Rwanda.svg.png 2x\" width=\"23\"/>\n",
            "    </span>\n",
            "    <a href=\"/wiki/Rwanda\" title=\"Rwanda\">\n",
            "     Rwanda\n",
            "    </a>\n",
            "   </td>\n",
            "   <td>\n",
            "    12,374,000\n",
            "   </td>\n",
            "   <td>\n",
            "    26,338\n",
            "   </td>\n",
            "   <td>\n",
            "    470\n",
            "   </td>\n",
            "  </tr>\n",
            "  <tr>\n",
            "   <td>\n",
            "    8\n",
            "   </td>\n",
            "   <td align=\"left\">\n",
            "    <span class=\"flagicon\">\n",
            "     <img alt=\"\" class=\"thumbborder\" data-file-height=\"600\" data-file-width=\"1000\" decoding=\"async\" height=\"14\" src=\"//upload.wikimedia.org/wikipedia/commons/thumb/5/56/Flag_of_Haiti.svg/23px-Flag_of_Haiti.svg.png\" srcset=\"//upload.wikimedia.org/wikipedia/commons/thumb/5/56/Flag_of_Haiti.svg/35px-Flag_of_Haiti.svg.png 1.5x, //upload.wikimedia.org/wikipedia/commons/thumb/5/56/Flag_of_Haiti.svg/46px-Flag_of_Haiti.svg.png 2x\" width=\"23\"/>\n",
            "    </span>\n",
            "    <a href=\"/wiki/Haiti\" title=\"Haiti\">\n",
            "     Haiti\n",
            "    </a>\n",
            "   </td>\n",
            "   <td>\n",
            "    11,578,000\n",
            "   </td>\n",
            "   <td>\n",
            "    27,065\n",
            "   </td>\n",
            "   <td>\n",
            "    428\n",
            "   </td>\n",
            "  </tr>\n",
            "  <tr>\n",
            "   <td>\n",
            "    9\n",
            "   </td>\n",
            "   <td align=\"left\">\n",
            "    <span class=\"flagicon\">\n",
            "     <img alt=\"\" class=\"thumbborder\" data-file-height=\"600\" data-file-width=\"900\" decoding=\"async\" height=\"15\" src=\"//upload.wikimedia.org/wikipedia/commons/thumb/2/20/Flag_of_the_Netherlands.svg/23px-Flag_of_the_Netherlands.svg.png\" srcset=\"//upload.wikimedia.org/wikipedia/commons/thumb/2/20/Flag_of_the_Netherlands.svg/35px-Flag_of_the_Netherlands.svg.png 1.5x, //upload.wikimedia.org/wikipedia/commons/thumb/2/20/Flag_of_the_Netherlands.svg/45px-Flag_of_the_Netherlands.svg.png 2x\" width=\"23\"/>\n",
            "    </span>\n",
            "    <a href=\"/wiki/Netherlands\" title=\"Netherlands\">\n",
            "     Netherlands\n",
            "    </a>\n",
            "   </td>\n",
            "   <td>\n",
            "    17,660,000\n",
            "   </td>\n",
            "   <td>\n",
            "    41,526\n",
            "   </td>\n",
            "   <td>\n",
            "    425\n",
            "   </td>\n",
            "  </tr>\n",
            "  <tr>\n",
            "   <td>\n",
            "    10\n",
            "   </td>\n",
            "   <td align=\"left\">\n",
            "    <span class=\"flagicon\">\n",
            "     <img alt=\"\" class=\"thumbborder\" data-file-height=\"800\" data-file-width=\"1100\" decoding=\"async\" height=\"15\" src=\"//upload.wikimedia.org/wikipedia/commons/thumb/d/d4/Flag_of_Israel.svg/21px-Flag_of_Israel.svg.png\" srcset=\"//upload.wikimedia.org/wikipedia/commons/thumb/d/d4/Flag_of_Israel.svg/32px-Flag_of_Israel.svg.png 1.5x, //upload.wikimedia.org/wikipedia/commons/thumb/d/d4/Flag_of_Israel.svg/41px-Flag_of_Israel.svg.png 2x\" width=\"21\"/>\n",
            "    </span>\n",
            "    <a href=\"/wiki/Israel\" title=\"Israel\">\n",
            "     Israel\n",
            "    </a>\n",
            "   </td>\n",
            "   <td>\n",
            "    9,430,000\n",
            "   </td>\n",
            "   <td>\n",
            "    22,072\n",
            "   </td>\n",
            "   <td>\n",
            "    427\n",
            "   </td>\n",
            "  </tr>\n",
            " </tbody>\n",
            "</table>\n",
            "\n"
          ]
        }
      ]
    },
    {
      "cell_type": "code",
      "metadata": {
        "id": "Ls9VEt9YsRaT",
        "outputId": "843df8f5-07ac-4474-e0f7-64662aacbdea",
        "colab": {
          "base_uri": "https://localhost:8080/",
          "height": 363
        }
      },
      "source": [
        "population_data = pd.DataFrame(columns=[\"Rank\", \"Country\", \"Population\", \"Area\", \"Density\"])\n",
        "\n",
        "for row in tables[table_index].tbody.find_all(\"tr\"):\n",
        "    col = row.find_all(\"td\")\n",
        "    if (col != []):\n",
        "        rank = col[0].text\n",
        "        country = col[1].text\n",
        "        population = col[2].text.strip()\n",
        "        area = col[3].text.strip()\n",
        "        density = col[4].text.strip()\n",
        "        population_data = population_data.append({\"Rank\":rank, \"Country\":country, \"Population\":population, \"Area\":area, \"Density\":density}, ignore_index=True)\n",
        "\n",
        "population_data"
      ],
      "execution_count": 57,
      "outputs": [
        {
          "output_type": "execute_result",
          "data": {
            "text/html": [
              "<div>\n",
              "<style scoped>\n",
              "    .dataframe tbody tr th:only-of-type {\n",
              "        vertical-align: middle;\n",
              "    }\n",
              "\n",
              "    .dataframe tbody tr th {\n",
              "        vertical-align: top;\n",
              "    }\n",
              "\n",
              "    .dataframe thead th {\n",
              "        text-align: right;\n",
              "    }\n",
              "</style>\n",
              "<table border=\"1\" class=\"dataframe\">\n",
              "  <thead>\n",
              "    <tr style=\"text-align: right;\">\n",
              "      <th></th>\n",
              "      <th>Rank</th>\n",
              "      <th>Country</th>\n",
              "      <th>Population</th>\n",
              "      <th>Area</th>\n",
              "      <th>Density</th>\n",
              "    </tr>\n",
              "  </thead>\n",
              "  <tbody>\n",
              "    <tr>\n",
              "      <th>0</th>\n",
              "      <td>1</td>\n",
              "      <td>Singapore</td>\n",
              "      <td>5,704,000</td>\n",
              "      <td>710</td>\n",
              "      <td>8,033</td>\n",
              "    </tr>\n",
              "    <tr>\n",
              "      <th>1</th>\n",
              "      <td>2</td>\n",
              "      <td>Bangladesh</td>\n",
              "      <td>171,780,000</td>\n",
              "      <td>143,998</td>\n",
              "      <td>1,193</td>\n",
              "    </tr>\n",
              "    <tr>\n",
              "      <th>2</th>\n",
              "      <td>3</td>\n",
              "      <td>\\n Palestine\\n\\n</td>\n",
              "      <td>5,266,785</td>\n",
              "      <td>6,020</td>\n",
              "      <td>847</td>\n",
              "    </tr>\n",
              "    <tr>\n",
              "      <th>3</th>\n",
              "      <td>4</td>\n",
              "      <td>Lebanon</td>\n",
              "      <td>6,856,000</td>\n",
              "      <td>10,452</td>\n",
              "      <td>656</td>\n",
              "    </tr>\n",
              "    <tr>\n",
              "      <th>4</th>\n",
              "      <td>5</td>\n",
              "      <td>Taiwan</td>\n",
              "      <td>23,604,000</td>\n",
              "      <td>36,193</td>\n",
              "      <td>652</td>\n",
              "    </tr>\n",
              "    <tr>\n",
              "      <th>5</th>\n",
              "      <td>6</td>\n",
              "      <td>South Korea</td>\n",
              "      <td>51,781,000</td>\n",
              "      <td>99,538</td>\n",
              "      <td>520</td>\n",
              "    </tr>\n",
              "    <tr>\n",
              "      <th>6</th>\n",
              "      <td>7</td>\n",
              "      <td>Rwanda</td>\n",
              "      <td>12,374,000</td>\n",
              "      <td>26,338</td>\n",
              "      <td>470</td>\n",
              "    </tr>\n",
              "    <tr>\n",
              "      <th>7</th>\n",
              "      <td>8</td>\n",
              "      <td>Haiti</td>\n",
              "      <td>11,578,000</td>\n",
              "      <td>27,065</td>\n",
              "      <td>428</td>\n",
              "    </tr>\n",
              "    <tr>\n",
              "      <th>8</th>\n",
              "      <td>9</td>\n",
              "      <td>Netherlands</td>\n",
              "      <td>17,660,000</td>\n",
              "      <td>41,526</td>\n",
              "      <td>425</td>\n",
              "    </tr>\n",
              "    <tr>\n",
              "      <th>9</th>\n",
              "      <td>10</td>\n",
              "      <td>Israel</td>\n",
              "      <td>9,440,000</td>\n",
              "      <td>22,072</td>\n",
              "      <td>428</td>\n",
              "    </tr>\n",
              "  </tbody>\n",
              "</table>\n",
              "</div>"
            ],
            "text/plain": [
              "  Rank           Country   Population     Area Density\n",
              "0    1         Singapore    5,704,000      710   8,033\n",
              "1    2        Bangladesh  171,780,000  143,998   1,193\n",
              "2    3  \\n Palestine\\n\\n    5,266,785    6,020     847\n",
              "3    4           Lebanon    6,856,000   10,452     656\n",
              "4    5            Taiwan   23,604,000   36,193     652\n",
              "5    6       South Korea   51,781,000   99,538     520\n",
              "6    7            Rwanda   12,374,000   26,338     470\n",
              "7    8             Haiti   11,578,000   27,065     428\n",
              "8    9       Netherlands   17,660,000   41,526     425\n",
              "9   10            Israel    9,440,000   22,072     428"
            ]
          },
          "metadata": {},
          "execution_count": 57
        }
      ]
    },
    {
      "cell_type": "markdown",
      "metadata": {
        "id": "GJBolXW1sRaU"
      },
      "source": [
        "## Scrape data from HTML tables into a DataFrame using BeautifulSoup and read_html\n"
      ]
    },
    {
      "cell_type": "markdown",
      "metadata": {
        "id": "KO-SIwwzsRaU"
      },
      "source": [
        "Using the same `url`, `data`, `soup`, and `tables` object as in the last section we can use the `read_html` function to create a DataFrame.\n",
        "\n",
        "Remember the table we need is located in `tables[table_index]`\n",
        "\n",
        "We can now use the `pandas` function `read_html` and give it the string version of the table as well as the `flavor` which is the parsing engine `bs4`.\n"
      ]
    },
    {
      "cell_type": "code",
      "metadata": {
        "id": "_H8T12ZXsRaU",
        "outputId": "3a156b22-f634-46e6-c92b-825a98a5de07",
        "colab": {
          "base_uri": "https://localhost:8080/"
        }
      },
      "source": [
        "pd.read_html(str(tables[5]), flavor='bs4')"
      ],
      "execution_count": 58,
      "outputs": [
        {
          "output_type": "execute_result",
          "data": {
            "text/plain": [
              "[   Rank      Country  Population  Area(km2)  Density(pop/km2)\n",
              " 0     1    Singapore     5704000        710              8033\n",
              " 1     2   Bangladesh   171780000     143998              1193\n",
              " 2     3    Palestine     5266785       6020               847\n",
              " 3     4      Lebanon     6856000      10452               656\n",
              " 4     5       Taiwan    23604000      36193               652\n",
              " 5     6  South Korea    51781000      99538               520\n",
              " 6     7       Rwanda    12374000      26338               470\n",
              " 7     8        Haiti    11578000      27065               428\n",
              " 8     9  Netherlands    17660000      41526               425\n",
              " 9    10       Israel     9440000      22072               428]"
            ]
          },
          "metadata": {},
          "execution_count": 58
        }
      ]
    },
    {
      "cell_type": "markdown",
      "metadata": {
        "id": "UEfSmuS4sRaU"
      },
      "source": [
        "The function `read_html` always returns a list of DataFrames so we must pick the one we want out of the list.\n"
      ]
    },
    {
      "cell_type": "code",
      "metadata": {
        "id": "RnhUYxHdsRaU",
        "outputId": "c615a5fb-ed55-412a-ebc4-460fe7106fde",
        "colab": {
          "base_uri": "https://localhost:8080/",
          "height": 363
        }
      },
      "source": [
        "population_data_read_html = pd.read_html(str(tables[5]), flavor='bs4')[0]\n",
        "\n",
        "population_data_read_html"
      ],
      "execution_count": 59,
      "outputs": [
        {
          "output_type": "execute_result",
          "data": {
            "text/html": [
              "<div>\n",
              "<style scoped>\n",
              "    .dataframe tbody tr th:only-of-type {\n",
              "        vertical-align: middle;\n",
              "    }\n",
              "\n",
              "    .dataframe tbody tr th {\n",
              "        vertical-align: top;\n",
              "    }\n",
              "\n",
              "    .dataframe thead th {\n",
              "        text-align: right;\n",
              "    }\n",
              "</style>\n",
              "<table border=\"1\" class=\"dataframe\">\n",
              "  <thead>\n",
              "    <tr style=\"text-align: right;\">\n",
              "      <th></th>\n",
              "      <th>Rank</th>\n",
              "      <th>Country</th>\n",
              "      <th>Population</th>\n",
              "      <th>Area(km2)</th>\n",
              "      <th>Density(pop/km2)</th>\n",
              "    </tr>\n",
              "  </thead>\n",
              "  <tbody>\n",
              "    <tr>\n",
              "      <th>0</th>\n",
              "      <td>1</td>\n",
              "      <td>Singapore</td>\n",
              "      <td>5704000</td>\n",
              "      <td>710</td>\n",
              "      <td>8033</td>\n",
              "    </tr>\n",
              "    <tr>\n",
              "      <th>1</th>\n",
              "      <td>2</td>\n",
              "      <td>Bangladesh</td>\n",
              "      <td>171780000</td>\n",
              "      <td>143998</td>\n",
              "      <td>1193</td>\n",
              "    </tr>\n",
              "    <tr>\n",
              "      <th>2</th>\n",
              "      <td>3</td>\n",
              "      <td>Palestine</td>\n",
              "      <td>5266785</td>\n",
              "      <td>6020</td>\n",
              "      <td>847</td>\n",
              "    </tr>\n",
              "    <tr>\n",
              "      <th>3</th>\n",
              "      <td>4</td>\n",
              "      <td>Lebanon</td>\n",
              "      <td>6856000</td>\n",
              "      <td>10452</td>\n",
              "      <td>656</td>\n",
              "    </tr>\n",
              "    <tr>\n",
              "      <th>4</th>\n",
              "      <td>5</td>\n",
              "      <td>Taiwan</td>\n",
              "      <td>23604000</td>\n",
              "      <td>36193</td>\n",
              "      <td>652</td>\n",
              "    </tr>\n",
              "    <tr>\n",
              "      <th>5</th>\n",
              "      <td>6</td>\n",
              "      <td>South Korea</td>\n",
              "      <td>51781000</td>\n",
              "      <td>99538</td>\n",
              "      <td>520</td>\n",
              "    </tr>\n",
              "    <tr>\n",
              "      <th>6</th>\n",
              "      <td>7</td>\n",
              "      <td>Rwanda</td>\n",
              "      <td>12374000</td>\n",
              "      <td>26338</td>\n",
              "      <td>470</td>\n",
              "    </tr>\n",
              "    <tr>\n",
              "      <th>7</th>\n",
              "      <td>8</td>\n",
              "      <td>Haiti</td>\n",
              "      <td>11578000</td>\n",
              "      <td>27065</td>\n",
              "      <td>428</td>\n",
              "    </tr>\n",
              "    <tr>\n",
              "      <th>8</th>\n",
              "      <td>9</td>\n",
              "      <td>Netherlands</td>\n",
              "      <td>17660000</td>\n",
              "      <td>41526</td>\n",
              "      <td>425</td>\n",
              "    </tr>\n",
              "    <tr>\n",
              "      <th>9</th>\n",
              "      <td>10</td>\n",
              "      <td>Israel</td>\n",
              "      <td>9440000</td>\n",
              "      <td>22072</td>\n",
              "      <td>428</td>\n",
              "    </tr>\n",
              "  </tbody>\n",
              "</table>\n",
              "</div>"
            ],
            "text/plain": [
              "   Rank      Country  Population  Area(km2)  Density(pop/km2)\n",
              "0     1    Singapore     5704000        710              8033\n",
              "1     2   Bangladesh   171780000     143998              1193\n",
              "2     3    Palestine     5266785       6020               847\n",
              "3     4      Lebanon     6856000      10452               656\n",
              "4     5       Taiwan    23604000      36193               652\n",
              "5     6  South Korea    51781000      99538               520\n",
              "6     7       Rwanda    12374000      26338               470\n",
              "7     8        Haiti    11578000      27065               428\n",
              "8     9  Netherlands    17660000      41526               425\n",
              "9    10       Israel     9440000      22072               428"
            ]
          },
          "metadata": {},
          "execution_count": 59
        }
      ]
    },
    {
      "cell_type": "markdown",
      "metadata": {
        "id": "rTObK5BLsRaU"
      },
      "source": [
        "## Scrape data from HTML tables into a DataFrame using read_html\n"
      ]
    },
    {
      "cell_type": "markdown",
      "metadata": {
        "id": "qBzC6wOTsRaU"
      },
      "source": [
        "We can also use the `read_html` function to directly get DataFrames from a `url`.\n"
      ]
    },
    {
      "cell_type": "code",
      "metadata": {
        "id": "1BSitmVCsRaU"
      },
      "source": [
        "dataframe_list = pd.read_html(url, flavor='bs4')"
      ],
      "execution_count": 60,
      "outputs": []
    },
    {
      "cell_type": "markdown",
      "metadata": {
        "id": "J3IsqYl-sRaU"
      },
      "source": [
        "We can see there are 25 DataFrames just like when we used `find_all` on the `soup` object.\n"
      ]
    },
    {
      "cell_type": "code",
      "metadata": {
        "id": "4kV7vMyLsRaV",
        "outputId": "b208fa8d-14f5-46c1-943c-e13afb8466f1",
        "colab": {
          "base_uri": "https://localhost:8080/"
        }
      },
      "source": [
        "len(dataframe_list)"
      ],
      "execution_count": 61,
      "outputs": [
        {
          "output_type": "execute_result",
          "data": {
            "text/plain": [
              "26"
            ]
          },
          "metadata": {},
          "execution_count": 61
        }
      ]
    },
    {
      "cell_type": "markdown",
      "metadata": {
        "id": "EWZt9DgAsRaV"
      },
      "source": [
        "Finally we can pick the DataFrame we need out of the list.\n"
      ]
    },
    {
      "cell_type": "code",
      "metadata": {
        "id": "pRr5ANhXsRaV",
        "outputId": "67cd7ca7-40f6-44ae-9d8b-84daacee0409",
        "colab": {
          "base_uri": "https://localhost:8080/",
          "height": 363
        }
      },
      "source": [
        "dataframe_list[5]"
      ],
      "execution_count": 62,
      "outputs": [
        {
          "output_type": "execute_result",
          "data": {
            "text/html": [
              "<div>\n",
              "<style scoped>\n",
              "    .dataframe tbody tr th:only-of-type {\n",
              "        vertical-align: middle;\n",
              "    }\n",
              "\n",
              "    .dataframe tbody tr th {\n",
              "        vertical-align: top;\n",
              "    }\n",
              "\n",
              "    .dataframe thead th {\n",
              "        text-align: right;\n",
              "    }\n",
              "</style>\n",
              "<table border=\"1\" class=\"dataframe\">\n",
              "  <thead>\n",
              "    <tr style=\"text-align: right;\">\n",
              "      <th></th>\n",
              "      <th>Rank</th>\n",
              "      <th>Country</th>\n",
              "      <th>Population</th>\n",
              "      <th>Area(km2)</th>\n",
              "      <th>Density(pop/km2)</th>\n",
              "    </tr>\n",
              "  </thead>\n",
              "  <tbody>\n",
              "    <tr>\n",
              "      <th>0</th>\n",
              "      <td>1</td>\n",
              "      <td>Singapore</td>\n",
              "      <td>5704000</td>\n",
              "      <td>710</td>\n",
              "      <td>8033</td>\n",
              "    </tr>\n",
              "    <tr>\n",
              "      <th>1</th>\n",
              "      <td>2</td>\n",
              "      <td>Bangladesh</td>\n",
              "      <td>171780000</td>\n",
              "      <td>143998</td>\n",
              "      <td>1193</td>\n",
              "    </tr>\n",
              "    <tr>\n",
              "      <th>2</th>\n",
              "      <td>3</td>\n",
              "      <td>Palestine</td>\n",
              "      <td>5266785</td>\n",
              "      <td>6020</td>\n",
              "      <td>847</td>\n",
              "    </tr>\n",
              "    <tr>\n",
              "      <th>3</th>\n",
              "      <td>4</td>\n",
              "      <td>Lebanon</td>\n",
              "      <td>6856000</td>\n",
              "      <td>10452</td>\n",
              "      <td>656</td>\n",
              "    </tr>\n",
              "    <tr>\n",
              "      <th>4</th>\n",
              "      <td>5</td>\n",
              "      <td>Taiwan</td>\n",
              "      <td>23604000</td>\n",
              "      <td>36193</td>\n",
              "      <td>652</td>\n",
              "    </tr>\n",
              "    <tr>\n",
              "      <th>5</th>\n",
              "      <td>6</td>\n",
              "      <td>South Korea</td>\n",
              "      <td>51781000</td>\n",
              "      <td>99538</td>\n",
              "      <td>520</td>\n",
              "    </tr>\n",
              "    <tr>\n",
              "      <th>6</th>\n",
              "      <td>7</td>\n",
              "      <td>Rwanda</td>\n",
              "      <td>12374000</td>\n",
              "      <td>26338</td>\n",
              "      <td>470</td>\n",
              "    </tr>\n",
              "    <tr>\n",
              "      <th>7</th>\n",
              "      <td>8</td>\n",
              "      <td>Haiti</td>\n",
              "      <td>11578000</td>\n",
              "      <td>27065</td>\n",
              "      <td>428</td>\n",
              "    </tr>\n",
              "    <tr>\n",
              "      <th>8</th>\n",
              "      <td>9</td>\n",
              "      <td>Netherlands</td>\n",
              "      <td>17660000</td>\n",
              "      <td>41526</td>\n",
              "      <td>425</td>\n",
              "    </tr>\n",
              "    <tr>\n",
              "      <th>9</th>\n",
              "      <td>10</td>\n",
              "      <td>Israel</td>\n",
              "      <td>9440000</td>\n",
              "      <td>22072</td>\n",
              "      <td>428</td>\n",
              "    </tr>\n",
              "  </tbody>\n",
              "</table>\n",
              "</div>"
            ],
            "text/plain": [
              "   Rank      Country  Population  Area(km2)  Density(pop/km2)\n",
              "0     1    Singapore     5704000        710              8033\n",
              "1     2   Bangladesh   171780000     143998              1193\n",
              "2     3    Palestine     5266785       6020               847\n",
              "3     4      Lebanon     6856000      10452               656\n",
              "4     5       Taiwan    23604000      36193               652\n",
              "5     6  South Korea    51781000      99538               520\n",
              "6     7       Rwanda    12374000      26338               470\n",
              "7     8        Haiti    11578000      27065               428\n",
              "8     9  Netherlands    17660000      41526               425\n",
              "9    10       Israel     9440000      22072               428"
            ]
          },
          "metadata": {},
          "execution_count": 62
        }
      ]
    },
    {
      "cell_type": "markdown",
      "metadata": {
        "id": "F7AWkagPsRaV"
      },
      "source": [
        "We can also use the `match` parameter to select the specific table we want. If the table contains a string matching the text it will be read.\n"
      ]
    },
    {
      "cell_type": "code",
      "metadata": {
        "id": "91c8SYjWsRaV",
        "outputId": "3f21d53b-926b-4790-be48-79bfeb11b1af",
        "colab": {
          "base_uri": "https://localhost:8080/",
          "height": 363
        }
      },
      "source": [
        "pd.read_html(url, match=\"10 most densely populated countries\", flavor='bs4')[0]"
      ],
      "execution_count": 63,
      "outputs": [
        {
          "output_type": "execute_result",
          "data": {
            "text/html": [
              "<div>\n",
              "<style scoped>\n",
              "    .dataframe tbody tr th:only-of-type {\n",
              "        vertical-align: middle;\n",
              "    }\n",
              "\n",
              "    .dataframe tbody tr th {\n",
              "        vertical-align: top;\n",
              "    }\n",
              "\n",
              "    .dataframe thead th {\n",
              "        text-align: right;\n",
              "    }\n",
              "</style>\n",
              "<table border=\"1\" class=\"dataframe\">\n",
              "  <thead>\n",
              "    <tr style=\"text-align: right;\">\n",
              "      <th></th>\n",
              "      <th>Rank</th>\n",
              "      <th>Country</th>\n",
              "      <th>Population</th>\n",
              "      <th>Area(km2)</th>\n",
              "      <th>Density(pop/km2)</th>\n",
              "    </tr>\n",
              "  </thead>\n",
              "  <tbody>\n",
              "    <tr>\n",
              "      <th>0</th>\n",
              "      <td>1</td>\n",
              "      <td>Singapore</td>\n",
              "      <td>5704000</td>\n",
              "      <td>710</td>\n",
              "      <td>8033</td>\n",
              "    </tr>\n",
              "    <tr>\n",
              "      <th>1</th>\n",
              "      <td>2</td>\n",
              "      <td>Bangladesh</td>\n",
              "      <td>171780000</td>\n",
              "      <td>143998</td>\n",
              "      <td>1193</td>\n",
              "    </tr>\n",
              "    <tr>\n",
              "      <th>2</th>\n",
              "      <td>3</td>\n",
              "      <td>Palestine</td>\n",
              "      <td>5266785</td>\n",
              "      <td>6020</td>\n",
              "      <td>847</td>\n",
              "    </tr>\n",
              "    <tr>\n",
              "      <th>3</th>\n",
              "      <td>4</td>\n",
              "      <td>Lebanon</td>\n",
              "      <td>6856000</td>\n",
              "      <td>10452</td>\n",
              "      <td>656</td>\n",
              "    </tr>\n",
              "    <tr>\n",
              "      <th>4</th>\n",
              "      <td>5</td>\n",
              "      <td>Taiwan</td>\n",
              "      <td>23604000</td>\n",
              "      <td>36193</td>\n",
              "      <td>652</td>\n",
              "    </tr>\n",
              "    <tr>\n",
              "      <th>5</th>\n",
              "      <td>6</td>\n",
              "      <td>South Korea</td>\n",
              "      <td>51781000</td>\n",
              "      <td>99538</td>\n",
              "      <td>520</td>\n",
              "    </tr>\n",
              "    <tr>\n",
              "      <th>6</th>\n",
              "      <td>7</td>\n",
              "      <td>Rwanda</td>\n",
              "      <td>12374000</td>\n",
              "      <td>26338</td>\n",
              "      <td>470</td>\n",
              "    </tr>\n",
              "    <tr>\n",
              "      <th>7</th>\n",
              "      <td>8</td>\n",
              "      <td>Haiti</td>\n",
              "      <td>11578000</td>\n",
              "      <td>27065</td>\n",
              "      <td>428</td>\n",
              "    </tr>\n",
              "    <tr>\n",
              "      <th>8</th>\n",
              "      <td>9</td>\n",
              "      <td>Netherlands</td>\n",
              "      <td>17660000</td>\n",
              "      <td>41526</td>\n",
              "      <td>425</td>\n",
              "    </tr>\n",
              "    <tr>\n",
              "      <th>9</th>\n",
              "      <td>10</td>\n",
              "      <td>Israel</td>\n",
              "      <td>9440000</td>\n",
              "      <td>22072</td>\n",
              "      <td>428</td>\n",
              "    </tr>\n",
              "  </tbody>\n",
              "</table>\n",
              "</div>"
            ],
            "text/plain": [
              "   Rank      Country  Population  Area(km2)  Density(pop/km2)\n",
              "0     1    Singapore     5704000        710              8033\n",
              "1     2   Bangladesh   171780000     143998              1193\n",
              "2     3    Palestine     5266785       6020               847\n",
              "3     4      Lebanon     6856000      10452               656\n",
              "4     5       Taiwan    23604000      36193               652\n",
              "5     6  South Korea    51781000      99538               520\n",
              "6     7       Rwanda    12374000      26338               470\n",
              "7     8        Haiti    11578000      27065               428\n",
              "8     9  Netherlands    17660000      41526               425\n",
              "9    10       Israel     9440000      22072               428"
            ]
          },
          "metadata": {},
          "execution_count": 63
        }
      ]
    },
    {
      "cell_type": "markdown",
      "metadata": {
        "id": "mJr3wmtBsRaV"
      },
      "source": [
        "## Authors\n"
      ]
    },
    {
      "cell_type": "markdown",
      "metadata": {
        "id": "U4UMsLEQsRaV"
      },
      "source": [
        "Ramesh Sannareddy\n"
      ]
    },
    {
      "cell_type": "markdown",
      "metadata": {
        "id": "SJT2A-c-sRaV"
      },
      "source": [
        "### Other Contributors\n"
      ]
    },
    {
      "cell_type": "markdown",
      "metadata": {
        "id": "HqnvjG5VsRaV"
      },
      "source": [
        "Rav Ahuja\n"
      ]
    },
    {
      "cell_type": "markdown",
      "metadata": {
        "id": "lllsjQiesRaV"
      },
      "source": [
        "## Change Log\n"
      ]
    },
    {
      "cell_type": "markdown",
      "metadata": {
        "id": "mQnVk0W5sRaW"
      },
      "source": [
        "| Date (YYYY-MM-DD) | Version | Changed By                                               | Change Description |\n",
        "| ----------------- | ------- | -------------------------------------------------------- | ------------------ |\n",
        "| 2021-08-04        | 0.2     | Made changes to markdown of nextsibling                  |                    |\n",
        "| 2020-10-17        | 0.1     | Joseph Santarcangelo  Created initial version of the lab |                    |\n"
      ]
    },
    {
      "cell_type": "markdown",
      "metadata": {
        "id": "yxEfI1rPsRaW"
      },
      "source": [
        "Copyright © 2020 IBM Corporation. This notebook and its source code are released under the terms of the [MIT License](https://cognitiveclass.ai/mit-license?utm_medium=Exinfluencer&utm_source=Exinfluencer&utm_content=000026UJ&utm_term=10006555&utm_id=NA-SkillsNetwork-Channel-SkillsNetworkCoursesIBMDeveloperSkillsNetworkPY0220ENSkillsNetwork23455606-2021-01-01&cm_mmc=Email_Newsletter-\\_-Developer_Ed%2BTech-\\_-WW_WW-\\_-SkillsNetwork-Courses-IBMDeveloperSkillsNetwork-PY0101EN-SkillsNetwork-19487395&cm_mmca1=000026UJ&cm_mmca2=10006555&cm_mmca3=M12345678&cvosrc=email.Newsletter.M12345678&cvo_campaign=000026UJ).\n"
      ]
    },
    {
      "cell_type": "code",
      "metadata": {
        "id": "XvhyTqdBsRaW"
      },
      "source": [
        ""
      ],
      "execution_count": null,
      "outputs": []
    },
    {
      "cell_type": "code",
      "metadata": {
        "id": "9Xwmt53JsRaW"
      },
      "source": [
        ""
      ],
      "execution_count": null,
      "outputs": []
    }
  ]
}